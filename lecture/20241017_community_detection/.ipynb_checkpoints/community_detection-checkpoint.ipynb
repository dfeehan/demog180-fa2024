{
 "cells": [
  {
   "cell_type": "code",
   "execution_count": null,
   "id": "32884328",
   "metadata": {},
   "outputs": [],
   "source": [
    "from datascience import *\n",
    "\n",
    "import matplotlib\n",
    "matplotlib.use('Agg')\n",
    "%matplotlib inline\n",
    "import matplotlib.pyplot as plt\n",
    "import numpy as np\n",
    "plt.style.use('fivethirtyeight')\n",
    "\n",
    "import os\n",
    "import networkx as nx\n",
    "import pandas as pd\n"
   ]
  },
  {
   "cell_type": "markdown",
   "id": "2f259efd",
   "metadata": {},
   "source": [
    "# Lecture demo: Community detection using the Newman-Girvan method"
   ]
  },
  {
   "cell_type": "markdown",
   "id": "b02f6eba",
   "metadata": {},
   "source": [
    "## Quick review of key concepts"
   ]
  },
  {
   "cell_type": "markdown",
   "id": "be71ae6a",
   "metadata": {},
   "source": [
    "Let's start with a quick review of two key concepts that we need to understand Newman and Girvan's method"
   ]
  },
  {
   "cell_type": "markdown",
   "id": "056eb598",
   "metadata": {},
   "source": [
    "### Edge betweenness"
   ]
  },
  {
   "cell_type": "markdown",
   "id": "e0a2c35d",
   "metadata": {},
   "source": [
    "The betweenness centrality of an edge $e$ is defined as the fraction of all shortest paths between all pairs of nodes in the network that pass through $e$.\n",
    "\n",
    "Mathematically, this [can be written](https://en.wikipedia.org/wiki/Betweenness_centrality)\n",
    "\n",
    "$$bc(e) = \\sum_{s, t \\in V} \\frac{\\sigma(s, t | e)}{\\sigma(s, t)},$$\n",
    "\n",
    "where \n",
    "\n",
    "* $bc(e)$ is the betweenness centrality of edge $e$\n",
    "* $\\sigma(s,t)$ is the number of shortest paths between node $s$ and node $t$ (note that there can be more than one) \n",
    "* $\\sigma(s, t | e)$ is the number of the shortest paths between node $s$ and node $t$ that goes through $e$\n"
   ]
  },
  {
   "cell_type": "markdown",
   "id": "1a115e27",
   "metadata": {},
   "source": [
    "### The modularity Q\n",
    "\n",
    "If a network's nodes have been divided into communities, how can we tell how 'good' the division is? [Newman](https://arxiv.org/pdf/cond-mat/0205405.pdf) proposed a metric called the **modularity** to answer this question.\n",
    "\n",
    "* suppose that the nodes have all been divided into discrete groups called *commmunities*\n",
    "* let $a_i$ be the fraction of ends of edges ('stubs') in a network that are connected to nodes in community $i$\n",
    "* let $e_{ij}$ be the fraction of edges in a network ('stubs') that connect nodes in community $i$ to nodes in community $j$\n",
    "\n",
    "\n",
    "Newman's *modularity* is:\n",
    "\n",
    "$$Q = \\sum_i (e_{ii} - a_i^2)$$\n",
    "\n",
    "Note that\n",
    "\n",
    "* $Q < 1$ (i.e., $Q$ can never be 1)\n",
    "* $Q > 0$ means that more edges connect nodes that are members of the same community than would be expected under a null model in which connections are formed at random\n",
    "* $Q=0$ means that the network has exactly the number of eges connecting nodes that are members of the same community as we'd predict from a null model in which connections are formed at random\n",
    "* $Q < 0$ means that fewer edges connect nodes that are members of the same community than would be expected under a null model in which connections were formed at random\n",
    "\n",
    "Larger values of modularity imply \n",
    "\n",
    "* members of the same community tend to be more connected to each other than to nodes in other communities\n",
    "* a better division of the nodes into communities\n"
   ]
  },
  {
   "cell_type": "markdown",
   "id": "8ea266db",
   "metadata": {},
   "source": [
    "## Dolphins"
   ]
  },
  {
   "cell_type": "markdown",
   "id": "77044373",
   "metadata": {},
   "source": [
    "The dolphin data come from [Mark Newman's website](http://websites.umich.edu/~mejn/netdata/) and were originally described in [Lusseau et al (2003)](https://link.springer.com/article/10.1007/s00265-003-0651-y)."
   ]
  },
  {
   "cell_type": "markdown",
   "id": "71bcd0a1",
   "metadata": {},
   "source": [
    "These data are stored in a format called `GML`, which `networkx` can read in easily:"
   ]
  },
  {
   "cell_type": "code",
   "execution_count": null,
   "id": "e4049e98",
   "metadata": {},
   "outputs": [],
   "source": [
    "dolphin_net = nx.read_gml(\"dolphins/dolphins.gml\")"
   ]
  },
  {
   "cell_type": "code",
   "execution_count": null,
   "id": "6e3d7ba7",
   "metadata": {},
   "outputs": [],
   "source": [
    "nx.draw_networkx(dolphin_net)"
   ]
  },
  {
   "cell_type": "code",
   "execution_count": null,
   "id": "6397541b",
   "metadata": {},
   "outputs": [],
   "source": [
    "dolphin_net.number_of_edges()"
   ]
  },
  {
   "cell_type": "code",
   "execution_count": null,
   "id": "9c03137d",
   "metadata": {},
   "outputs": [],
   "source": [
    "dolphin_net.number_of_nodes()"
   ]
  },
  {
   "cell_type": "code",
   "execution_count": null,
   "id": "774f7853",
   "metadata": {},
   "outputs": [],
   "source": [
    "dolphin_communities = list(nx.community.girvan_newman(dolphin_net))"
   ]
  },
  {
   "cell_type": "markdown",
   "id": "680a4a30",
   "metadata": {},
   "source": [
    "This gives a list of divisions of the nodes into communities.  \n",
    "The 0th entry divides the network into 2 communities.  \n",
    "The 1st entry divides the network into 3 communities.  \n",
    "... and so on  "
   ]
  },
  {
   "cell_type": "code",
   "execution_count": null,
   "id": "b57aa16e",
   "metadata": {},
   "outputs": [],
   "source": [
    "# the first division into communities (at index 0)\n",
    "# gives two communities\n",
    "dolphin_communities[0]"
   ]
  },
  {
   "cell_type": "markdown",
   "id": "2ce9a57d",
   "metadata": {},
   "source": [
    "Let's visualize these communities"
   ]
  },
  {
   "cell_type": "markdown",
   "id": "dae9b179",
   "metadata": {},
   "source": [
    "Here are some helper functions, which I based on the `networkx` package reference page:\n",
    "https://networkx.org/documentation/stable/auto_examples/algorithms/plot_girvan_newman.html#sphx-glr-download-auto-examples-algorithms-plot-girvan-newman-py\n"
   ]
  },
  {
   "cell_type": "code",
   "execution_count": null,
   "id": "9c1fd931",
   "metadata": {},
   "outputs": [],
   "source": [
    "# function to create node colour list, given\n",
    "# a set of communities\n",
    "def create_community_node_colors(graph, communities):\n",
    "    number_of_colors = len(communities)    \n",
    "    #colors = [\"#D4FCB1\", \"#CDC5FC\", \"#FFC2C4\", \"#F2D140\", \"#BCC6C8\"][:number_of_colors]\n",
    "    # colormap ref:\n",
    "    # https://matplotlib.org/stable/gallery/color/colormap_reference.html\n",
    "    cur_cm = plt.cm.get_cmap('tab10', number_of_colors)\n",
    "    colors = [matplotlib.colors.rgb2hex(cur_cm(i)) for i in range(cur_cm.N)]\n",
    "    node_colors = []\n",
    "    for node in graph:\n",
    "        current_community_index = 0\n",
    "        for community in communities:\n",
    "            if node in community:\n",
    "                node_colors.append(colors[current_community_index])\n",
    "                break\n",
    "            current_community_index += 1\n",
    "    return node_colors\n",
    "\n",
    "\n",
    "# function to plot network with node colouring based on communities\n",
    "def visualize_communities(graph, communities, i):\n",
    "    node_colors = create_community_node_colors(graph, communities)\n",
    "    modularity = round(nx.community.modularity(graph, communities), 6)\n",
    "    title = f\"Community Visualization of {len(communities)} communities with modularity of {modularity}\"\n",
    "    pos = nx.spring_layout(graph, k=0.3, iterations=50, seed=2)\n",
    "    plt.subplot(3, 1, i)\n",
    "    plt.title(title)\n",
    "    #nx.draw(\n",
    "    #    graph,\n",
    "    #    pos=pos,\n",
    "    #    node_size=1000,\n",
    "    #    node_color=node_colors,\n",
    "    #    with_labels=True,\n",
    "    #    font_size=20,\n",
    "    #    font_color=\"black\",\n",
    "    #)\n",
    "    nx.draw_networkx_nodes(\n",
    "        graph,\n",
    "        pos=pos,\n",
    "        node_size=1000,\n",
    "        node_color=node_colors,\n",
    "        #labels = True,\n",
    "        #font_size=20,\n",
    "        #font_color='black'\n",
    "    )\n",
    "    nx.draw_networkx_labels(\n",
    "        graph,\n",
    "        pos=pos,\n",
    "        #font_size=20,\n",
    "        #font_color='black'\n",
    "    )\n",
    "    nx.draw_networkx_edges(\n",
    "        graph,\n",
    "        pos=pos\n",
    "    )"
   ]
  },
  {
   "cell_type": "code",
   "execution_count": null,
   "id": "fbabfe28",
   "metadata": {},
   "outputs": [],
   "source": [
    "fig, ax = plt.subplots(1, figsize=(15, 20))\n",
    "visualize_communities(dolphin_net, dolphin_communities[0], 1)"
   ]
  },
  {
   "cell_type": "code",
   "execution_count": null,
   "id": "efbe5ed6",
   "metadata": {},
   "outputs": [],
   "source": [
    "# we can also look at a division into more communities - say 6:\n",
    "\n",
    "fig, ax = plt.subplots(1, figsize=(15, 20))\n",
    "visualize_communities(dolphin_net, dolphin_communities[4], 1)"
   ]
  },
  {
   "cell_type": "markdown",
   "id": "bd824299",
   "metadata": {},
   "source": []
  },
  {
   "cell_type": "markdown",
   "id": "52dc6e34",
   "metadata": {},
   "source": [
    "Recall that the Newman-Girvan method gives us many different community groupings.  \n",
    "  \n",
    "Let's go through and calculate the modularity of each grouping"
   ]
  },
  {
   "cell_type": "code",
   "execution_count": null,
   "id": "d8a9b075",
   "metadata": {},
   "outputs": [],
   "source": [
    "# Modularity -> measures the strength of division of a network into modules\n",
    "modularity_df = pd.DataFrame(\n",
    "    [\n",
    "        # pair w/ number of edges removed and the \n",
    "        # calculated modularity for the corresponding division into communities\n",
    "        [k + 1, nx.community.modularity(dolphin_net, dolphin_communities[k])]\n",
    "        for k in range(len(dolphin_communities))\n",
    "    ],\n",
    "    columns=[\"k\", \"modularity\"],\n",
    ")\n"
   ]
  },
  {
   "cell_type": "code",
   "execution_count": null,
   "id": "30943969",
   "metadata": {},
   "outputs": [],
   "source": [
    "modularity_df.head()"
   ]
  },
  {
   "cell_type": "code",
   "execution_count": null,
   "id": "18dd9d73",
   "metadata": {},
   "outputs": [],
   "source": [
    "fig, ax = plt.subplots(1, figsize=(15, 10))\n",
    "\n",
    "# Plot change in modularity as the important edges are removed\n",
    "modularity_df.plot.bar(\n",
    "    x=\"k\",\n",
    "    ax=ax,\n",
    "    color=\"#F2D140\",\n",
    "    title=\"Modularity as a function of the number of communities (Newman-Girvan)\",\n",
    ")\n",
    "plt.show()"
   ]
  },
  {
   "cell_type": "markdown",
   "id": "76e6c46f",
   "metadata": {},
   "source": [
    "And here is a nice figure that shows\n",
    "\n",
    "* the division into two communities\n",
    "* the division into four communities (which is optimal, according to modularity)\n",
    "* the modularity value as a function of the number of communities"
   ]
  },
  {
   "cell_type": "code",
   "execution_count": null,
   "id": "3df983f9",
   "metadata": {},
   "outputs": [],
   "source": [
    "fig, ax = plt.subplots(3, figsize=(15, 20))\n",
    "\n",
    "# Plot graph with colouring based on communities\n",
    "visualize_communities(dolphin_net, dolphin_communities[0], 1)\n",
    "visualize_communities(dolphin_net, dolphin_communities[3], 2)\n",
    "\n",
    "# Plot change in modularity as the important edges are removed\n",
    "modularity_df.plot.bar(\n",
    "    x=\"k\",\n",
    "    ax=ax[2],\n",
    "    color=\"#F2D140\",\n",
    "    title=\"Modularity Trend for Girvan-Newman Community Detection\",\n",
    ")\n",
    "plt.show()"
   ]
  },
  {
   "cell_type": "code",
   "execution_count": null,
   "id": "aa39b10e",
   "metadata": {},
   "outputs": [],
   "source": []
  }
 ],
 "metadata": {
  "kernelspec": {
   "display_name": "Python 3",
   "language": "python",
   "name": "python3"
  },
  "language_info": {
   "codemirror_mode": {
    "name": "ipython",
    "version": 3
   },
   "file_extension": ".py",
   "mimetype": "text/x-python",
   "name": "python",
   "nbconvert_exporter": "python",
   "pygments_lexer": "ipython3",
   "version": "3.7.7"
  }
 },
 "nbformat": 4,
 "nbformat_minor": 5
}
