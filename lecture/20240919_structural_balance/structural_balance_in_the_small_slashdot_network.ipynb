{
 "cells": [
  {
   "cell_type": "code",
   "execution_count": null,
   "metadata": {},
   "outputs": [],
   "source": [
    "from datascience import *\n",
    "\n",
    "import matplotlib\n",
    "matplotlib.use('Agg')\n",
    "%matplotlib inline\n",
    "import matplotlib.pyplot as plt\n",
    "import numpy as np\n",
    "plt.style.use('fivethirtyeight')\n",
    "\n",
    "import os\n",
    "import zipfile\n",
    "import requests\n",
    "import io\n",
    "import pandas as pd\n",
    "import networkx as nx\n",
    "import itertools"
   ]
  },
  {
   "cell_type": "markdown",
   "metadata": {},
   "source": [
    "## Balance theory and signed networks"
   ]
  },
  {
   "cell_type": "markdown",
   "metadata": {},
   "source": [
    "This notebook explores an example of a signed network.\n",
    "\n",
    "The analysis is inspired by [Leskovec et al, 2010](https://dl.acm.org/citation.cfm?id=1753532), and the dataset we use here is a simplified version of one of the datasets those researchers studied. The simplified dataset comes from the [aminer data repository](https://aminer.org/data-sna). (You should consider this notebook an illustration of some of the concepts we've discussed in class, but this dataset is not research-quality.)"
   ]
  },
  {
   "cell_type": "markdown",
   "metadata": {},
   "source": [
    "### Load the data"
   ]
  },
  {
   "cell_type": "markdown",
   "metadata": {},
   "source": [
    "**Small slashdot data**"
   ]
  },
  {
   "cell_type": "code",
   "execution_count": null,
   "metadata": {},
   "outputs": [],
   "source": [
    "# small version of slashdot dataset from from: \n",
    "# https://aminer.org/data-sna\n",
    "\n",
    "#data_url = os.path.expanduser(os.path.join(\"~\", \"Dropbox\", \"data-explore\", \"slashdot-small\", \"slashdot.txt\"))\n",
    "#raw_data = pd.read_csv(data_url, sep=\"\\t\", skiprows=1, header=None) # skip the first row\n",
    "\n",
    "## read the data in from the online repository\n",
    "data_url = \"http://arnetminer.org/lab-datasets/infer_social_tie_across_heter/Data/slashdot.zip\"\n",
    "\n",
    "import requests, zipfile, io\n",
    "r = requests.get(data_url)\n",
    "\n",
    "with zipfile.ZipFile(io.BytesIO(r.content)) as z:\n",
    "    with z.open(\"slashdot.txt\") as f:\n",
    "        raw_data = pd.read_csv(f, sep=\"\\t\", skiprows=1, header=None) # skip the first row\n",
    "\n",
    "# rename the columns\n",
    "raw_data = raw_data.rename(index=str, columns={0 : \"from\", 1 : \"to\", 2 : \"sign\"})\n",
    "raw_data.head()"
   ]
  },
  {
   "cell_type": "markdown",
   "metadata": {},
   "source": [
    "#### Create a `networkx` object from the edge list"
   ]
  },
  {
   "cell_type": "code",
   "execution_count": null,
   "metadata": {},
   "outputs": [],
   "source": [
    "%%time\n",
    "\n",
    "# create a network from the message logs\n",
    "raw_net = nx.from_pandas_edgelist(raw_data, \n",
    "                                   source='from', \n",
    "                                   target='to', \n",
    "                                   edge_attr=['sign'], \n",
    "                                   create_using=nx.DiGraph())\n",
    "\n",
    "print(\"Number of nodes: \", raw_net.number_of_nodes())\n",
    "print(\"Number of edges: \", raw_net.number_of_edges())"
   ]
  },
  {
   "cell_type": "markdown",
   "metadata": {},
   "source": [
    "#### Convert directed network into an undirected network"
   ]
  },
  {
   "cell_type": "markdown",
   "metadata": {},
   "source": [
    "Take the signed network and convert the signed, directed edges into signed, undirected edges.  \n",
    "(The `to_undirected` function will produce an undirected edge between v1 and v2 if either there is a v1 -> v2 link, or a v2 -> v1 link. If both links exist, the data from one of the two is chosen arbitrarily to be the data for the undirected link.)"
   ]
  },
  {
   "cell_type": "code",
   "execution_count": null,
   "metadata": {},
   "outputs": [],
   "source": [
    "undir_net = raw_net.to_undirected()"
   ]
  },
  {
   "cell_type": "markdown",
   "metadata": {},
   "source": [
    "Calculate the embeddedness of each edge and add it as an attribute (this will save time later)"
   ]
  },
  {
   "cell_type": "code",
   "execution_count": null,
   "metadata": {},
   "outputs": [],
   "source": [
    "%%time\n",
    "for e in undir_net.edges:\n",
    "    undir_net[e[0]][e[1]]['embeddedness'] = len(list(nx.common_neighbors(undir_net, e[0], e[1])))"
   ]
  },
  {
   "cell_type": "markdown",
   "metadata": {},
   "source": [
    "Define some functions for enumerating triangles and counting positive edges that will help us below."
   ]
  },
  {
   "cell_type": "code",
   "execution_count": null,
   "metadata": {},
   "outputs": [],
   "source": [
    "def get_triangles(G):\n",
    "    \"\"\"\n",
    "    see https://groups.google.com/forum/#!topic/networkx-discuss/baNlK-DU_B0\n",
    "    \"\"\"\n",
    "    triangles =  [list(triple) for triple in set(frozenset((n,nbr,nbr2)) for n in G for nbr, nbr2 in itertools.combinations(G[n],2) if nbr in G[nbr2])]\n",
    "    return(triangles)\n",
    "\n",
    "def tri_count_positive_edges(net, triangles):\n",
    "    \"\"\"\n",
    "    Given a network, calculate a histogram of the number of positive\n",
    "    edges for all of the triangles (closed triads) in the network.\n",
    "    \n",
    "    Arguments:\n",
    "      * net: a networkx Graph, assumed to have edge attributes called 'sign'\n",
    "      * triangles: a list of list; each inner list has three node ids that describe a triangle\n",
    "    \n",
    "    Returns: \n",
    "      * a dictionary whose keys are 0, 1, 2, and 3, and whose values are the number\n",
    "        of triangles with the corresponding number of positive edges.\n",
    "    \n",
    "    Example:\n",
    "      > result = tri_count_positive_edges(my_network)\n",
    "      # now result[2] will have the number of triangles with \n",
    "      # two positive edges and one negative edge in my_network\n",
    "    \"\"\"\n",
    "    ## get triangles (which are cycles of length 3)\n",
    "    #triangles = [x for x in nx.cycle_basis(net) if len(x) == 3]\n",
    "    \n",
    "    num_positive_edges = { 0: 0, 1: 0, 2: 0, 3:0}\n",
    "\n",
    "    for tri in triangles:\n",
    "        e0 = int(net[tri[0]][tri[1]]['sign'] > 0)\n",
    "        e1 = int(net[tri[1]][tri[2]]['sign'] > 0)\n",
    "        e2 = int(net[tri[2]][tri[0]]['sign'] > 0)\n",
    "        cur_count = e0 + e1 + e2\n",
    "        num_positive_edges[cur_count] = num_positive_edges[cur_count] + 1\n",
    "        \n",
    "    return(num_positive_edges)"
   ]
  },
  {
   "cell_type": "markdown",
   "metadata": {},
   "source": [
    "We'll figure out where all of the triangles are in the network first;\n",
    "this will save us some time later."
   ]
  },
  {
   "cell_type": "code",
   "execution_count": null,
   "metadata": {},
   "outputs": [],
   "source": [
    "%%time\n",
    "triangles = get_triangles(undir_net)"
   ]
  },
  {
   "cell_type": "markdown",
   "metadata": {},
   "source": [
    "As an example, let's calculate the distribution of the number of positive edges across triangles in the small Slashdot network we're analyzing here:"
   ]
  },
  {
   "cell_type": "code",
   "execution_count": null,
   "metadata": {},
   "outputs": [],
   "source": [
    "%%time\n",
    "npe = tri_count_positive_edges(undir_net, triangles)\n",
    "npe"
   ]
  },
  {
   "cell_type": "code",
   "execution_count": null,
   "metadata": {},
   "outputs": [],
   "source": [
    "plt.bar(list(npe.keys()), npe.values());\n",
    "plt.xlabel('Number of positive edges');\n",
    "plt.ylabel('Number of triangles');\n",
    "plt.show()"
   ]
  },
  {
   "cell_type": "markdown",
   "metadata": {},
   "source": [
    "This function will help us start with the distribution of the number of positive edges across triangles (which we just plotted) and calculate the fraction of triads that is balanced:"
   ]
  },
  {
   "cell_type": "code",
   "execution_count": null,
   "metadata": {},
   "outputs": [],
   "source": [
    "def frac_tri_balanced(tri_pos_edge_counts):\n",
    "    \"\"\"\n",
    "    Given a dictionary with the distribution of positive edges across triangles\n",
    "    (produced by the function tri_count_positive_edges), calculate the fraction\n",
    "    of triangles that is balanced. A triangle is balanced if it has one or three\n",
    "    positive edges.\n",
    "    \n",
    "    Arguments:\n",
    "      * tri_pos_edge_counts\n",
    "    \n",
    "    Returns: \n",
    "      * a networkx Graph with the same nodes and edges as net, with\n",
    "        the signs on the edges randomly permuted\n",
    "    \n",
    "    Example:\n",
    "      > shuffled_sign_net = permute_signs(my_network)\n",
    "      # now shuffled_sign_net will have the same structure as my_network,\n",
    "      # but the edges will have different signs\n",
    "    \"\"\"    \n",
    "    num_triangles = sum(tri_pos_edge_counts.values())\n",
    "    frac_balanced = (tri_pos_edge_counts[1] + tri_pos_edge_counts[3]) / num_triangles\n",
    "    return(frac_balanced)"
   ]
  },
  {
   "cell_type": "markdown",
   "metadata": {},
   "source": [
    "Calculate the fraction of triangles that is balanced in the observed network:"
   ]
  },
  {
   "cell_type": "code",
   "execution_count": null,
   "metadata": {},
   "outputs": [],
   "source": [
    "obsvd_counts = tri_count_positive_edges(undir_net, triangles)\n",
    "\n",
    "obsvd_frac_balanced = frac_tri_balanced(obsvd_counts)\n",
    "obsvd_frac_balanced"
   ]
  },
  {
   "cell_type": "markdown",
   "metadata": {},
   "source": [
    "### Is this evidence of balance?"
   ]
  },
  {
   "cell_type": "markdown",
   "metadata": {},
   "source": [
    "So, does this evidence suggest that there is some process that encourages the Slashdot network to have structural balance?\n",
    "\n",
    "It is hard to know without understanding what amount of structural balance we would expect to observe just by chance, in a world where no process was pushing triangles towards balance.\n",
    "\n",
    "In other words, we need to posit a *null model* which we can compare our observed network to.\n",
    "\n",
    "In this case, one reasonable null model might be to assume that the signs on the edges are assigned completely at random, with no attention paid to whether the triangles that result are balanced or not.  We can try to create alternate Slashdot networks that would be likely if the world worked this way by randomly reshuffling the signs on the network edges."
   ]
  },
  {
   "cell_type": "markdown",
   "metadata": {},
   "source": [
    "This function will take a given network and keep all of its structure, *except* that it will randomly reshuffle the signs on all of the edges. The total number of negative and positive edges will not change -- but whether one specific edge is negative or positive may change."
   ]
  },
  {
   "cell_type": "code",
   "execution_count": null,
   "metadata": {},
   "outputs": [],
   "source": [
    "def permute_signs(unet, keep='embeddedness'):\n",
    "    \"\"\"\n",
    "    Given a network with signed edges, return a copy of the network\n",
    "    with the same nodes and edges, but with the signs on the edges\n",
    "    randomly shuffled.\n",
    "    \n",
    "    Arguments:\n",
    "      * unet: a networkx Graph, assumed to have edge attributes called 'sign'\n",
    "    \n",
    "    Returns: \n",
    "      * a networkx Graph with the same nodes and edges as net, with\n",
    "        the signs on the edges randomly permuted\n",
    "    \n",
    "    Example:\n",
    "      > shuffled_sign_net = permute_signs(my_network)\n",
    "      # now shuffled_sign_net will have the same structure as my_network,\n",
    "      # but the edges will have different signs\n",
    "    \"\"\"\n",
    "    signs = nx.get_edge_attributes(unet, name='sign').values()\n",
    "    new_signs = dict(zip(unet.edges, list(np.random.permutation(list(signs)))))\n",
    "    \n",
    "    new_net = nx.Graph()\n",
    "    new_net.add_edges_from(unet.edges)\n",
    "\n",
    "    #print('old number of edges: ', net.number_of_edges())    \n",
    "    #print('new number of edges: ', new_net.number_of_edges())\n",
    "    \n",
    "    nx.set_edge_attributes(new_net, new_signs, name='sign')\n",
    "    \n",
    "    if keep is not None:\n",
    "        to_keep = nx.get_edge_attributes(unet, name=keep)\n",
    "        nx.set_edge_attributes(new_net, to_keep, name=keep)\n",
    "    \n",
    "    return(new_net)"
   ]
  },
  {
   "cell_type": "code",
   "execution_count": null,
   "metadata": {},
   "outputs": [],
   "source": [
    "def get_embed_pos(net, num_cat=10):\n",
    "    \"\"\"\n",
    "    Given a network whose edges have attributes 'sign' and 'embeddedness',\n",
    "    calculate the fraction of nodes that is positive for num_cat categories of\n",
    "    embeddedness\n",
    "    \n",
    "    Arguments:\n",
    "    \n",
    "        * net - the network\n",
    "        * num_cat - the number of embeddedness categories (or None to use actual embeddedness values)\n",
    "        \n",
    "    Returns:\n",
    "    \n",
    "        A pandas dataframe with the mean and standard deviation of the fraction of edges\n",
    "        that is positive at each level of embeddedness\n",
    "    \"\"\"\n",
    "    eldf = nx.to_pandas_edgelist(net)\n",
    "    eldf['positive'] = (eldf['sign'] == 1)\n",
    "    if num_cat is None:\n",
    "        eldf['embed_cat'] = eldf['embeddedness']\n",
    "    else:\n",
    "        eldf['embed_cat'] = pd.cut(eldf['embeddedness'], num_cat)\n",
    "        \n",
    "    res = eldf.groupby('embed_cat').agg({'positive' : [np.mean, np.std]})\n",
    "    res = res.xs('positive', axis=1, drop_level=True)\n",
    "    res = res.reset_index()\n",
    "\n",
    "    return(res)"
   ]
  },
  {
   "cell_type": "markdown",
   "metadata": {},
   "source": [
    "We'll use the function to create many (say 500) alternate Slashdot networks under this null model."
   ]
  },
  {
   "cell_type": "code",
   "execution_count": null,
   "metadata": {},
   "outputs": [],
   "source": [
    "%%time\n",
    "# NB: this takes about 7-12 minutes to run\n",
    "\n",
    "permuted_frac_balanced = make_array()\n",
    "permuted_count_list = []\n",
    "embed_pos_list = []\n",
    "\n",
    "triangles = get_triangles(undir_net)\n",
    "\n",
    "for _ in np.arange(500):\n",
    "    permuted_net = permute_signs(undir_net)\n",
    "    cur_permuted_counts = tri_count_positive_edges(permuted_net, triangles)\n",
    "    permuted_count_list.append(cur_permuted_counts)\n",
    "    embed_pos_list.append(get_embed_pos(permuted_net))\n",
    "    permuted_frac_balanced = np.append(frac_tri_balanced(cur_permuted_counts), \n",
    "                                       permuted_frac_balanced)\n",
    "    \n",
    "permuted_counts_df = pd.DataFrame(permuted_count_list)\n",
    "embed_pos_df = pd.concat(embed_pos_list)\n",
    "\n",
    "# also get the fraction positive by embeddedness for the observed net\n",
    "obsvd_embed_pos = get_embed_pos(undir_net)\n",
    "\n",
    "# save the results in a Table\n",
    "null_frac_balanced = Table().with_columns('frac_balanced', permuted_frac_balanced)"
   ]
  },
  {
   "cell_type": "markdown",
   "metadata": {},
   "source": [
    "Now `permuted_counts_df` has the counts for each permuted network:"
   ]
  },
  {
   "cell_type": "code",
   "execution_count": null,
   "metadata": {},
   "outputs": [],
   "source": [
    "permuted_counts_df.head()"
   ]
  },
  {
   "cell_type": "markdown",
   "metadata": {},
   "source": [
    "And `null_frac_balanced` has the fraction of triads that is balanced for each permuted network:"
   ]
  },
  {
   "cell_type": "code",
   "execution_count": null,
   "metadata": {},
   "outputs": [],
   "source": [
    "null_frac_balanced"
   ]
  },
  {
   "cell_type": "markdown",
   "metadata": {},
   "source": [
    "This is the (estimated) expected fraction of balanced triangles under our null model:"
   ]
  },
  {
   "cell_type": "code",
   "execution_count": null,
   "metadata": {},
   "outputs": [],
   "source": [
    "np.mean(permuted_frac_balanced)"
   ]
  },
  {
   "cell_type": "markdown",
   "metadata": {},
   "source": [
    "Let's examine the distribution of the fraction of triads that is balanced under the null model."
   ]
  },
  {
   "cell_type": "code",
   "execution_count": null,
   "metadata": {},
   "outputs": [],
   "source": [
    "plt.hist(null_frac_balanced.column(0));\n",
    "plt.show()"
   ]
  },
  {
   "cell_type": "markdown",
   "metadata": {},
   "source": [
    "How consistent is this null distribution with the value we actually observed in the Slashdot network? \n",
    "\n",
    "Let's add the observed fraction balanced to our plot:"
   ]
  },
  {
   "cell_type": "code",
   "execution_count": null,
   "metadata": {},
   "outputs": [],
   "source": [
    "plt.hist(null_frac_balanced.column(0));\n",
    "plt.axvline(x=obsvd_frac_balanced,c='red',linewidth=2);\n",
    "plt.show()"
   ]
  },
  {
   "cell_type": "markdown",
   "metadata": {},
   "source": [
    "The observed fraction of triads that is balanced is way higher than the values that come from the null model. Since the null model describes a world with no balance, we conclude that our observed network is much more balanced than we would expect if the null model were actually true."
   ]
  },
  {
   "cell_type": "markdown",
   "metadata": {},
   "source": [
    "### Deeper dive: strong and weak balance"
   ]
  },
  {
   "cell_type": "markdown",
   "metadata": {},
   "source": [
    "We just analyzed the fraction of triads that is balanced in the observed network. Let's look a bit of a deeper dive and use the results from the null model to look at the expected and observed fraction of triads with 0, 1, 2, and 3 positive edges."
   ]
  },
  {
   "cell_type": "markdown",
   "metadata": {},
   "source": [
    "Recall that we permuted the signs a bunch of times and recorded the number of triads with 0, 1, 2, and 3 positive edges for each permutation. These counts are stored in `permuted_counts_df`:"
   ]
  },
  {
   "cell_type": "code",
   "execution_count": null,
   "metadata": {},
   "outputs": [],
   "source": [
    "permuted_counts_df.head()"
   ]
  },
  {
   "cell_type": "markdown",
   "metadata": {},
   "source": [
    "We'll start by converting these counts into fractions:"
   ]
  },
  {
   "cell_type": "code",
   "execution_count": null,
   "metadata": {},
   "outputs": [],
   "source": [
    "# first, normalize each row to get the fraction of triads with the given number of positive edges\n",
    "tot_edges = np.sum(permuted_counts_df.iloc[0])\n",
    "permuted_counts_frac_df = permuted_counts_df.apply(lambda x: x / tot_edges, axis=1)\n",
    "permuted_counts_frac_df.head()"
   ]
  },
  {
   "cell_type": "markdown",
   "metadata": {},
   "source": [
    "Now let's look at the expected fraction of triads with 0, 1, 2, and 3 positive edges under the null model:"
   ]
  },
  {
   "cell_type": "code",
   "execution_count": null,
   "metadata": {},
   "outputs": [],
   "source": [
    "#permuted_counts_frac_df.apply([np.mean, np.std])"
   ]
  },
  {
   "cell_type": "code",
   "execution_count": null,
   "metadata": {},
   "outputs": [],
   "source": [
    "permuted_counts_frac_df.apply(np.mean)"
   ]
  },
  {
   "cell_type": "code",
   "execution_count": null,
   "metadata": {},
   "outputs": [],
   "source": [
    "permuted_counts_frac_df.apply(np.std)"
   ]
  },
  {
   "cell_type": "markdown",
   "metadata": {},
   "source": [
    "What are the observed fractions? Let's see:"
   ]
  },
  {
   "cell_type": "code",
   "execution_count": null,
   "metadata": {},
   "outputs": [],
   "source": [
    "tot_edges = np.sum(list(obsvd_counts.values()))\n",
    "obsvd_count_frac = pd.Series(obsvd_counts).apply(lambda x: x / tot_edges)\n",
    "obsvd_count_frac"
   ]
  },
  {
   "cell_type": "code",
   "execution_count": null,
   "metadata": {},
   "outputs": [],
   "source": [
    "for num_pos in range(4):\n",
    "    permuted_counts_frac_df.hist(num_pos);\n",
    "    plt.axvline(x=obsvd_count_frac[num_pos],c='red',linewidth=2);\n",
    "    plt.title(str(num_pos) + ' + edges');\n",
    "    plt.show()"
   ]
  },
  {
   "cell_type": "markdown",
   "metadata": {},
   "source": [
    "The findings here are similar to Leskovec et al (2010):\n",
    "\n",
    "Consistent with balance theory, we find\n",
    "\n",
    "* T3 is heavily overrepresented\n",
    "* T2 is heavily underrepresented\n",
    "\n",
    "We also see\n",
    "\n",
    "* T0 is somewhat underrepresented\n",
    "* T1 is somewhat underrepresented\n",
    "\n",
    "These last two findings are a little harder to fit into strong balance theory; we would expect T1 to be overrepresented if the theory held perfectly."
   ]
  },
  {
   "cell_type": "markdown",
   "metadata": {},
   "source": [
    "### Are positive edges more embedded than negative edges?"
   ]
  },
  {
   "cell_type": "markdown",
   "metadata": {},
   "source": [
    "`embed_pos_df` has the fraction positive by embeddedness for each permuted network:"
   ]
  },
  {
   "cell_type": "code",
   "execution_count": null,
   "metadata": {},
   "outputs": [],
   "source": [
    "embed_pos_df.head()"
   ]
  },
  {
   "cell_type": "markdown",
   "metadata": {},
   "source": [
    "For the relationship between embeddedness and frac of edges that is positive, aggregate up across the permuted networks to get the expected values across permuted networks."
   ]
  },
  {
   "cell_type": "code",
   "execution_count": null,
   "metadata": {},
   "outputs": [],
   "source": [
    "embed_pos_agg_df = embed_pos_df.groupby('embed_cat').agg({'mean' : [np.mean, np.std]})\n",
    "embed_pos_agg_df = embed_pos_agg_df.xs('mean', axis=1, drop_level=True).reset_index()\n",
    "#embed_pos_agg_df.plot(x='embed_cat', y='mean')\n",
    "embed_pos_agg_df"
   ]
  },
  {
   "cell_type": "code",
   "execution_count": null,
   "metadata": {},
   "outputs": [],
   "source": [
    "obsvd_embed_pos['source'] = 'observed'\n",
    "embed_pos_agg_df['source'] = 'random'\n",
    "\n",
    "embed_comp = pd.concat([obsvd_embed_pos, embed_pos_agg_df])\n",
    "embed_comp['embed_order'] = embed_comp['embed_cat'].cat.codes\n",
    "\n",
    "fig, ax = plt.subplots(figsize=(8,8))\n",
    "\n",
    "for name, df in embed_comp.groupby('source'):\n",
    "    df.plot(x='embed_order', y='mean', ax=ax, label=name);\n",
    "\n",
    "plt.ylim(ymin=0.5);\n",
    "plt.legend(loc='lower right');\n",
    "plt.xlabel('Embeddedness bucket (low to high)');\n",
    "plt.ylabel('Fraction of edges positive');\n",
    "#fig.autofmt_xdate();"
   ]
  },
  {
   "cell_type": "code",
   "execution_count": null,
   "metadata": {},
   "outputs": [],
   "source": []
  }
 ],
 "metadata": {
  "anaconda-cloud": {},
  "kernelspec": {
   "display_name": "Python 3",
   "language": "python",
   "name": "python3"
  },
  "language_info": {
   "codemirror_mode": {
    "name": "ipython",
    "version": 3
   },
   "file_extension": ".py",
   "mimetype": "text/x-python",
   "name": "python",
   "nbconvert_exporter": "python",
   "pygments_lexer": "ipython3",
   "version": "3.7.7"
  }
 },
 "nbformat": 4,
 "nbformat_minor": 1
}
