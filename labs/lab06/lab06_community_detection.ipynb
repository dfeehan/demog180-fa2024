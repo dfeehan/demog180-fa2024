{
 "cells": [
  {
   "cell_type": "code",
   "execution_count": null,
   "metadata": {
    "deletable": false,
    "editable": false
   },
   "outputs": [],
   "source": [
    "# Initialize Otter\n",
    "import otter\n",
    "grader = otter.Notebook(\"lab06_community_detection.ipynb\")"
   ]
  },
  {
   "cell_type": "code",
   "execution_count": null,
   "metadata": {},
   "outputs": [],
   "source": [
    "from IPython.core.display import HTML\n",
    "HTML(\"\"\"\n",
    "<style>\n",
    ".imagesource {\n",
    "    font-size: xx-small;\n",
    "}\n",
    "</style>\n",
    "\"\"\")\n",
    "\n",
    "from datascience import *\n",
    "\n",
    "import matplotlib\n",
    "matplotlib.use('Agg')\n",
    "%matplotlib inline\n",
    "import matplotlib.pyplot as plt\n",
    "import numpy as np\n",
    "plt.style.use('fivethirtyeight')\n",
    "\n",
    "import os\n",
    "import networkx as nx\n",
    "import pandas as pd\n",
    "\n",
    "import warnings\n",
    "warnings.filterwarnings('ignore')"
   ]
  },
  {
   "cell_type": "markdown",
   "metadata": {},
   "source": [
    "# Lab 6: Community detection\n",
    "\n",
    "In this lab, we will explore some community detection algorithms, looking at one divisive algorithm (Girvan and Newman) in detail. Then, we will apply community detection algorithms to a real-world social network in the Indian Village Network dataset.\n",
    "\n",
    "## Shortest Paths and Edge Betweenness Centrality\n",
    "\n",
    "Let's first create a simple social network with 15 nodes:"
   ]
  },
  {
   "cell_type": "code",
   "execution_count": null,
   "metadata": {},
   "outputs": [],
   "source": [
    "edges = [(0, 1), (0, 2),  (0, 4), (1, 2), (1, 3), (1, 4), (1, 9), \n",
    "            (2, 3), (2, 4), (4, 13), (5, 6), (5, 7), (5, 8),  \n",
    "            (5, 11), (6, 8), (6, 9), (7, 8), (7, 9), (8, 9), (9, 12), \n",
    "            (10, 11), (10, 12), (10, 13), (11, 12), (11, 14), \n",
    "            (12, 13), (12, 14), (13, 14)]\n",
    "\n",
    "g1 = nx.Graph()\n",
    "g1.add_edges_from(edges)\n",
    "\n",
    "plt.figure(figsize=(5, 5))\n",
    "nx.draw(g1, with_labels=True, node_color='lightgreen', edge_color='black', node_size=500, font_size=10)\n",
    "plt.show()\n"
   ]
  },
  {
   "cell_type": "markdown",
   "metadata": {
    "deletable": false,
    "editable": false
   },
   "source": [
    "<!-- BEGIN QUESTION -->\n",
    "\n",
    "## Question 1\n",
    "\n",
    "Through eyeballing the plot above, how many cliques/communities do you think there are in the network we just created? Which edges are 'bridges' that connect different cliques?"
   ]
  },
  {
   "cell_type": "markdown",
   "metadata": {
    "deletable": false,
    "editable": false
   },
   "source": [
    "<!-- END QUESTION -->\n",
    "\n",
    "If we want to detect communities divisively, that is, by removing edges from the network, we should first remove the 'bridges' that connect different communities. In order to do that, we need a measure for how 'bridging' or 'in-between' different nodes an edge is. Girvan and Newman called this measure **edge betweenness centrality**: \n",
    "$$bc(e) = \\sum_{s, t \\in V} \\frac{\\sigma_{s, t | e}}{\\sigma_{s, t}}$$\n",
    "\n",
    "where $bc(e)$ is the betweenness centrality of edge $e$,\n",
    "\n",
    "$\\sigma(s, t)$ is the number of shortest paths between node $s$ and node $t$,\n",
    "\n",
    "and $\\sigma_{s, t | e}$ is the number of the shortest paths between node $s$ and node $t$ that goes through edge $e$.\n",
    "\n",
    "Let's first see how to calculate shortest paths. In networkx, the method shortest_path(graph, source, target) calculates the shortest path between a source node and a target node. As an example, we will calculate the shortest paths from node 2 to all other nodes:\n"
   ]
  },
  {
   "cell_type": "code",
   "execution_count": null,
   "metadata": {},
   "outputs": [],
   "source": [
    "g1_nodes = list(g1.nodes)\n",
    "source = 2\n",
    "shortest_paths_from_2 = {}    \n",
    "# Loop through all nodes and calculate the shortest path from source\n",
    "for target in g1_nodes:\n",
    "    # skip if node is itself\n",
    "    if source != target:\n",
    "        path = nx.shortest_path(g1, source=source, target=target)\n",
    "        shortest_paths_from_2[target] = path\n",
    "\n",
    "shortest_paths_from_2"
   ]
  },
  {
   "cell_type": "markdown",
   "metadata": {},
   "source": [
    "Let's visualize the paths: "
   ]
  },
  {
   "cell_type": "code",
   "execution_count": null,
   "metadata": {},
   "outputs": [],
   "source": [
    "colors = plt.cm.get_cmap('hsv', len(shortest_paths_from_2))\n",
    "pos = nx.spring_layout(g1)  # Layout for the graph\n",
    "plt.figure(figsize=(5, 5))\n",
    "nx.draw(g1, pos, node_color='lightgreen', with_labels=True, node_size=500, font_size=10, edge_color='lightgray')\n",
    "    \n",
    "# Iterate through all shortest paths from the source node\n",
    "for idx, (target, path) in enumerate(shortest_paths_from_2.items()):\n",
    "    # Convert the path into a list of edges\n",
    "    edges_in_path = [(path[i], path[i + 1]) for i in range(len(path) - 1)]\n",
    "        \n",
    "    # Draw the path with a bold line and a distinct color\n",
    "    nx.draw_networkx_edges(g1, pos, edgelist=edges_in_path, width=4, edge_color=[colors(idx)], alpha=0.7)\n",
    "\n",
    "# Highlight the source node in red\n",
    "nx.draw_networkx_nodes(g1, pos, nodelist=[2], node_color='red', node_size=600)\n",
    "plt.show()"
   ]
  },
  {
   "cell_type": "markdown",
   "metadata": {
    "deletable": false,
    "editable": false
   },
   "source": [
    "## Question 2\n",
    "\n",
    "Now, calculate the shortest paths between all pairs of nodes within the network. *Hint: use a nested loop to iterate through pairs of nodes.*"
   ]
  },
  {
   "cell_type": "code",
   "execution_count": null,
   "metadata": {
    "tags": []
   },
   "outputs": [],
   "source": [
    "nodes = list(g1.nodes)\n",
    "all_shortest_paths = {}\n",
    "\n",
    "# Loop through all pairs of nodes\n",
    "for ...:\n",
    "    ...\n",
    "    for ...:\n",
    "        if ...:\n",
    "        else:\n",
    "        # Path to self is the node itself\n",
    "            all_shortest_paths[i][j] = [i]\n",
    "\n",
    "            all_shortest_paths        \n"
   ]
  },
  {
   "cell_type": "code",
   "execution_count": null,
   "metadata": {
    "deletable": false,
    "editable": false
   },
   "outputs": [],
   "source": [
    "grader.check(\"q2\")"
   ]
  },
  {
   "cell_type": "markdown",
   "metadata": {},
   "source": [
    "Alternatively, you can use the method all_pairs_shortest_path(G) to return shortest paths between all pairs of nodes in a network without using loops:"
   ]
  },
  {
   "cell_type": "code",
   "execution_count": null,
   "metadata": {},
   "outputs": [],
   "source": [
    "dict(nx.all_pairs_shortest_path(g1))"
   ]
  },
  {
   "cell_type": "markdown",
   "metadata": {},
   "source": [
    "Next, we need to figure out how many shortest paths pass through a specific edge. Let's use the edge (1,9) as an example:"
   ]
  },
  {
   "cell_type": "code",
   "execution_count": null,
   "metadata": {},
   "outputs": [],
   "source": [
    "paths_thru_1_9 = []\n",
    "edge = (1,9)\n",
    "\n",
    "# Iterate over all paths \n",
    "for source in all_shortest_paths:\n",
    "    for target, path in all_shortest_paths[source].items():\n",
    "        # check if nodes 1 and 9 appear in path\n",
    "        if edge[0] in path and edge[1] in path:\n",
    "            # Ensure nodes 1 and 9 appear next to each other in path\n",
    "            for i in range(len(path) - 1):\n",
    "                if (path[i], path[i + 1]) == edge or (path[i + 1], path[i]) == edge:\n",
    "                    paths_thru_1_9.append(path)\n",
    "                    break\n",
    "    \n",
    "paths_thru_1_9"
   ]
  },
  {
   "cell_type": "markdown",
   "metadata": {
    "deletable": false,
    "editable": false
   },
   "source": [
    "## Question 3\n",
    "\n",
    "Now, we can calculate the betweenness centrality of edge (1,9):"
   ]
  },
  {
   "cell_type": "code",
   "execution_count": null,
   "metadata": {
    "tags": []
   },
   "outputs": [],
   "source": [
    "count_all_shortest_paths = sum(len(paths) for paths in all_shortest_paths.values())\n",
    "count_all_paths_1_9 = len(paths_thru_1_9)\n",
    "\n",
    "ebc_1_9 = ...\n",
    "\n",
    "ebc_1_9"
   ]
  },
  {
   "cell_type": "code",
   "execution_count": null,
   "metadata": {
    "deletable": false,
    "editable": false
   },
   "outputs": [],
   "source": [
    "grader.check(\"q3\")"
   ]
  },
  {
   "cell_type": "markdown",
   "metadata": {},
   "source": [
    "Conveniently, you can use the networkx method edge_betweenness_centrality( ) to calculate the edge betweenness centrality for all edges in a network:"
   ]
  },
  {
   "cell_type": "code",
   "execution_count": null,
   "metadata": {},
   "outputs": [],
   "source": [
    "edge_betweenness = nx.edge_betweenness_centrality(g1)\n",
    "# check edge betweenness centrality of the edge (1,9)\n",
    "edge_betweenness[(1,9)]"
   ]
  },
  {
   "cell_type": "markdown",
   "metadata": {},
   "source": [
    "Note that the result is slightly different - this is because we used a simplified algorithm to illustrate the steps of calculating edge betweenness centrality. If you are interested, you can check how networkx implements it in its [documentation](https://networkx.org/documentation/stable/_modules/networkx/algorithms/centrality/betweenness.html#edge_betweenness_centrality). "
   ]
  },
  {
   "cell_type": "markdown",
   "metadata": {},
   "source": [
    "## The Girvan-Newman Method of Community Detection \n",
    "\n",
    "The Girvan-Newman algorithm involves the following steps：\n",
    "\n",
    "1. Calculate betweenness centrality for all edges in the network.\n",
    "\n",
    "2. Remove the edge with the highest value of betweenness centrality (i.e., the most 'bridging' edge).\n",
    "\n",
    "3. Recalculate betweenness centrality for all edges in the network.\n",
    "4. Repeat steps 2 and 3 until certain conditions are reached (e.g. when the network has been split into n communities) "
   ]
  },
  {
   "cell_type": "markdown",
   "metadata": {
    "deletable": false,
    "editable": false
   },
   "source": [
    "## Question 4\n",
    "\n",
    "Let's first try the Girvan-Newman method manually on our example network. Step 1 is already done above. Do steps 2 and 3: find the edge with the highest betweenness centrality and remove it from the network. "
   ]
  },
  {
   "cell_type": "code",
   "execution_count": null,
   "metadata": {
    "tags": []
   },
   "outputs": [],
   "source": [
    "# make a copy of g1\n",
    "g1_copy = g1\n",
    "edge_betweenness = nx.edge_betweenness_centrality(g1_copy)\n",
    "\n",
    "edge_to_remove = ...\n",
    "\n",
    "# Remove the edge from the graph\n",
    "g1_copy.remove_edge(*edge_to_remove)\n",
    "\n",
    "edge_to_remove"
   ]
  },
  {
   "cell_type": "code",
   "execution_count": null,
   "metadata": {
    "deletable": false,
    "editable": false
   },
   "outputs": [],
   "source": [
    "grader.check(\"q4\")"
   ]
  },
  {
   "cell_type": "markdown",
   "metadata": {
    "deletable": false,
    "editable": false
   },
   "source": [
    "<!-- BEGIN QUESTION -->\n",
    "\n",
    "## Question 5\n",
    "\n",
    "Plot the network after removing one edge: "
   ]
  },
  {
   "cell_type": "code",
   "execution_count": null,
   "metadata": {
    "tags": []
   },
   "outputs": [],
   "source": [
    "plt.figure(figsize=(5, 5))\n",
    "nx.draw(g1_copy, with_labels=True, node_color='lightgreen', edge_color='black', node_size=500, font_size=10)\n",
    "plt.show()"
   ]
  },
  {
   "cell_type": "markdown",
   "metadata": {
    "deletable": false,
    "editable": false
   },
   "source": [
    "<!-- END QUESTION -->\n",
    "\n",
    "Let's repeat step 2 and 3 again:"
   ]
  },
  {
   "cell_type": "code",
   "execution_count": null,
   "metadata": {},
   "outputs": [],
   "source": [
    "edge_betweenness_r2 = nx.edge_betweenness_centrality(g1_copy)\n",
    "\n",
    "edge_to_remove_r2 = max(edge_betweenness_r2, key=edge_betweenness_r2.get)\n",
    "# Remove the edge from the graph\n",
    "g1_copy.remove_edge(*edge_to_remove_r2)\n",
    "\n",
    "edge_to_remove_r2"
   ]
  },
  {
   "cell_type": "code",
   "execution_count": null,
   "metadata": {},
   "outputs": [],
   "source": [
    "plt.figure(figsize=(5, 5))\n",
    "nx.draw(g1_copy, with_labels=True, node_color='lightgreen', edge_color='black', node_size=500, font_size=10)\n",
    "plt.show()"
   ]
  },
  {
   "cell_type": "markdown",
   "metadata": {},
   "source": [
    "After two repetitions, the network is split into two cliques. In other words, two communities have been detected by our algorithm. We can stop here, or continue until more communities are detected. \n",
    "\n",
    "There is also a girvan_newman( ) method in networkx. We can run it until all nodes are their own community:"
   ]
  },
  {
   "cell_type": "code",
   "execution_count": null,
   "metadata": {},
   "outputs": [],
   "source": [
    "communities = nx.community.girvan_newman(g1)\n",
    "\n",
    "level = 0\n",
    "for c in communities:\n",
    "    level += 1\n",
    "    print(f\"Level {level} Communities: {[sorted(list(i)) for i in c]}\")"
   ]
  },
  {
   "cell_type": "markdown",
   "metadata": {},
   "source": [
    "## Modularity\n",
    "\n",
    "Modularity is a measure of the strength of division of a network into communities. It compares the fraction of ends of edges ('stubs') in the network connecting nodes within the same community to the same fraction in a randomly generated network.\n",
    "\n",
    "$$Q = \\sum _i (e_{ii} - a^{2}_{i})$$\n",
    "\n",
    "where $e_{ii}$ is the fraction of stubs connecting nodes in community $i$ to other nodes in community $i$ in the target network, \n",
    "\n",
    "and $a^{2}_{i}$ is the fraction of stubs connecting nodes in community $i$ to other nodes in community $i$ in a random network, serving as the null model.\n",
    "\n",
    "Let's calculate modularities for each level of communities we found using the Girvan-Norman algorithm above: \n"
   ]
  },
  {
   "cell_type": "code",
   "execution_count": null,
   "metadata": {},
   "outputs": [],
   "source": [
    "communities = nx.community.girvan_newman(g1)\n",
    "modularity_values = []\n",
    "\n",
    "level = 0\n",
    "for c in communities:\n",
    "    level += 1\n",
    "    # Calculate modularity\n",
    "    modularity_value = nx.community.modularity(g1, [list(i) for i in c])\n",
    "    modularity_values.append((level, modularity_value))\n",
    "\n",
    "modularity_values"
   ]
  },
  {
   "cell_type": "markdown",
   "metadata": {
    "deletable": false,
    "editable": false
   },
   "source": [
    "<!-- BEGIN QUESTION -->\n",
    "\n",
    "## Question 6\n",
    "\n",
    "Which level of communities has the highest modularity? What does it say about the quality of our community detection at that level?"
   ]
  },
  {
   "cell_type": "markdown",
   "metadata": {
    "deletable": false,
    "editable": false
   },
   "source": [
    "<!-- END QUESTION -->\n",
    "\n",
    "## Indian Village Network Data\n",
    "\n",
    "This is a dataset collected by [Banerjee et al.](https://dataverse.harvard.edu/dataset.xhtml?persistentId=doi:10.7910/DVN/U3BIHX) (2013) in 43 villages in South India to study the diffusion of microfinance. The edges in the networks are defined by different relationships.\n",
    "\n",
    "The possible relationships are:\n",
    "\n",
    "Individuals were asked who they:   \n",
    "-- borrow money from   \n",
    "-- give advice to  \n",
    "-- help with a decision  \n",
    "-- borrow kerosene or rice from   \n",
    "-- lend kerosene or rice to   \n",
    "-- lend money to  \n",
    "-- obtain medical advice from   \n",
    "-- engage socially with  \n",
    "-- are related to  \n",
    "-- go to temple with  \n",
    "-- invite to one's home  \n",
    "-- visit in another's home.  \n",
    "\n",
    "and the codename for the relationships:\n",
    "\n",
    "adj_borrowmoney_HH_vilno_##   \n",
    "adj_giveadvice_HH_vilno_##   \n",
    "adj_helpdecision_HH_vilno_##  \n",
    "adj_keroricecome_HH_vilno_##   \n",
    "adj_keroricego_HH_vilno_##   \n",
    "adj_lendmoney_HH_vilno_##   \n",
    "adj_medic_HH_vilno_##   \n",
    "adj_nonrel_HH_vilno_##   \n",
    "adj_rel_HH_vilno_##   \n",
    "adj_templecompany_HH_vilno_##   \n",
    "adj_visitcome_HH_vilno_##   \n",
    "adj_visitgo_HH_vilno_##   \n",
    "adj_allVillageRelationships_HH_vilno_##   \n",
    "adj_andRelationships_HH_vilno_##   "
   ]
  },
  {
   "cell_type": "code",
   "execution_count": null,
   "metadata": {},
   "outputs": [],
   "source": [
    "all_relations = ['borrowmoney',\n",
    "                 'giveadvice',\n",
    "                 'helpdecision',\n",
    "                 'keroricecome',\n",
    "                 'keroricego',\n",
    "                 'lendmoney',\n",
    "                 'medic',\n",
    "                 'nonrel',\n",
    "                 'rel',\n",
    "                 'templecompany',\n",
    "                 'visitcome',\n",
    "                 'visitgo',\n",
    "                 'allVillageRelationships',\n",
    "                 'andRelationships']"
   ]
  },
  {
   "cell_type": "code",
   "execution_count": null,
   "metadata": {},
   "outputs": [],
   "source": [
    "data_path = \"data/\""
   ]
  },
  {
   "cell_type": "markdown",
   "metadata": {},
   "source": [
    "Create functions to read in all edges at individual and household levels:"
   ]
  },
  {
   "cell_type": "code",
   "execution_count": null,
   "metadata": {},
   "outputs": [],
   "source": [
    "def read_village_edges(village_id, relationship='borrowmoney', data_path=data_path):\n",
    "    \"\"\"\n",
    "    village_id : integer from 1 to 77 \n",
    "    \n",
    "    read in the village network corresponding to the given id number and\n",
    "    return it as an undirected networkx object\n",
    "    \n",
    "    note that this reads the individual network ties (not the household level ones)\n",
    "    \n",
    "    not all individuals were surveyed, so some nodes have attributes filled in\n",
    "    and some do not\n",
    "    \"\"\"\n",
    "\n",
    "    adj_path = os.path.join(data_path, '1. Network Data', 'Adjacency Matrices')\n",
    "    id_path = os.path.join(data_path, '1. Network Data', 'Adjacency Matrix Keys')\n",
    "   \n",
    "\n",
    "    # this file has the adjacency matrix\n",
    "    edge_file = os.path.join(adj_path, \"adj_\" + str(relationship) + \"_vilno_\" + str(village_id) + \".csv\")\n",
    "    # this has the study id number corresponding to the rows/columns of the adjacency matrix\n",
    "    id_file = os.path.join(id_path, \"key_vilno_\" + str(village_id) + \".csv\")\n",
    "    \n",
    "    # read data with characteristics of individuals\n",
    "    ind_char_data_path = os.path.join(data_path, \n",
    "                                      '2. Demographics and Outcomes', \n",
    "                                      'individual_characteristics.dta')\n",
    "    \n",
    "    adj_mat = pd.read_csv(edge_file, sep=',', header=None)\n",
    "    network = nx.from_pandas_adjacency(adj_mat)\n",
    "\n",
    "    # add the study ids as node attributes\n",
    "    with open(id_file, 'r') as f:\n",
    "        id_keys = f.readlines()\n",
    "        \n",
    "    id_dict = dict([(cur_index, cur_id.strip()) for cur_index, cur_id in enumerate(id_keys)])\n",
    "    inv_id_dict = {v: k for k,v in id_dict.items()}\n",
    "\n",
    "    node_characteristics = pd.read_stata(ind_char_data_path)\n",
    "    \n",
    "    # make this list of dicts into a dictionary whose keys are the pids and whose entries \n",
    "    # are dictionaries with the rest of the attributes\n",
    "    attr_dict = {}\n",
    "    for item in node_characteristics.to_dict(orient='records'):\n",
    "        cur_pid = item['pid']\n",
    "        if(str(cur_pid) in inv_id_dict.keys()):\n",
    "            attr_dict[inv_id_dict[str(cur_pid)]] = item\n",
    "\n",
    "    nx.set_node_attributes(network,\n",
    "                           values = attr_dict)\n",
    "    \n",
    "    # note that we call the to_undirected method to ensure we get an undirected network\n",
    "    return(network.to_undirected())\n",
    "\n",
    "def read_village_hh_edges(village_id, relationship='borrowmoney', data_path=data_path):\n",
    "    \"\"\"\n",
    "    village_id : integer from 1 to 77\n",
    "    \n",
    "    read in the village household network corresponding to the given id number and\n",
    "    return it as an undirected networkx object\n",
    "    \n",
    "    note that this reads the household network ties (not the individual level ones)    \n",
    "    \"\"\"\n",
    "\n",
    "    adj_path = os.path.join(data_path, '1. Network Data', 'Adjacency Matrices')\n",
    "    id_path = os.path.join(data_path, '1. Network Data', 'Adjacency Matrix Keys')\n",
    "   \n",
    "\n",
    "    # this file has the adjacency matrix\n",
    "    edge_file = os.path.join(adj_path, \"adj_\" + str(relationship) + \"_vilno_\" + str(village_id) + \".csv\")\n",
    "    # this has the study id number corresponding to the rows/columns of the adjacency matrix\n",
    "    id_file = os.path.join(id_path, \"key_HH_vilno_\" + str(village_id) + \".csv\")\n",
    "    \n",
    "    # read data with characteristics of individuals\n",
    "    hh_char_data_path = os.path.join(data_path, \n",
    "                                      '2. Demographics and Outcomes', \n",
    "                                      'household_characteristics.dta')\n",
    "    \n",
    "    adj_mat = pd.read_csv(edge_file, sep=',', header=None)\n",
    "    network = nx.from_pandas_adjacency(adj_mat)\n",
    "\n",
    "    # add the study ids as node attributes\n",
    "    with open(id_file, 'r') as f:\n",
    "        id_keys = f.readlines()\n",
    "        \n",
    "    id_dict = dict([(cur_index, \n",
    "                     str(village_id) + cur_id.strip().zfill(3)) for cur_index, cur_id in enumerate(id_keys)])\n",
    "    inv_id_dict = {v: k for k,v in id_dict.items()}\n",
    "\n",
    "    node_characteristics = pd.read_stata(hh_char_data_path)\n",
    "    \n",
    "    # make this list of dicts into a dictionary whose keys are the pids and whose entries \n",
    "    # are dictionaries with the rest of the attributes\n",
    "    attr_dict = {}\n",
    " \n",
    "    for item in node_characteristics.to_dict(orient='records'):\n",
    "        cur_hhid = item['hhid']\n",
    "        if(str(cur_hhid) in inv_id_dict.keys()):\n",
    "            attr_dict[inv_id_dict[str(cur_hhid)]] = item\n",
    " \n",
    "    #import pdb; pdb.set_trace()        \n",
    " \n",
    "            \n",
    "    nx.set_node_attributes(network,\n",
    "                           values = attr_dict)\n",
    "    \n",
    "    # note that we call the to_undirected method to ensure we get an undirected network\n",
    "    return(network.to_undirected())"
   ]
  },
  {
   "cell_type": "markdown",
   "metadata": {},
   "source": [
    "Let's read in the network of village #3"
   ]
  },
  {
   "cell_type": "code",
   "execution_count": null,
   "metadata": {},
   "outputs": [],
   "source": [
    "g_village = read_village_hh_edges(3, data_path = data_path)"
   ]
  },
  {
   "cell_type": "markdown",
   "metadata": {},
   "source": [
    "And examine the network defined by which relationship is the most dense (i.e., has the highest average degree)"
   ]
  },
  {
   "cell_type": "code",
   "execution_count": null,
   "metadata": {},
   "outputs": [],
   "source": [
    "def net_avg_degree(g):\n",
    "    return np.mean([v for k,v in nx.average_degree_connectivity(g).items()])"
   ]
  },
  {
   "cell_type": "code",
   "execution_count": null,
   "metadata": {},
   "outputs": [],
   "source": [
    "cur_nets = {}\n",
    "cur_village = 3\n",
    "\n",
    "for cur_relation in all_relations:\n",
    "    cur_nets[cur_relation] = read_village_hh_edges(cur_village, relationship=cur_relation, data_path=data_path)\n",
    "\n",
    "avg_degrees = {vid: net_avg_degree(cur_v_g) for vid, cur_v_g in cur_nets.items()}\n",
    "avg_degrees"
   ]
  },
  {
   "cell_type": "markdown",
   "metadata": {},
   "source": [
    "It looks like, among all relationships, the highest degree is in `nonrel`, which appears to be the 'engage socially with' tie. Let's select the `nonrel` network and plot it."
   ]
  },
  {
   "cell_type": "code",
   "execution_count": null,
   "metadata": {},
   "outputs": [],
   "source": [
    "cur_net = cur_nets['nonrel']\n",
    "plt.figure(figsize=(8, 8))\n",
    "nx.draw(cur_net, with_labels=True, node_color='lightgreen', edge_color='black', node_size=100, font_size=5)\n",
    "plt.show()"
   ]
  },
  {
   "cell_type": "markdown",
   "metadata": {},
   "source": [
    "It seems that there is a giant component in this network. Let's write a function to select the largest component subgraph:"
   ]
  },
  {
   "cell_type": "code",
   "execution_count": null,
   "metadata": {},
   "outputs": [],
   "source": [
    "def get_largest_component_subgraph(net):\n",
    "    largest_cc = max(nx.connected_components(net), key=len)\n",
    "    largest_cc_graph = net.subgraph(largest_cc).copy()\n",
    "    return largest_cc_graph"
   ]
  },
  {
   "cell_type": "code",
   "execution_count": null,
   "metadata": {},
   "outputs": [],
   "source": [
    "cur_net_gcc = get_largest_component_subgraph(cur_net)\n",
    "plt.figure(figsize=(8, 8))\n",
    "nx.draw(cur_net_gcc, with_labels=True, node_color='lightgreen', edge_color='black', node_size=100, font_size=5)\n",
    "plt.show()"
   ]
  },
  {
   "cell_type": "markdown",
   "metadata": {
    "deletable": false,
    "editable": false
   },
   "source": [
    "## Question 7\n",
    "\n",
    "Use the Girvan-Newman algorithm (the networkx method) we learned above, partition this network into communities. Stop at level 3. (it should take a few minutes to finish running): "
   ]
  },
  {
   "cell_type": "code",
   "execution_count": null,
   "metadata": {
    "tags": []
   },
   "outputs": [],
   "source": [
    "communities_village = nx.community.girvan_newman(cur_net_gcc)\n",
    "community_list = []\n",
    "modularity_values = []\n",
    "\n",
    "level = 0\n",
    "for c in communities_village:\n",
    "    level += 1\n",
    "    community_list.append(...)\n",
    "    modularity_value = nx.community.modularity(...)\n",
    "    modularity_values.append(...)\n",
    "    if level == ...:\n",
    "        ..."
   ]
  },
  {
   "cell_type": "code",
   "execution_count": null,
   "metadata": {
    "deletable": false,
    "editable": false
   },
   "outputs": [],
   "source": [
    "grader.check(\"q7\")"
   ]
  },
  {
   "cell_type": "markdown",
   "metadata": {},
   "source": [
    "Now, we will use the [functions](https://networkx.org/documentation/stable/auto_examples/algorithms/plot_girvan_newman.html) provided in networx documentation to plot communities in different colors:"
   ]
  },
  {
   "cell_type": "code",
   "execution_count": null,
   "metadata": {},
   "outputs": [],
   "source": [
    "# function to create node colour list\n",
    "def create_community_node_colors(graph, communities):\n",
    "    number_of_colors = len(communities)\n",
    "    colors = [\n",
    "  '#1f77b4', '#aec7e8', '#ff7f0e', '#ffbb78', '#2ca02c', '#98df8a', '#d62728',\n",
    "  '#ff9896', '#9467bd', '#c5b0d5', '#8c564b', '#c49c94', '#e377c2', '#f7b6d2',\n",
    "  '#7f7f7f', '#c7c7c7', '#bcbd22', '#dbdb8d', '#17becf', '#9edae5', '#393b79',\n",
    "  '#5254a3', '#6b6ecf', '#9c9ede', '#637939', '#8ca252', '#b5cf6b', '#cedb9c',\n",
    "  '#8c6d31', '#bd9e39', '#e7ba52', '#e7cb94', '#843c39', '#ad494a', '#d6616b',\n",
    "  '#e7969c', '#7b4173', '#a55194', '#ce6dbd', '#de9ed6', '#3182bd', '#6baed6',\n",
    "  '#9ecae1', '#c6dbef'\n",
    "][:number_of_colors]\n",
    "    node_colors = []\n",
    "    for node in graph:\n",
    "        current_community_index = 0\n",
    "        for community in communities:\n",
    "            if node in community:\n",
    "                node_colors.append(colors[current_community_index])\n",
    "                break\n",
    "            current_community_index += 1\n",
    "    return node_colors\n",
    "\n",
    "\n",
    "# function to plot graph with node colouring based on communities\n",
    "def visualize_communities(graph, communities):\n",
    "    node_colors = create_community_node_colors(graph, communities)\n",
    "    modularity = round(nx.community.modularity(graph, communities), 6)\n",
    "    title = f\"Community Visualization of {len(communities)} communities with modularity of {modularity}\"\n",
    "    pos = nx.kamada_kawai_layout(graph)\n",
    "    plt.figure(figsize=(10, 10))\n",
    "    plt.title(title)\n",
    "    nx.draw(\n",
    "        graph,\n",
    "        pos=pos,\n",
    "        node_size=100,\n",
    "        node_color=node_colors,\n",
    "        with_labels=True,\n",
    "        font_size=5,\n",
    "        width = 0.1,\n",
    "        font_color=\"black\",\n",
    "    )"
   ]
  },
  {
   "cell_type": "markdown",
   "metadata": {},
   "source": [
    "Let's visualize level 3, the level with the highest modularity:"
   ]
  },
  {
   "cell_type": "code",
   "execution_count": null,
   "metadata": {},
   "outputs": [],
   "source": [
    "visualize_communities(cur_net_gcc, community_list[2])"
   ]
  },
  {
   "cell_type": "markdown",
   "metadata": {},
   "source": [
    "Besides the Girvan-Newman algorithm we have used so far, there are also many other community detection algorithms. You can find a [list](https://networkx.org/documentation/stable/reference/algorithms/community.html) of networkx methods corresponding to different algorithms. Let's apply an agglomerative algorithm called [Greedy Modularity](https://networkx.org/documentation/stable/reference/algorithms/generated/networkx.algorithms.community.modularity_max.greedy_modularity_communities.html#networkx.algorithms.community.modularity_max.greedy_modularity_communities), which \"begins with each node in its own community and repeatedly joins the pair of communities that lead to the largest modularity until no further increase in modularity is possible.\" "
   ]
  },
  {
   "cell_type": "code",
   "execution_count": null,
   "metadata": {},
   "outputs": [],
   "source": [
    "communities_greedy = nx.community.greedy_modularity_communities(cur_net_gcc)"
   ]
  },
  {
   "cell_type": "code",
   "execution_count": null,
   "metadata": {},
   "outputs": [],
   "source": [
    "visualize_communities(cur_net_gcc, communities_greedy)"
   ]
  },
  {
   "cell_type": "markdown",
   "metadata": {},
   "source": [
    "This algorithm detects 44 communities with a modularity of 0.86, which is substantially higher than 0.37 at level 3 of the Girvan-Norman algorithm. It is possible that if we run the Girvan-Norman algorithm to deeper levels, we can eventually reach a similar modularity, but it would be computationally and temporally expensive. However, this might not be the case if we run them on a different network. On the other hand, it might be much more difficult to interpret a 44-community network than a 4-community network.  \n",
    "\n",
    "There is no universally best community detection algorithm, one can try different algorithms, compare the results, and select the one(s) that fit(s) the dataset and the reseach question."
   ]
  },
  {
   "cell_type": "markdown",
   "metadata": {
    "deletable": false,
    "editable": false
   },
   "source": [
    "---\n",
    "\n",
    "To double-check your work, the cell below will rerun all of the autograder tests."
   ]
  },
  {
   "cell_type": "code",
   "execution_count": null,
   "metadata": {
    "deletable": false,
    "editable": false
   },
   "outputs": [],
   "source": [
    "grader.check_all()"
   ]
  },
  {
   "cell_type": "markdown",
   "metadata": {
    "deletable": false,
    "editable": false
   },
   "source": [
    "## Submission\n",
    "\n",
    "Make sure you have run all cells in your notebook in order before running the cell below, so that all images/graphs appear in the output. The cell below will generate a zip file for you to submit. **Please save before exporting!**\n",
    "\n",
    "Please upload the .zip file to Gradescope."
   ]
  },
  {
   "cell_type": "code",
   "execution_count": null,
   "metadata": {
    "deletable": false,
    "editable": false
   },
   "outputs": [],
   "source": [
    "# Save your notebook first, then run this cell to export your submission.\n",
    "grader.export(run_tests=True)"
   ]
  },
  {
   "cell_type": "markdown",
   "metadata": {},
   "source": [
    " "
   ]
  }
 ],
 "metadata": {
  "anaconda-cloud": {},
  "kernelspec": {
   "display_name": "Python 3",
   "language": "python",
   "name": "python3"
  },
  "language_info": {
   "codemirror_mode": {
    "name": "ipython",
    "version": 3
   },
   "file_extension": ".py",
   "mimetype": "text/x-python",
   "name": "python",
   "nbconvert_exporter": "python",
   "pygments_lexer": "ipython3",
   "version": "3.11.9"
  },
  "otter": {
   "OK_FORMAT": true,
   "tests": {
    "q2": {
     "name": "q2",
     "points": 1,
     "suites": [
      {
       "cases": [
        {
         "code": ">>> sum((len(paths) for paths in all_shortest_paths.values())) == 225\nTrue",
         "hidden": false,
         "locked": false
        }
       ],
       "scored": true,
       "setup": "",
       "teardown": "",
       "type": "doctest"
      }
     ]
    },
    "q3": {
     "name": "q3",
     "points": 1,
     "suites": [
      {
       "cases": [
        {
         "code": ">>> np.isclose(ebc_1_9, 0.32)\nTrue",
         "hidden": false,
         "locked": false
        }
       ],
       "scored": true,
       "setup": "",
       "teardown": "",
       "type": "doctest"
      }
     ]
    },
    "q4": {
     "name": "q4",
     "points": 1,
     "suites": [
      {
       "cases": [
        {
         "code": ">>> edge_to_remove == (1, 9)\nTrue",
         "hidden": false,
         "locked": false
        }
       ],
       "scored": true,
       "setup": "",
       "teardown": "",
       "type": "doctest"
      }
     ]
    },
    "q7": {
     "name": "q7",
     "points": 2,
     "suites": [
      {
       "cases": [
        {
         "code": ">>> (len(community_list[0]) == 2) & (len(community_list[1]) == 3) & (len(community_list[2]) == 4)\nTrue",
         "hidden": false,
         "locked": false
        },
        {
         "code": ">>> community_list[2][3] == [584, 586, 1343, 1344, 1345, 1346, 1347, 1348, 1349, 1350, 1351, 1352]\nTrue",
         "hidden": false,
         "locked": false
        },
        {
         "code": ">>> len(modularity_values) == 3\nTrue",
         "hidden": false,
         "locked": false
        },
        {
         "code": ">>> np.isclose(modularity_values[2][1], 0.3749385)\nTrue",
         "hidden": false,
         "locked": false
        }
       ],
       "scored": true,
       "setup": "",
       "teardown": "",
       "type": "doctest"
      }
     ]
    }
   }
  }
 },
 "nbformat": 4,
 "nbformat_minor": 1
}
