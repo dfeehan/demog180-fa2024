{
 "cells": [
  {
   "cell_type": "code",
   "execution_count": null,
   "id": "4a7b12f4",
   "metadata": {
    "deletable": false,
    "editable": false
   },
   "outputs": [],
   "source": [
    "# Initialize Otter\n",
    "import otter\n",
    "grader = otter.Notebook(\"hwk05_advanced.ipynb\")"
   ]
  },
  {
   "cell_type": "code",
   "execution_count": null,
   "id": "b759d033",
   "metadata": {},
   "outputs": [],
   "source": [
    "#!pip install --upgrade networkx"
   ]
  },
  {
   "cell_type": "code",
   "execution_count": null,
   "id": "9521fc5a-06e3-4e84-ba30-171d7dacbf7c",
   "metadata": {
    "scrolled": true
   },
   "outputs": [],
   "source": [
    "from IPython.core.display import HTML\n",
    "HTML(\"\"\"\n",
    "<style>\n",
    ".imagesource {\n",
    "    font-size: xx-small;\n",
    "}\n",
    "</style>\n",
    "\"\"\")\n",
    "\n",
    "from datascience import *\n",
    "\n",
    "import matplotlib\n",
    "matplotlib.use('Agg')\n",
    "%matplotlib inline\n",
    "import matplotlib.pyplot as plt\n",
    "import numpy as np\n",
    "plt.style.use('fivethirtyeight')\n",
    "\n",
    "import os\n",
    "import networkx as nx\n",
    "\n",
    "from IPython.core.display import HTML\n",
    "def css_styling():\n",
    "    styles = open(\"custom_style.css\", \"r\").read()\n",
    "    return HTML(styles)\n",
    "css_styling()"
   ]
  },
  {
   "cell_type": "markdown",
   "id": "c8e2babb",
   "metadata": {},
   "source": [
    "## Advanced Complete Network Data"
   ]
  },
  {
   "cell_type": "markdown",
   "id": "bbe204fe",
   "metadata": {},
   "source": [
    "You have had practice working with network data that includes node attributes, and exploring mathematical models for quantifying these networks in Lab 3 and Lab 4. This homework builds on your previous experience to work with complete network data.\n",
    "\n",
    "As you may remember, the Add Health dataset we have been working with stores information about network connections in an edge list. The Add Health dataset also has information about the nodes; it has their grade, their gender, and their race/ethnicity.\n"
   ]
  },
  {
   "cell_type": "markdown",
   "id": "4eda46e8",
   "metadata": {
    "deletable": false,
    "editable": false
   },
   "source": [
    "# Question 1: \n",
    "Load the functions that allow you to read in the Add Health dataset.\n",
    "\n",
    "_Hint: review the code in Lab 3_"
   ]
  },
  {
   "cell_type": "code",
   "execution_count": null,
   "id": "7d0f39f7",
   "metadata": {
    "tags": []
   },
   "outputs": [],
   "source": [
    "\n",
    "def read_add_health_edges(network_id, path=data_path):\n",
    "    ...\n",
    "    return(network.to_undirected())\n",
    "\n",
    "\n",
    "def read_add_health_attributes_oneperrow(network_id, net, path=data_path):\n",
    "    ...\n",
    "    return(net)\n",
    "\n",
    "\n",
    "def read_add_health_attributes(network_id, net, path=data_path):\n",
    "    ...\n",
    "    return(net)\n",
    "\n",
    "\n",
    "def read_add_health_network(network_id):\n",
    "   ...\n",
    "    return(this_net)"
   ]
  },
  {
   "cell_type": "code",
   "execution_count": null,
   "id": "e98ce9cb",
   "metadata": {
    "deletable": false,
    "editable": false
   },
   "outputs": [],
   "source": [
    "grader.check(\"q1\")"
   ]
  },
  {
   "cell_type": "markdown",
   "id": "0a242e3f",
   "metadata": {
    "deletable": false,
    "editable": false
   },
   "source": [
    "# Question 2:\n",
    "\n",
    "Use the read_add_health_network function to load the datasets into memory. Remember to omit networks 1 and 48.\n",
    "\n",
    "_Hint: again, review the code in Lab 3_"
   ]
  },
  {
   "cell_type": "code",
   "execution_count": null,
   "id": "554b6555",
   "metadata": {
    "tags": []
   },
   "outputs": [],
   "source": [
    "add_health_ids = ...\n",
    "add_health_networks = ..."
   ]
  },
  {
   "cell_type": "code",
   "execution_count": null,
   "id": "b15d9607",
   "metadata": {
    "deletable": false,
    "editable": false
   },
   "outputs": [],
   "source": [
    "grader.check(\"q2\")"
   ]
  },
  {
   "cell_type": "markdown",
   "id": "167db6fa",
   "metadata": {
    "deletable": false,
    "editable": false
   },
   "source": [
    "# Question 3:\n",
    "\n",
    "Fill in the definition of a helper function to calculate the average degree of the given network.\n",
    "\n",
    "_Hint: remember that the average degree is 2 times the number of edges, divided by the number of nodes_"
   ]
  },
  {
   "cell_type": "code",
   "execution_count": null,
   "id": "a89b023f-7eb4-45f1-a985-66b1339be54c",
   "metadata": {
    "tags": []
   },
   "outputs": [],
   "source": [
    "\n",
    "def average_degree(net):\n",
    "    ## Helper function to calculate the average degree of a network\n",
    "    \n",
    "    ##Parameters\n",
    "    ##----------\n",
    "    ##net : nx.Graph\n",
    "    ##    - The graph to calculate average degree\n",
    "        \n",
    "    ##Return\n",
    "    ##------\n",
    "    ##float\n",
    "    ##    - Average degree of the network\n",
    "    \n",
    "    \n",
    "    return(...)\n",
    "\n",
    "avg_d=average_degree(add_health_networks[0])\n",
    "avg_d"
   ]
  },
  {
   "cell_type": "code",
   "execution_count": null,
   "id": "c6e86624",
   "metadata": {
    "deletable": false,
    "editable": false
   },
   "outputs": [],
   "source": [
    "grader.check(\"q3\")"
   ]
  },
  {
   "cell_type": "markdown",
   "id": "f64e6050",
   "metadata": {
    "deletable": false,
    "editable": false
   },
   "source": [
    "# Question 4\n",
    "\n",
    "Write a loop that goes through each of the 84 Add Health networks and calculates the clustering coefficient and the number of nodes in the network. *(Please use the average clustering coefficient, implemented by the `average_clustering` function from the networkx package.)*\n",
    "\n",
    "Store the results in a Table called `add_health_clustering` using columns called `num_nodes` and `avg_clustering_coef`.\n"
   ]
  },
  {
   "cell_type": "code",
   "execution_count": null,
   "id": "9f253d0f",
   "metadata": {
    "tags": []
   },
   "outputs": [],
   "source": [
    "clustering = make_array()\n",
    "num_nodes = make_array()\n",
    "\n",
    "for g in ...:\n",
    "    clustering = np.append(clustering, ...)\n",
    "    num_nodes = np.append(num_nodes, ...)\n",
    "\n",
    "add_health_clustering = Table().with_columns(['num_nodes', num_nodes,\n",
    "                                              'avg_clustering_coef', clustering])\n",
    "add_health_clustering"
   ]
  },
  {
   "cell_type": "code",
   "execution_count": null,
   "id": "2312e6a2",
   "metadata": {
    "deletable": false,
    "editable": false
   },
   "outputs": [],
   "source": [
    "grader.check(\"q4\")"
   ]
  },
  {
   "cell_type": "markdown",
   "id": "bea54af9",
   "metadata": {},
   "source": [
    "##  Average path length of biggest component"
   ]
  },
  {
   "cell_type": "markdown",
   "id": "bce0600d",
   "metadata": {},
   "source": [
    "Remember that it really only makes sense to think about the average path length between two nodes that are in the same component. (Nodes in different components have no path between them.) Since some of the Add Health networks have more than one component, we'll start by picking out only the largest component in each network."
   ]
  },
  {
   "cell_type": "code",
   "execution_count": null,
   "id": "3da9eebe",
   "metadata": {},
   "outputs": [],
   "source": [
    "# This might take a few seconds...\n",
    "def get_biggest_component(network):\n",
    "    \"\"\" Returns the largest connected component of a network\n",
    "    \n",
    "    Parameters\n",
    "    ----------\n",
    "    network : nx.Graph\n",
    "        - A single networkx graph\n",
    "    Returns\n",
    "    -------\n",
    "    nx.Graph\n",
    "        - The largest component of the input network\n",
    "    \"\"\"\n",
    "    components = [network.subgraph(c) for c in nx.connected_components(network)]\n",
    "    biggest = max(components, key=len)\n",
    "    return(biggest)\n",
    "\n",
    "add_health_biggest_components = [get_biggest_component(g) for g in add_health_networks]"
   ]
  },
  {
   "cell_type": "markdown",
   "id": "9eb6d28f",
   "metadata": {
    "deletable": false,
    "editable": false
   },
   "source": [
    "# Question 5:\n",
    "\n",
    "The following code includes a loop that goes through the object created above (the largest component of each of the 84 Add Health networks) and calculates the average shortest path length and the number of nodes in the network. **This may take 3-5 minutes to run.**\n",
    "\n",
    "Store the results in a Table called `add_health_sp` using columns called `num_nodes`, `avg_shortest_path`, and `avg_degree`.\n"
   ]
  },
  {
   "cell_type": "code",
   "execution_count": null,
   "id": "34600179",
   "metadata": {
    "tags": []
   },
   "outputs": [],
   "source": [
    "## NOTE: your code might take a little while\n",
    "##       (~3-5 minutes) to run\n",
    "\n",
    "avg_shortest_path = make_array()\n",
    "num_nodes = make_array()\n",
    "avg_degree = make_array()\n",
    "\n",
    "for c in add_health_biggest_components:\n",
    "    avg_shortest_path = np.append(avg_shortest_path, nx.average_shortest_path_length(c))\n",
    "    num_nodes = np.append(num_nodes, c.number_of_nodes())\n",
    "    avg_degree = np.append(avg_degree, average_degree(c))\n",
    "\n",
    "\n",
    "add_health_sp = ...\n",
    "add_health_sp"
   ]
  },
  {
   "cell_type": "code",
   "execution_count": null,
   "id": "fcd31476",
   "metadata": {
    "deletable": false,
    "editable": false
   },
   "outputs": [],
   "source": [
    "grader.check(\"q5\")"
   ]
  },
  {
   "cell_type": "markdown",
   "id": "d064251a",
   "metadata": {},
   "source": [
    "\n",
    "### Exploring network attributes"
   ]
  },
  {
   "cell_type": "markdown",
   "id": "35565b77",
   "metadata": {},
   "source": [
    "We'll start by looking at the fraction of students in one school that is male."
   ]
  },
  {
   "cell_type": "markdown",
   "id": "95211039",
   "metadata": {},
   "source": [
    "Looking at the [dataset information](http://moreno.ss.uci.edu/data.html#adhealth), you can see that the Add Health sex variable has the values 1=male, 2=female, and 0=unreported."
   ]
  },
  {
   "cell_type": "markdown",
   "id": "0ab87dc7",
   "metadata": {},
   "source": [
    "**Practice** Use the `get_node_attributes` function to grab the sexes of the students in the first school by filling in the code below."
   ]
  },
  {
   "cell_type": "code",
   "execution_count": null,
   "id": "ecbb3605",
   "metadata": {},
   "outputs": [],
   "source": [
    "net = add_health_networks[0]\n",
    "sexes = nx.get_node_attributes(net, 'sex')\n",
    "sexes"
   ]
  },
  {
   "cell_type": "markdown",
   "id": "b31e791b",
   "metadata": {
    "deletable": false,
    "editable": false
   },
   "source": [
    "# Question 6:\n",
    "\n",
    "Write another loop that calculates the assortativity coefficient for sex in each community. Store your results in an array called `add_health_r`."
   ]
  },
  {
   "cell_type": "code",
   "execution_count": null,
   "id": "0a8afe3c",
   "metadata": {
    "tags": []
   },
   "outputs": [],
   "source": [
    "add_health_r = make_array()\n",
    "\n",
    "for net in add_health_networks:\n",
    "    net_r = ...\n",
    "    add_health_r = ...\n",
    "    \n",
    "add_health_r"
   ]
  },
  {
   "cell_type": "code",
   "execution_count": null,
   "id": "d0fdd306",
   "metadata": {
    "deletable": false,
    "editable": false
   },
   "outputs": [],
   "source": [
    "grader.check(\"q6\")"
   ]
  },
  {
   "cell_type": "markdown",
   "id": "2bea503a",
   "metadata": {
    "deletable": false,
    "editable": false
   },
   "source": [
    "# Question 7:\n",
    "\n",
    "Now let's take a deeper dive, focusin on a specific Add Health network:"
   ]
  },
  {
   "cell_type": "code",
   "execution_count": null,
   "id": "17b4ddc7",
   "metadata": {
    "deletable": false,
    "editable": false
   },
   "outputs": [],
   "source": [
    "first_add_health = add_health_networks[0]"
   ]
  },
  {
   "cell_type": "markdown",
   "id": "9fb0bd6e",
   "metadata": {
    "deletable": false,
    "editable": false
   },
   "source": [
    "\n",
    "Calculate the assortativity coefficient for sex in `first_add_health`."
   ]
  },
  {
   "cell_type": "code",
   "execution_count": null,
   "id": "6b53608a",
   "metadata": {
    "tags": []
   },
   "outputs": [],
   "source": [
    "q7 = ...\n",
    "q7"
   ]
  },
  {
   "cell_type": "code",
   "execution_count": null,
   "id": "c72ed18c",
   "metadata": {
    "deletable": false,
    "editable": false
   },
   "outputs": [],
   "source": [
    "grader.check(\"q7\")"
   ]
  },
  {
   "cell_type": "markdown",
   "id": "e4695b46",
   "metadata": {},
   "source": [
    "\n",
    "## Null Models and Homophily"
   ]
  },
  {
   "cell_type": "markdown",
   "id": "b04ea5e2",
   "metadata": {},
   "source": [
    "We're interested in understanding whether or not there is homophily according to sex in this specific network. The assortativity coefficient is positive, which suggests that there is evidence in favor of homophily. However, we're in a similar situation to the example we saw in lecture: it seems possible that, actually, there is no homophily by sex in this network; rather, the network is assembled as the result of a random process and, just by chance, we happened to get a network that had a positive assortativity coefficient.\n",
    "\n",
    "To assess how likely this possibility is, we will set up a *null model* and to compare what we see in the real world to what we would see if the null model were true. Remember that a null model describes the world in the absence of the phenomenon we are interested in; here, it describes a world in which networks are formed without any homophily by sex. The first_add_health network would be the observed network."
   ]
  },
  {
   "cell_type": "markdown",
   "id": "a8e3502a",
   "metadata": {},
   "source": [
    "For this null model, we will assume that the network structure is fixed, but that the gender of each node is randomly assigned. (Another way of saying this is that we *condition on* the observed network structure.)\n",
    "\n",
    "We'd like to know what the distribution of assortativity coefficients would look like under this null model. Then we can see how likely (or unlikely) the observed assortativity coefficient would be if the null model were true."
   ]
  },
  {
   "cell_type": "code",
   "execution_count": null,
   "id": "1fe89f67",
   "metadata": {},
   "outputs": [],
   "source": [
    "import random\n",
    "\n",
    "def shuffle_attribute(net, att): # the two inputs are: the network, and the attribute we work with\n",
    "    att_dict = nx.get_node_attributes(net, att) # get the dictionary of the network\n",
    "    \n",
    "    # we want a new copy of the network (we don't want to clobber the original one)\n",
    "    newnet = net.copy()\n",
    "    \n",
    "    # create a dictionary mapping node id to shuffled attribute values\n",
    "    node_ids = att_dict.keys()\n",
    "    att_vals = list(att_dict.values())\n",
    "    random.shuffle(att_vals)\n",
    "    \n",
    "    new_att = dict(zip(node_ids, att_vals)) # create the new dictionary\n",
    "    \n",
    "    # assign the newly shuffled attribute values\n",
    "    nx.set_node_attributes(newnet, name=att, values=new_att)\n",
    "    \n",
    "    return(newnet)"
   ]
  },
  {
   "cell_type": "markdown",
   "id": "7ef4e202",
   "metadata": {},
   "source": [
    "If you run the following cell a few times, you should see that the sex value is getting shuffled"
   ]
  },
  {
   "cell_type": "code",
   "execution_count": null,
   "id": "eeff6573",
   "metadata": {},
   "outputs": [],
   "source": [
    "test = shuffle_attribute(first_add_health, 'sex')\n",
    "test.nodes[1]['sex']"
   ]
  },
  {
   "cell_type": "markdown",
   "id": "9ea25bae",
   "metadata": {
    "deletable": false,
    "editable": false
   },
   "source": [
    "# Question 8:\n",
    "\n",
    "Fill in the code below to reshuffle sex in the `first_add_health` network 1000 times. Record the assortativity coefficient for each reshuffled network."
   ]
  },
  {
   "cell_type": "code",
   "execution_count": null,
   "id": "05930cd0",
   "metadata": {
    "tags": []
   },
   "outputs": [],
   "source": [
    "# Hint: use the correct index\n",
    "first_add_health = add_health_networks[...]\n",
    "\n",
    "null_network_r = make_array()\n",
    "\n",
    "for _ in range(...):\n",
    "    # shuffle the sex for the current network\n",
    "    cur_net = shuffle_attribute(first_add_health, ...)\n",
    "    # record the coefficient of the shuffled current network by appending it to the array\n",
    "    null_network_r = np.append(null_network_r, nx.attribute_assortativity_coefficient(..., ...))"
   ]
  },
  {
   "cell_type": "code",
   "execution_count": null,
   "id": "8320986f",
   "metadata": {
    "deletable": false,
    "editable": false
   },
   "outputs": [],
   "source": [
    "grader.check(\"q8\")"
   ]
  },
  {
   "cell_type": "markdown",
   "id": "d16b80c8",
   "metadata": {},
   "source": [
    "<!-- END QUESTION -->\n",
    "\n",
    "Let's make a histogram to be able to visualize the 1000 iterations."
   ]
  },
  {
   "cell_type": "code",
   "execution_count": null,
   "id": "967df331",
   "metadata": {},
   "outputs": [],
   "source": [
    "Table().with_column('null_network_r', null_network_r).hist()"
   ]
  },
  {
   "cell_type": "markdown",
   "id": "b9a52648",
   "metadata": {
    "deletable": false,
    "editable": false
   },
   "source": [
    "# Question 9:\n",
    "\n",
    "Where is the center of the distribution for our null model?"
   ]
  },
  {
   "cell_type": "markdown",
   "id": "f2621f58",
   "metadata": {
    "deletable": false,
    "editable": false
   },
   "source": [
    "_type your response here_"
   ]
  },
  {
   "cell_type": "markdown",
   "id": "08fad204",
   "metadata": {
    "deletable": false,
    "editable": false
   },
   "source": [
    "# Question 10: \n",
    "\n",
    "Now calculate the assortativity coefficient for the observed network (the first Add Health network) that you based the random networks on. Call this `observed_r`."
   ]
  },
  {
   "cell_type": "code",
   "execution_count": null,
   "id": "3eba6213",
   "metadata": {
    "tags": []
   },
   "outputs": [],
   "source": [
    "observed_r = ...\n",
    "observed_r"
   ]
  },
  {
   "cell_type": "code",
   "execution_count": null,
   "id": "e5944c7a",
   "metadata": {
    "deletable": false,
    "editable": false
   },
   "outputs": [],
   "source": [
    "grader.check(\"q10\")"
   ]
  },
  {
   "cell_type": "markdown",
   "id": "add62d8f",
   "metadata": {
    "deletable": false,
    "editable": false
   },
   "source": [
    "# Question 11:\n",
    "\n",
    "Where in the null distribution does the observed value fall? What does this suggest about how likely the observed value is to have been generated from the null model?"
   ]
  },
  {
   "cell_type": "code",
   "execution_count": null,
   "id": "9200a6f7-14b5-403b-8db6-3de33091fb79",
   "metadata": {},
   "outputs": [],
   "source": []
  },
  {
   "cell_type": "markdown",
   "id": "367078e7",
   "metadata": {
    "deletable": false,
    "editable": false
   },
   "source": [
    "---\n",
    "\n",
    "To double-check your work, the cell below will rerun all of the autograder tests."
   ]
  },
  {
   "cell_type": "code",
   "execution_count": null,
   "id": "bb3cc6c5",
   "metadata": {
    "deletable": false,
    "editable": false
   },
   "outputs": [],
   "source": [
    "grader.check_all()"
   ]
  },
  {
   "cell_type": "markdown",
   "id": "d85154f8",
   "metadata": {
    "deletable": false,
    "editable": false
   },
   "source": [
    "## Submission\n",
    "\n",
    "Make sure you have run all cells in your notebook in order before running the cell below, so that all images/graphs appear in the output. The cell below will generate a zip file for you to submit. **Please save before exporting!**\n",
    "\n",
    "Please upload the .zip file to Gradescope."
   ]
  },
  {
   "cell_type": "code",
   "execution_count": null,
   "id": "b7775d91",
   "metadata": {
    "deletable": false,
    "editable": false
   },
   "outputs": [],
   "source": [
    "# Save your notebook first, then run this cell to export your submission.\n",
    "grader.export(run_tests=True)"
   ]
  },
  {
   "cell_type": "markdown",
   "id": "83bab19b",
   "metadata": {},
   "source": [
    " "
   ]
  }
 ],
 "metadata": {
  "kernelspec": {
   "display_name": "Python 3 (ipykernel)",
   "language": "python",
   "name": "python3"
  },
  "language_info": {
   "codemirror_mode": {
    "name": "ipython",
    "version": 3
   },
   "file_extension": ".py",
   "mimetype": "text/x-python",
   "name": "python",
   "nbconvert_exporter": "python",
   "pygments_lexer": "ipython3",
   "version": "3.12.4"
  },
  "otter": {
   "OK_FORMAT": true,
   "tests": {
    "q1": {
     "name": "q1",
     "points": null,
     "suites": [
      {
       "cases": [
        {
         "code": ">>> data_path == 'data/'\nTrue",
         "hidden": false,
         "locked": false
        }
       ],
       "scored": true,
       "setup": "",
       "teardown": "",
       "type": "doctest"
      }
     ]
    },
    "q10": {
     "name": "q10",
     "points": null,
     "suites": [
      {
       "cases": [
        {
         "code": ">>> np.isclose(observed_r, 0.142074)\nTrue",
         "hidden": false,
         "locked": false
        }
       ],
       "scored": true,
       "setup": "",
       "teardown": "",
       "type": "doctest"
      }
     ]
    },
    "q2": {
     "name": "q2",
     "points": null,
     "suites": [
      {
       "cases": [
        {
         "code": ">>> len(add_health_networks) == 82\nTrue",
         "hidden": false,
         "locked": false
        }
       ],
       "scored": true,
       "setup": "",
       "teardown": "",
       "type": "doctest"
      }
     ]
    },
    "q3": {
     "name": "q3",
     "points": null,
     "suites": [
      {
       "cases": [
        {
         "code": ">>> np.isclose(avg_d, 6.6476)\nTrue",
         "hidden": false,
         "locked": false
        }
       ],
       "scored": true,
       "setup": "",
       "teardown": "",
       "type": "doctest"
      }
     ]
    },
    "q4": {
     "name": "q4",
     "points": null,
     "suites": [
      {
       "cases": [
        {
         "code": ">>> np.isclose(sum(add_health_clustering['num_nodes']) / len(add_health_clustering['num_nodes']), 870.1097)\nTrue",
         "hidden": false,
         "locked": false
        },
        {
         "code": ">>> np.isclose(sum(add_health_clustering['avg_clustering_coef']) / len(add_health_clustering['avg_clustering_coef']), 0.2198)\nTrue",
         "hidden": false,
         "locked": false
        }
       ],
       "scored": true,
       "setup": "",
       "teardown": "",
       "type": "doctest"
      }
     ]
    },
    "q5": {
     "name": "q5",
     "points": null,
     "suites": [
      {
       "cases": [
        {
         "code": ">>> np.isclose(sum(add_health_sp['num_nodes']) / len(add_health_sp['num_nodes']), 866.1219)\nTrue",
         "hidden": false,
         "locked": false
        },
        {
         "code": ">>> np.isclose(sum(add_health_sp['avg_shortest_path']) / len(add_health_sp['avg_shortest_path']), 4.3615)\nTrue",
         "hidden": false,
         "locked": false
        }
       ],
       "scored": true,
       "setup": "",
       "teardown": "",
       "type": "doctest"
      }
     ]
    },
    "q6": {
     "name": "q6",
     "points": null,
     "suites": [
      {
       "cases": [
        {
         "code": ">>> np.isclose(len(add_health_r), 82)\nTrue",
         "hidden": false,
         "locked": false
        },
        {
         "code": ">>> np.isclose(sum(add_health_r), 10.5323)\nTrue",
         "hidden": false,
         "locked": false
        }
       ],
       "scored": true,
       "setup": "",
       "teardown": "",
       "type": "doctest"
      }
     ]
    },
    "q7": {
     "name": "q7",
     "points": null,
     "suites": [
      {
       "cases": [
        {
         "code": ">>> np.isclose(q7, 0.142074)\nTrue",
         "hidden": false,
         "locked": false
        }
       ],
       "scored": true,
       "setup": "",
       "teardown": "",
       "type": "doctest"
      }
     ]
    },
    "q8": {
     "name": "q8",
     "points": null,
     "suites": [
      {
       "cases": [
        {
         "code": ">>> np.isclose(sum(null_network_r) / len(null_network_r), -0.0099759)\nFalse",
         "hidden": false,
         "locked": false
        }
       ],
       "scored": true,
       "setup": "",
       "teardown": "",
       "type": "doctest"
      }
     ]
    }
   }
  },
  "varInspector": {
   "cols": {
    "lenName": 16,
    "lenType": 16,
    "lenVar": 40
   },
   "kernels_config": {
    "python": {
     "delete_cmd_postfix": "",
     "delete_cmd_prefix": "del ",
     "library": "var_list.py",
     "varRefreshCmd": "print(var_dic_list())"
    },
    "r": {
     "delete_cmd_postfix": ") ",
     "delete_cmd_prefix": "del ",
     "library": "var_list.r",
     "varRefreshCmd": "print(var_dic_list()) "
    }
   },
   "types_to_exclude": [
    "module",
    "function",
    "builtin_function_or_method",
    "instance",
    "_Feature"
   ],
   "window_display": false
  }
 },
 "nbformat": 4,
 "nbformat_minor": 5
}
