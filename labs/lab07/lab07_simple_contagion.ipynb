{
 "cells": [
  {
   "cell_type": "code",
   "execution_count": null,
   "id": "9bd6b1d8",
   "metadata": {
    "deletable": false,
    "editable": false
   },
   "outputs": [],
   "source": [
    "# Initialize Otter\n",
    "import otter\n",
    "grader = otter.Notebook(\"lab07_simple_contagion.ipynb\")"
   ]
  },
  {
   "cell_type": "code",
   "execution_count": null,
   "id": "e54f78a5-db01-49ed-850c-2f6646d811ad",
   "metadata": {},
   "outputs": [],
   "source": [
    "#from array import array\n",
    "import pandas as pd\n",
    "from IPython.core.display import HTML\n",
    "from datascience import *\n",
    "\n",
    "import matplotlib\n",
    "from matplotlib import animation as animation\n",
    "matplotlib.use('Agg')\n",
    "%matplotlib inline\n",
    "import matplotlib.pyplot as plt\n",
    "import numpy as np\n",
    "import os\n",
    "plt.style.use('fivethirtyeight')\n",
    "\n",
    "import networkx as nx\n",
    "\n",
    "from ipywidgets import interact, interactive, fixed, interact_manual, widgets"
   ]
  },
  {
   "cell_type": "markdown",
   "id": "857f6b74",
   "metadata": {},
   "source": [
    "# Lab 07: Centrality and Simple Contagion"
   ]
  },
  {
   "cell_type": "markdown",
   "id": "05b7178c",
   "metadata": {},
   "source": [
    "Today, we're going to talk about two topics. First, we're going to talk about *centrality*. We covered centrality earlier in the semester, but as a reminder, we think of a node as being central when it is in the middle of the network in some way. There are many different ways of defining this concept precisely; we'll look at one example today.\n",
    "\n",
    "Next, we're going to start to explore simple contagion on networks. By simple contagion, we mean phenomena that spreads without a decision-making process. For example, disease, information, or influence can spread through a network simply through exposure.\n",
    "\n",
    "We look at these two topics together because we expect that central nodes will play an important role in simple contagion within networks. "
   ]
  },
  {
   "cell_type": "markdown",
   "id": "f52d10e1",
   "metadata": {},
   "source": [
    "### Centrality"
   ]
  },
  {
   "cell_type": "markdown",
   "id": "a8d6592d",
   "metadata": {},
   "source": [
    "So far, we have thought mostly about network structure and how it might result from various social processes like homophily or triadic closure. Today, we're going to change our focus to how stuff--such as information, resources, or diseases--can spread across networks.\n",
    "\n",
    "First, we're going to investigate a network metric called *betweenness centrality* which gets at the concept of how important a node is in how things spread across networks."
   ]
  },
  {
   "cell_type": "markdown",
   "id": "87eaf358",
   "metadata": {},
   "source": [
    "The betweenness centrality of a node $v$ is defined as the fraction of all shortest paths between all pairs of nodes in the network that pass through $v$.\n",
    "\n",
    "Mathematically, this [can be written](https://en.wikipedia.org/wiki/Betweenness_centrality)\n",
    "\n",
    "$$bc(v) = \\sum_{s, t \\in V} \\frac{\\sigma(s, t | v)}{\\sigma(s, t)},$$\n",
    "\n",
    "where \n",
    "\n",
    "* $bc(v)$ is the betweenness centrality of node $v$\n",
    "* $\\sigma(s, t | v)$ is the number of the shortest paths between node $s$ and node $t$ that goes through $v$\n",
    "* $\\sigma(s,t)$ is the number of shortest paths between node $s$ and node $t$ (note that there can be more than one) \n",
    "\n",
    "Note that the $s$ and $t$ vary over all pairs of nodes *not counting* the node $v$ whose betweenness is being calculated."
   ]
  },
  {
   "cell_type": "markdown",
   "id": "a8368687",
   "metadata": {},
   "source": [
    "<img src=\"example_network.png\">"
   ]
  },
  {
   "cell_type": "markdown",
   "id": "caf2b34d",
   "metadata": {},
   "source": [
    "Betweenness of node 3:\n",
    "\n",
    "1 <-> 2 contributes 1<br>\n",
    "1 <-> 4 contributes 1<br>\n",
    "2 <-> 4 contributes 1<br>\n",
    "\n",
    "All other pairs contribute 0.\n",
    "\n",
    "So, betweenness centrality for node 3 is equal to 3.\n"
   ]
  },
  {
   "cell_type": "markdown",
   "id": "a5ac096b-611c-4879-9a3c-cc4d63427a00",
   "metadata": {},
   "source": [
    "### Contagion"
   ]
  },
  {
   "cell_type": "markdown",
   "id": "57c04a9b-5de0-49b9-98b0-af58f9401e30",
   "metadata": {},
   "source": [
    "The second concept for today is a simple but very useful model for the spread of an infectious disease, called the SIR model. SIR stands for the three different states that each person in the population can be in:\n",
    "\n",
    "* Susceptible\n",
    "* Infected\n",
    "* Recovered / Removed\n",
    "\n",
    "The idea is that people can only move through the states according to the diagram below: that is, susceptible people can become infected and, once infected, people recover. Once they have recovered, they cannot be infected again, so they are immune.\n",
    "\n",
    "We'll work with one main parameter in our exploration here:\n",
    "\n",
    "* $\\beta$ (beta) - probability of a susceptible node getting infected due to a connection to an infected neighbor\n",
    "\n",
    "Note that beta is defined as the probability a node is infected due to contact with one *infected neighbor*. If a node has several infected neighbors, the total probability that the node will get infected increases."
   ]
  },
  {
   "cell_type": "markdown",
   "id": "90a19741-22b4-4a7e-a5d3-beb295e38ad8",
   "metadata": {},
   "source": [
    "<img src='sir_diagram.png'>"
   ]
  },
  {
   "cell_type": "markdown",
   "id": "c28c7eac-9e74-4db5-b551-4e15cad38e46",
   "metadata": {},
   "source": [
    "### Simulating an SIR epidemic"
   ]
  },
  {
   "cell_type": "code",
   "execution_count": null,
   "id": "168efe38-3ca2-4d3c-8ee6-f138c7c021b2",
   "metadata": {},
   "outputs": [],
   "source": [
    "# Rough outline:\n",
    "#\n",
    "# randomly pick a starting node to infect\n",
    "#\n",
    "# while any infected\n",
    "#    get neighbors of infected\n",
    "#    set infected to recovered\n",
    "#    neighbors become infected with prob beta * # infected contacts\n",
    "#    record how many were infected"
   ]
  },
  {
   "cell_type": "code",
   "execution_count": null,
   "id": "cc6b9a7b-5cce-45d7-9b48-6be336d4f2d3",
   "metadata": {},
   "outputs": [],
   "source": [
    "def set_status(net, ids, value):\n",
    "    \"\"\"\n",
    "    set the value of the 'status' attribute for the nodes with the given ids\n",
    "    in the given network\n",
    "    \"\"\"\n",
    "    nx.set_node_attributes(net, \n",
    "                           name = 'status', \n",
    "                           values = dict([x for x in zip(ids, [value]*len(ids))])) # this creates the attribute dictionary \n",
    "\n",
    "def get_status(net, ids):\n",
    "    \"\"\"\n",
    "    get the value of the 'status' attributes for the nodes \n",
    "    with given ids in the given network\n",
    "    \"\"\"\n",
    "    dat = nx.get_node_attributes(net, 'status')\n",
    "    return([dat[x] for x in ids]) \n",
    "\n",
    "def count_infected_nodes(net):\n",
    "    return(np.sum(np.array(list(nx.get_node_attributes(net, 'status').values())) == 'infected')) # count how many nodes have the attribute as \"infected\""
   ]
  },
  {
   "cell_type": "code",
   "execution_count": null,
   "id": "fbaa75c0-054b-46d8-9d8e-80355e458366",
   "metadata": {},
   "outputs": [],
   "source": [
    "def sim_epidemic(net, start_nodes=None, innoculated_nodes=None, beta=0.3, draw=False):\n",
    "    \n",
    "    # all nodes start susceptible\n",
    "    set_status(net, net.nodes(), 'susceptible')\n",
    "\n",
    "    # innoculated nodes start as recovered\n",
    "    # the default setting for this input is None\n",
    "    if innoculated_nodes is not None:\n",
    "        set_status(net, innoculated_nodes, 'innoculated') # if innoculated_nodes is not set to none, set it as attribute values\n",
    "    else:\n",
    "        innoculated_nodes = []\n",
    "\n",
    "    eligible_to_start = [x for x in net.nodes() if x not in innoculated_nodes]   # the dynamics will start with the ones that are not innoculated\n",
    "        \n",
    "    # if no start_nodes specified, pick one node at random as the seed\n",
    "    if start_nodes is None:\n",
    "        infected_nodes = np.random.choice(eligible_to_start, 1)\n",
    "    else:\n",
    "        infected_nodes = start_nodes\n",
    "\n",
    "    \n",
    "    set_status(net, infected_nodes, 'infected')\n",
    "\n",
    "    incidence = [len(infected_nodes)] # to record the infection incidences\n",
    "    \n",
    "    if draw:\n",
    "        status_cmap = {'susceptible' : '#00FF00', 'infected' : '#FF0000', 'recovered' : '#000000', 'innoculated' : '#0000FF'}\n",
    "        status_cmap = {'susceptible' : 'green', 'infected' : 'red', 'recovered' : 'yellow', 'innoculated' : 'black'}\n",
    "        pos = nx.random_layout(net)\n",
    "        \n",
    "        #fig_nums = []\n",
    "\n",
    "    while count_infected_nodes(net) > 0: # this loop will go on as long as the number of infected nodes is > 0\n",
    "\n",
    "        if draw:\n",
    "            next_fig, next_ax = plt.subplots() \n",
    "            plt.figure(nx.draw(net, \n",
    "                               pos=pos,\n",
    "                               cmap=status_cmap, \n",
    "#                                node_color=[status_cmap[net[node]['status']] for node in net.nodes()]));\n",
    "                               node_color=[status_cmap[x] for x in get_status(net, net.nodes())]));\n",
    "#                                node_color=[status_cmap[net.node[node]['status']] for node in net]));\n",
    "            #nx.draw(net, \n",
    "            #                   pos=pos,\n",
    "            #                   cmap=status_cmap, \n",
    "            #                   node_color=[status_cmap[net.node[node]['status']] for node in net],\n",
    "            #                   ax=next_ax)\n",
    "            #fig_nums.append(plt.gcf().number)\n",
    "        \n",
    "        ## get neighbors of infected nodes\n",
    "        neighbors = [net.neighbors(x) for x in infected_nodes]\n",
    "\n",
    "        # see http://stackoverflow.com/questions/952914/making-a-flat-list-out-of-list-of-lists-in-python\n",
    "        neighbors = [item for sublist in neighbors for item in sublist]        \n",
    "        neighbors_status = np.array(get_status(net, neighbors))\n",
    "\n",
    "        ## set infected nodes to recovered\n",
    "        set_status(net, infected_nodes, 'recovered')\n",
    "\n",
    "        ## infect susceptible neighbors with probability beta x number of infected contacts\n",
    "        ## (a node with more than one infected contact will have more than one draws at being infected here)\n",
    "        neighbors = [x[0] for x in zip(neighbors, neighbors_status) if x[1] == 'susceptible']\n",
    "        infect_draws = np.random.random_sample(len(neighbors))\n",
    "        #print(infect_draws)\n",
    "        to_infect = list(np.array(neighbors)[np.where(infect_draws < beta)])\n",
    "\n",
    "        num_infected_this_round = len(set(to_infect))\n",
    "        \n",
    "        set_status(net, to_infect, 'infected')\n",
    "        infected_nodes = to_infect\n",
    "\n",
    "        ## record number infected this round (also called incidence at this time step)\n",
    "        incidence.append(num_infected_this_round)\n",
    "    \n",
    "    return incidence # finally, the function will return an array of number that records how many nodes are infected each round"
   ]
  },
  {
   "cell_type": "markdown",
   "id": "76846f47-213c-42a2-9982-88ea2807bf6c",
   "metadata": {},
   "source": [
    "### SIR model: illustration"
   ]
  },
  {
   "cell_type": "markdown",
   "id": "b1184eb3-73cf-42ce-8306-e670aa7040c4",
   "metadata": {},
   "source": [
    "The code above takes a given network and simulates an SIR epidemic on it. It returns a list that has the *incidence* -- that is, the number of new infections -- at each time step. By adding these values up, we can tell how many people ended up being infected by the outbreak."
   ]
  },
  {
   "cell_type": "code",
   "execution_count": null,
   "id": "da16fbb0-85ee-42b5-aedf-f29b38a1e71b",
   "metadata": {},
   "outputs": [],
   "source": [
    "np.random.seed(seed=101)\n",
    "er_net_example = nx.erdos_renyi_graph(n=20, p=.2)"
   ]
  },
  {
   "cell_type": "code",
   "execution_count": null,
   "id": "51500a18-6af4-493a-b13b-0f95b32aa9c1",
   "metadata": {
    "scrolled": true
   },
   "outputs": [],
   "source": [
    "nx.draw(er_net_example)"
   ]
  },
  {
   "cell_type": "code",
   "execution_count": null,
   "id": "8ea716a3-8e14-4249-b0a2-75551c54779e",
   "metadata": {},
   "outputs": [],
   "source": [
    "np.random.seed(seed=100)\n",
    "res = sim_epidemic(er_net_example, beta=.3, draw=True)\n",
    "res"
   ]
  },
  {
   "cell_type": "markdown",
   "id": "d7ed38f8-77b7-4612-a4e2-772dff0fe9a6",
   "metadata": {},
   "source": [
    "### SIR model in Erdos-Renyi random networks"
   ]
  },
  {
   "cell_type": "markdown",
   "id": "8dc0165f-2a75-4d11-b862-1d1c0ec61d0b",
   "metadata": {},
   "source": [
    "The SIR model is *stochastic*, meaning that it involves randomness: every time you simulate the course of an epidemic using an SIR model, you can get different outcomes. (We saw something similar when we looked at how to generate random networks using the ER model.)\n",
    "\n",
    "We'll start studying the SIR model by running it repeatedly on the same network and looking at how much variation there is in the resulting epidemic."
   ]
  },
  {
   "cell_type": "markdown",
   "id": "97378f98-e0f5-4182-8d0e-8ec95d2b3642",
   "metadata": {},
   "source": [
    "We will first run the SIR model once on the network `er_net_example` and calculate how many people get infected in total."
   ]
  },
  {
   "cell_type": "code",
   "execution_count": null,
   "id": "cf4c0b90-f74b-4e62-aa77-fc16e7dc52b7",
   "metadata": {},
   "outputs": [],
   "source": [
    "total_infected = np.sum(sim_epidemic(er_net_example, beta=.3))\n",
    "total_infected"
   ]
  },
  {
   "cell_type": "markdown",
   "id": "e549bff1-321d-4ac0-9a42-35cf80d108b7",
   "metadata": {
    "deletable": false,
    "editable": false
   },
   "source": [
    "<!-- BEGIN QUESTION -->\n",
    "\n",
    "# Question 1:\n",
    "Write some code that runs 1000 simulated ER epidemics on the network `er_net_example` with beta of 0.3. Make a histogram that shows how much variation there is in the total number of people infected in each simulation. (Recall that we generated `er_net_example` above, using the ER random network model.)"
   ]
  },
  {
   "cell_type": "code",
   "execution_count": null,
   "id": "55e6dfec-5327-449a-ae95-eab702f4ec99",
   "metadata": {
    "tags": []
   },
   "outputs": [],
   "source": [
    "num_infected = make_array()\n",
    "for _ in range(1000):\n",
    "    num_infected = np.append(num_infected, ...)\n",
    "Table().with_column('num_infected', ...).hist() # make the table like we used to and add the histogram function to it directly"
   ]
  },
  {
   "cell_type": "markdown",
   "id": "e7cf1640-fa86-464e-ab84-519395fdd7c4",
   "metadata": {
    "deletable": false,
    "editable": false
   },
   "source": [
    "<!-- END QUESTION -->\n",
    "\n",
    "# Question 2\n",
    "\n",
    "Write a simulation that varies the beta parameter and studies how the number of people infected varies as beta increases from 0.1 to 0.8. Use the network `er_net_example` for your simulations."
   ]
  },
  {
   "cell_type": "code",
   "execution_count": null,
   "id": "58e42ece-a0a6-4af6-845f-db1b7ec1e7b6",
   "metadata": {
    "tags": []
   },
   "outputs": [],
   "source": [
    "num_infected = make_array()\n",
    "beta_val = make_array()\n",
    "## vary beta across the range 0.1 to 0.8\n",
    "for cur_beta in np.arange(.1, .9, .1):\n",
    "    ## for each value of beta, run 1000 simulated epidemics\n",
    "    for _ in range(1000):\n",
    "        num_infected = ... # very similar to the previous question, but pay attention to the beta value you use\n",
    "        beta_val = np.append(beta_val, ...)   \n",
    "beta_sim_res = Table().with_columns([..., ...,\n",
    "                                     ..., ...]) # create a two-column table: 'beta' column and 'num_infected' column\n",
    "beta_sim_res"
   ]
  },
  {
   "cell_type": "code",
   "execution_count": null,
   "id": "0e6285e3",
   "metadata": {
    "deletable": false,
    "editable": false
   },
   "outputs": [],
   "source": [
    "grader.check(\"q2\")"
   ]
  },
  {
   "cell_type": "markdown",
   "id": "77c09aae-a3eb-4082-8929-5a77e0ce181c",
   "metadata": {
    "deletable": false,
    "editable": false
   },
   "source": [
    "<!-- BEGIN QUESTION -->\n",
    "\n",
    "# Question 3 \n",
    "Now make a scatter plot of the value of beta (x axis) to the average number of people infected across the simulations for each value of beta (y axis).\n",
    "\n",
    "*Hint: If you don't know what \"group\" does, you can review previous assignments or check out the python documentation: https://docs.python.org/3/howto/regex.html*\n"
   ]
  },
  {
   "cell_type": "code",
   "execution_count": null,
   "id": "0fcb3881-b90c-4004-a3cc-79a0c028d0d4",
   "metadata": {
    "tags": []
   },
   "outputs": [],
   "source": [
    "beta_sim_res.group('beta', ...).scatter('beta', 'num_infected mean')"
   ]
  },
  {
   "cell_type": "markdown",
   "id": "091cddbe-a554-4ddf-88d2-d2336e4cbd1f",
   "metadata": {
    "deletable": false,
    "editable": false
   },
   "source": [
    "<!-- END QUESTION -->\n",
    "\n",
    "<!-- BEGIN QUESTION -->\n",
    "\n",
    "# Question 4\n",
    "\n",
    "Now let's visualize the results in a second way. Make a scatterplot that compares the value of beta (x axis) to the number of people infected in each simulation (y axis). (Use the `alpha` parameter to avoid misleading results due to overplotting.)"
   ]
  },
  {
   "cell_type": "code",
   "execution_count": null,
   "id": "d859d33c-0948-4e1a-8353-8cd156818b17",
   "metadata": {
    "tags": []
   },
   "outputs": [],
   "source": [
    "beta_sim_res.scatter(..., ..., alpha=.05)"
   ]
  },
  {
   "cell_type": "markdown",
   "id": "262d403e-7dc3-40d6-9614-bf02bdae8a69",
   "metadata": {
    "deletable": false,
    "editable": false
   },
   "source": [
    "<!-- END QUESTION -->\n",
    "\n",
    "<!-- BEGIN QUESTION -->\n",
    "\n",
    "# Question 5\n",
    "What do you conclude from the two plots above? How does increasing beta affect the number of people who are infected in an SIR model on the network `er_net_example`? Describe the effects separately for the two plots."
   ]
  },
  {
   "cell_type": "markdown",
   "id": "d98f3b82-140b-43a0-85be-f9f3d83aff83",
   "metadata": {},
   "source": [
    "_Type your answer here, replacing this text._"
   ]
  },
  {
   "cell_type": "markdown",
   "id": "7ca14dd0-be1b-419d-8d66-d6a5d5104d4c",
   "metadata": {
    "deletable": false,
    "editable": false
   },
   "source": [
    "<!-- END QUESTION -->\n",
    "\n",
    "### Innoculating nodes"
   ]
  },
  {
   "cell_type": "markdown",
   "id": "465bf1c3-8b60-43bf-92db-df0eb6950c34",
   "metadata": {},
   "source": [
    "The function `sim_epidemic` can take an optional parameter called `innoculated_nodes`, which is a list with the ids of nodes that are assumed to be impervious to the infection.\n",
    "\n",
    "For example, the following code would run a simulation with node number 10 innoculated:\n",
    "\n",
    "`sim_epidemic(er_net_example, innoculated_nodes=[10], beta=.3)`\n",
    "\n",
    "We might hope that if we innoculate the right node, we can reduce the total number of people who get infected by the epidemic. The question is: what kind of nodes should be innoculated?"
   ]
  },
  {
   "cell_type": "markdown",
   "id": "f90ad56f-a869-456f-9392-1ffeed98e9fd",
   "metadata": {
    "deletable": false,
    "editable": false
   },
   "source": [
    "# Question 6 \n",
    "\n",
    "Write a simulation that explores what impact innoculating each node in the network has on the number of people that are infected. You should loop through each node in the network `er_net_example` and simulate 1000 ER epidemics with that node innoculated. (So, only one node is ever innoculated.) Keep track of which node was innoculated and the number of people that were infected; put these simulation results into a Table called `sim_res`.\n"
   ]
  },
  {
   "cell_type": "code",
   "execution_count": null,
   "id": "4c9b5412-62ac-42c3-b99e-b150535d19a6",
   "metadata": {
    "tags": []
   },
   "outputs": [],
   "source": [
    "sim_beta = 0.3 # we set beta back to 0.3\n",
    "node_ids = make_array() # this array will keep track of the nodes we try one by one\n",
    "tot_num_infected = make_array() # this array will keep track of the number of people infected under different scenarios\n",
    "                                # that is, when we innoculate different nodes at the beginning\n",
    "for cur_node in ...: # for each node among all the nodes of the network\n",
    "    for _ in range(1000):\n",
    "        tot_num_infected = np.append(tot_num_infected, \n",
    "                                     np.sum(sim_epidemic(er_net_example, \n",
    "                                                         innoculated_nodes=..., \n",
    "                                                         beta=...)))\n",
    "        node_ids = np.append(node_ids, ...)        \n",
    "sim_res = Table().with_columns(['node_id', node_ids,\n",
    "                                'tot_infected', tot_num_infected])\n",
    "sim_res"
   ]
  },
  {
   "cell_type": "code",
   "execution_count": null,
   "id": "2e808183",
   "metadata": {
    "deletable": false,
    "editable": false
   },
   "outputs": [],
   "source": [
    "grader.check(\"q6\")"
   ]
  },
  {
   "cell_type": "markdown",
   "id": "d28a61e3-a0c6-4429-9e70-f20ebf3653ff",
   "metadata": {
    "deletable": false,
    "editable": false
   },
   "source": [
    "# Question 7 \n",
    "Your simulation results have 1000 repetitions for each innoculated node. Make an aggregated Table called `sim_res_agg` which has the node id and the average total number infected across all of the simulation runs where that node id was innoculated.   \n",
    "*[Hint: Use `group` here.]*"
   ]
  },
  {
   "cell_type": "code",
   "execution_count": null,
   "id": "d74ead21-4ed2-408d-8652-e31107002d91",
   "metadata": {
    "tags": []
   },
   "outputs": [],
   "source": [
    "sim_res_agg = sim_res.group(..., ...)\n",
    "sim_res_agg"
   ]
  },
  {
   "cell_type": "code",
   "execution_count": null,
   "id": "5d322e28",
   "metadata": {
    "deletable": false,
    "editable": false
   },
   "outputs": [],
   "source": [
    "grader.check(\"q7\")"
   ]
  },
  {
   "cell_type": "markdown",
   "id": "d7a987d5-3ca8-402a-aa56-51a5629de564",
   "metadata": {},
   "source": [
    "Now we make a Table that has the id of each node in the network, its degree, and its betweenness centrality.\n",
    "\n",
    "\"betweenness_centrality\" is a function built in the networkx package."
   ]
  },
  {
   "cell_type": "code",
   "execution_count": null,
   "id": "45d63f78-276d-46ea-9c2d-52c36d3ba8e9",
   "metadata": {},
   "outputs": [],
   "source": [
    "try:\n",
    "    node_dat = Table().with_columns('node_id', er_net_example.nodes(),\n",
    "                                'betweenness_centrality', nx.betweenness_centrality(er_net_example).values(),\n",
    "                                'degree', nx.degree(er_net_example).values())\n",
    "except:\n",
    "    node_dat = Table().with_columns('node_id', er_net_example.nodes(),\n",
    "                                'betweenness_centrality', nx.betweenness_centrality(er_net_example).values(),\n",
    "                                'degree',[y for x,y in  nx.degree(er_net_example)])\n",
    "    pass\n",
    "\n",
    "node_dat"
   ]
  },
  {
   "cell_type": "markdown",
   "id": "a27f29c3-1600-4e3b-ab2c-58b2b72947e7",
   "metadata": {},
   "source": [
    "Now we can join the `node_dat` table onto the `sim_res_agg` table so that you have a table that has node characteristics (degree and betweenness centrality) and the average total number infected when that node is innoculated."
   ]
  },
  {
   "cell_type": "code",
   "execution_count": null,
   "id": "02848090-fcde-4043-88b4-921289a1c189",
   "metadata": {},
   "outputs": [],
   "source": [
    "res = sim_res_agg.join('node_id', node_dat)\n",
    "res"
   ]
  },
  {
   "cell_type": "markdown",
   "id": "d54205f9-b344-414b-9b82-f9977c99f6d7",
   "metadata": {},
   "source": [
    "We can now make a scatterplot that shows the relationship between the betweenness centrality (x axis) and the average total number infected (y axis)."
   ]
  },
  {
   "cell_type": "code",
   "execution_count": null,
   "id": "86eba696-9e37-434c-a30f-3f2693199044",
   "metadata": {},
   "outputs": [],
   "source": [
    "res.scatter('betweenness_centrality', 'tot_infected mean')"
   ]
  },
  {
   "cell_type": "code",
   "execution_count": null,
   "id": "afe61b83-5527-4562-ba4e-3bdca32377a5",
   "metadata": {},
   "outputs": [],
   "source": [
    "res.scatter('degree', 'tot_infected mean')"
   ]
  },
  {
   "cell_type": "markdown",
   "id": "c0e27e3a-3837-4cd7-bede-0bbe149fb285",
   "metadata": {
    "deletable": false,
    "editable": false
   },
   "source": [
    "<!-- BEGIN QUESTION -->\n",
    "\n",
    "# Question 8\n",
    "Which metric of centrality (degree or betweenness centrality) appears to be a better guide to targeting nodes for innoculation in the ER network?"
   ]
  },
  {
   "cell_type": "markdown",
   "id": "ea30f30d-d973-49ce-aea2-5908ce790447",
   "metadata": {},
   "source": [
    "_Type your answer here, replacing this text._"
   ]
  },
  {
   "cell_type": "markdown",
   "id": "71526fdd",
   "metadata": {
    "deletable": false,
    "editable": false
   },
   "source": [
    "<!-- END QUESTION -->\n",
    "\n"
   ]
  },
  {
   "cell_type": "markdown",
   "id": "544fcd58",
   "metadata": {
    "deletable": false,
    "editable": false
   },
   "source": [
    "---\n",
    "\n",
    "To double-check your work, the cell below will rerun all of the autograder tests."
   ]
  },
  {
   "cell_type": "code",
   "execution_count": null,
   "id": "1f2a712a",
   "metadata": {
    "deletable": false,
    "editable": false
   },
   "outputs": [],
   "source": [
    "grader.check_all()"
   ]
  },
  {
   "cell_type": "markdown",
   "id": "506bd321",
   "metadata": {
    "deletable": false,
    "editable": false
   },
   "source": [
    "## Submission\n",
    "\n",
    "Make sure you have run all cells in your notebook in order before running the cell below, so that all images/graphs appear in the output. The cell below will generate a zip file for you to submit. **Please save before exporting!**\n",
    "\n",
    "Please upload the .zip file to Gradescope."
   ]
  },
  {
   "cell_type": "code",
   "execution_count": null,
   "id": "e8280d94",
   "metadata": {
    "deletable": false,
    "editable": false
   },
   "outputs": [],
   "source": [
    "# Save your notebook first, then run this cell to export your submission.\n",
    "grader.export(run_tests=True)"
   ]
  },
  {
   "cell_type": "markdown",
   "id": "82b2193f",
   "metadata": {},
   "source": [
    " "
   ]
  }
 ],
 "metadata": {
  "kernelspec": {
   "display_name": "Python 3 (ipykernel)",
   "language": "python",
   "name": "python3"
  },
  "language_info": {
   "codemirror_mode": {
    "name": "ipython",
    "version": 3
   },
   "file_extension": ".py",
   "mimetype": "text/x-python",
   "name": "python",
   "nbconvert_exporter": "python",
   "pygments_lexer": "ipython3",
   "version": "3.12.4"
  },
  "otter": {
   "OK_FORMAT": true,
   "tests": {
    "q2": {
     "name": "q2",
     "points": null,
     "suites": [
      {
       "cases": [
        {
         "code": ">>> np.max(beta_sim_res['beta']) < 1\nTrue",
         "hidden": false,
         "locked": false
        },
        {
         "code": ">>> np.isclose(min(beta_sim_res['beta']), 0.1)\nTrue",
         "hidden": false,
         "locked": false
        }
       ],
       "scored": true,
       "setup": "",
       "teardown": "",
       "type": "doctest"
      }
     ]
    },
    "q6": {
     "name": "q6",
     "points": null,
     "suites": [
      {
       "cases": [
        {
         "code": ">>> type(sim_res) == tables.Table\nTrue",
         "hidden": false,
         "locked": false
        },
        {
         "code": ">>> max(sim_res['tot_infected']) < 21\nTrue",
         "hidden": false,
         "locked": false
        }
       ],
       "scored": true,
       "setup": "",
       "teardown": "",
       "type": "doctest"
      }
     ]
    },
    "q7": {
     "name": "q7",
     "points": null,
     "suites": [
      {
       "cases": [
        {
         "code": ">>> type(sim_res_agg) == tables.Table\nTrue",
         "hidden": false,
         "locked": false
        },
        {
         "code": ">>> len(sim_res_agg['tot_infected mean']) == 20\nTrue",
         "hidden": false,
         "locked": false
        },
        {
         "code": ">>> max(sim_res_agg['node_id']) <= 20\nTrue",
         "hidden": false,
         "locked": false
        }
       ],
       "scored": true,
       "setup": "",
       "teardown": "",
       "type": "doctest"
      }
     ]
    }
   }
  }
 },
 "nbformat": 4,
 "nbformat_minor": 5
}
