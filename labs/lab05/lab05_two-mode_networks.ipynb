{
 "cells": [
  {
   "cell_type": "code",
   "execution_count": null,
   "id": "5dcfbcba",
   "metadata": {
    "deletable": false,
    "editable": false
   },
   "outputs": [],
   "source": [
    "# Initialize Otter\n",
    "import otter\n",
    "grader = otter.Notebook(\"lab05_two-mode_networks.ipynb\")"
   ]
  },
  {
   "cell_type": "code",
   "execution_count": null,
   "id": "890578f1",
   "metadata": {},
   "outputs": [],
   "source": [
    "#!pip install --upgrade networkx"
   ]
  },
  {
   "cell_type": "code",
   "execution_count": null,
   "id": "214cb01b-6338-4a0c-ba8b-2905e131d46d",
   "metadata": {},
   "outputs": [],
   "source": [
    "from datascience import *\n",
    "\n",
    "import matplotlib\n",
    "matplotlib.use('Agg')\n",
    "%matplotlib inline\n",
    "import matplotlib.pyplot as plt\n",
    "import numpy as np\n",
    "plt.style.use('fivethirtyeight')\n",
    "\n",
    "\n",
    "import os\n",
    "import networkx as nx\n",
    "from networkx.algorithms import bipartite"
   ]
  },
  {
   "cell_type": "markdown",
   "id": "dd929fc4",
   "metadata": {},
   "source": [
    "## Lab - Two Mode networks and bipartite graphs"
   ]
  },
  {
   "cell_type": "markdown",
   "id": "8e29a283",
   "metadata": {},
   "source": [
    "Today, we're going to study *two-mode networks*, sometimes called affiliation networks or bipartite networks. These networks are composed of relationships between two different types of nodes. Some common examples:\n",
    "\n",
    "* people who attend events\n",
    "* people who belong to groups\n",
    "\n",
    "Two-mode networks can be represented by *bipartite graphs*. Bipartite graphs are like other mathematical graphs, but they have an additional property: the nodes in the graph can be divided into two sets, say A and B, such that every edge in the graph connects a node from A to a node from B. \n",
    "\n",
    "In addition to two-mode networks, some other types of networks that can be represented as bipartite graphs are:\n",
    "\n",
    "* people who work together on a project (such as a scientific paper or a movie)\n",
    "* people who buy a product\n",
    "* people who read an article\n",
    "\n",
    "These networks are different from what we have seen before because there are really two types of nodes: one type of node is a person, but another type of node is an event / group / product / etc."
   ]
  },
  {
   "cell_type": "markdown",
   "id": "8bb77598",
   "metadata": {},
   "source": [
    "### Example: birthday parties"
   ]
  },
  {
   "cell_type": "markdown",
   "id": "8a834f88",
   "metadata": {},
   "source": [
    "Here is an example of an two-mode network (from pg 299 of *Social Network Analysis* by Wasserman and Faust):"
   ]
  },
  {
   "cell_type": "markdown",
   "id": "c47ded86",
   "metadata": {},
   "source": [
    "<img src=\"affiliation_example_wassermanfaust.png\">"
   ]
  },
  {
   "cell_type": "markdown",
   "id": "73279c5a",
   "metadata": {},
   "source": [
    "Let's enter this graph into networkx using an edge list:"
   ]
  },
  {
   "cell_type": "code",
   "execution_count": null,
   "id": "e7a82939",
   "metadata": {},
   "outputs": [],
   "source": [
    "bday_net = nx.Graph([('A', '1'), ('A', '3'), ('D', '2'), ('E', '2'), ('E', '3'), ('K', '3'), ('R', '1'), ('R', '2'), ('R', '3'), ('S', '1'), ('S', '2')])"
   ]
  },
  {
   "cell_type": "markdown",
   "id": "c8eb5149",
   "metadata": {},
   "source": [
    "We have to do a bit of extra work to tell `networkx` that this graph is bipartite. We'll pass the names of the nodes in one of the bipartite sets like so:"
   ]
  },
  {
   "cell_type": "code",
   "execution_count": null,
   "id": "ed629534",
   "metadata": {},
   "outputs": [],
   "source": [
    "bday_child_nodes = ['A', 'D', 'E', 'K', 'R', 'S']\n",
    "bday_party_nodes = ['1', '2', '3']\n",
    "\n",
    "#bday_net = nx.Graph()\n",
    "\n",
    "# bipartite=0 tells networkx that these nodes are one of the independent sets of the bipartite network;\n",
    "bday_net.add_nodes_from(bday_child_nodes, bipartite=0)\n",
    "# the other independent set will have bipartite=1\n",
    "bday_net.add_nodes_from(bday_party_nodes, bipartite=1)"
   ]
  },
  {
   "cell_type": "markdown",
   "id": "54f13c23",
   "metadata": {},
   "source": [
    "We can double-check that we've created a two-mode network (also called a bipartite network, if you recall) with `nx.is_bipartite`:"
   ]
  },
  {
   "cell_type": "code",
   "execution_count": null,
   "id": "e9deb72e",
   "metadata": {},
   "outputs": [],
   "source": [
    "nx.is_bipartite(bday_net)"
   ]
  },
  {
   "cell_type": "markdown",
   "id": "63bddb95",
   "metadata": {},
   "source": [
    "And we can have `networkx` draw it -- but we'll have to jump through a couple of hoops to force networkx to put one independent set of nodes on the left and the other independent set of nodes on the right:"
   ]
  },
  {
   "cell_type": "code",
   "execution_count": null,
   "id": "33be4e30",
   "metadata": {},
   "outputs": [],
   "source": [
    "bday_pos = dict()\n",
    "\n",
    "for idx, node_id in enumerate(bday_child_nodes):\n",
    "    bday_pos[node_id] = (1, idx)\n",
    "    \n",
    "for idx, node_id in enumerate(bday_party_nodes):\n",
    "    bday_pos[node_id] = (2, idx)\n",
    "\n",
    "plt.figure(figsize=(10,10))\n",
    "nx.draw(bday_net, pos=bday_pos, with_labels=True)"
   ]
  },
  {
   "cell_type": "markdown",
   "id": "306170a3",
   "metadata": {},
   "source": [
    "In order to get information about the degrees of each half of the network, we can give the `nx.degree` function a list of node ids. The result is a dictionary-like object, but to get just a list of the degrees themselves,\n",
    "we must cast to a `dict()` and then use `.values()` to extract. All in all, this is a pattern for getting the degrees in each independent set:"
   ]
  },
  {
   "cell_type": "code",
   "execution_count": null,
   "id": "922d6d66",
   "metadata": {},
   "outputs": [],
   "source": [
    "nx.degree(bday_net, bday_child_nodes)"
   ]
  },
  {
   "cell_type": "code",
   "execution_count": null,
   "id": "0242fd5b",
   "metadata": {},
   "outputs": [],
   "source": [
    "child_degrees = dict(nx.degree(bday_net, bday_child_nodes)).values()\n",
    "party_degrees = dict(nx.degree(bday_net, bday_party_nodes)).values()"
   ]
  },
  {
   "cell_type": "markdown",
   "id": "12cf155d",
   "metadata": {},
   "source": [
    "Many functions in the networkx package will let you pass in a list of node ids like nx.degree does."
   ]
  },
  {
   "cell_type": "markdown",
   "id": "f5100db7",
   "metadata": {},
   "source": [
    "### Example: average clustering"
   ]
  },
  {
   "cell_type": "markdown",
   "id": "a77c75bb",
   "metadata": {},
   "source": [
    "To illustrate how two-mode networks are somewhat different from the other networks we have seen so far, we'll use the concept of network *average clustering*. We discussed this in a previous lab; conceptually, the clustering coefficient of an individual node captures the extent to which that nodes friends are friends with each other. The average clustering of a network is the average of the clustering coefficient over all of the individual nodes.\n",
    "\n",
    "In a one-mode network (like all of the ones we have seen before today), the clustering coefficient can be calculated like this:\n",
    "\n",
    "$$C(v) = \\frac{\\# \\text{ edges between node $v$'s friends}}{\\# \\text{ max possible edges between node $v$'s friends}}$$\n",
    "\n",
    "This is problematic in the case of a bipartite network. Can you see why?"
   ]
  },
  {
   "cell_type": "markdown",
   "id": "d09ad373",
   "metadata": {},
   "source": [
    "[Latapy et al](http://www.sciencedirect.com/science/article/pii/S0378873307000494) have proposed an alternative metric for clustering in a bipartite graph. First, they define a metric for overlap; for any pair of nodes $u$ and $v$ that are in the same independent set,\n",
    "\n",
    "$$overlap(u, v) = \\frac{\\# \\text{ neighbors u and v share}}{\\# \\text{max neighbors u and v could share}}$$\n",
    "\n",
    "At most, this value is $1$ (when both nodes have exactly the same set of neighbors); at least, this value is $0$ (when the two nodes have no neighbors in common).\n",
    "\n",
    "The bipartite clustering coefficient for one node $u$ is then defined to be\n",
    "\n",
    "$$C_{b}(u) = \\frac{\\text{sum of overlap between $u$ and all other nodes that are 2 steps away from $u$}}{\\# \\text{ nodes that are 2 steps away from u}}$$\n",
    "\n",
    "The average bipartite clustering coefficient is then the average of this quantity over all of the nodes in the network. This quantity will range from 0 (no clustering) to 1 (perfect clustering).\n",
    "\n",
    "We don't need to dwell on how this metric is constructed; for our purposes today, there are two important lessons:\n",
    "\n",
    "* network metrics like clustering can't necessarily be meaningfully used in two-mode networks\n",
    "* but it is often possible to come up with a metric that gets at the same idea"
   ]
  },
  {
   "cell_type": "markdown",
   "id": "c6d3c74b",
   "metadata": {},
   "source": [
    "### Bipartite projections"
   ]
  },
  {
   "cell_type": "markdown",
   "id": "8c187e96",
   "metadata": {},
   "source": [
    "Two-mode bipartite networks can be transformed into one-mode networks by *projecting* them. In the example above, we could create a network whose nodes are children, where two children are connected by an edge if they attended the same birthday party."
   ]
  },
  {
   "cell_type": "markdown",
   "id": "3308db41",
   "metadata": {
    "deletable": false,
    "editable": false
   },
   "source": [
    "<!-- BEGIN QUESTION -->\n",
    "\n",
    "# Question 1:\n",
    "\n",
    "What are the edges in the one-mode projection of the birthday party affiliation network onto the child nodes? (You can write out the edge list.)"
   ]
  },
  {
   "cell_type": "markdown",
   "id": "c0a60c40",
   "metadata": {
    "deletable": false,
    "editable": false
   },
   "source": [
    "_Type your answer here, replacing this text._"
   ]
  },
  {
   "cell_type": "markdown",
   "id": "2c4bf703",
   "metadata": {
    "deletable": false,
    "editable": false
   },
   "source": [
    "<!-- END QUESTION -->\n",
    "\n",
    "# Question 2:\n",
    "\n",
    "Use the `networkx` function `bipartite.projected_graph` to check your answer"
   ]
  },
  {
   "cell_type": "code",
   "execution_count": null,
   "id": "9c598468",
   "metadata": {
    "deletable": false,
    "editable": false,
    "slideshow": {
     "slide_type": ""
    },
    "tags": []
   },
   "outputs": [],
   "source": [
    "bday_child_net = ...\n",
    "bday_child_net.edges()"
   ]
  },
  {
   "cell_type": "code",
   "execution_count": null,
   "id": "4bd1837d",
   "metadata": {
    "deletable": false,
    "editable": false
   },
   "outputs": [],
   "source": [
    "grader.check(\"q2\")"
   ]
  },
  {
   "cell_type": "markdown",
   "id": "a36b16b7",
   "metadata": {},
   "source": [
    "Let's visualize this projected network:"
   ]
  },
  {
   "cell_type": "code",
   "execution_count": null,
   "id": "d7e8944e",
   "metadata": {},
   "outputs": [],
   "source": [
    "nx.draw(bday_child_net, with_labels=True)"
   ]
  },
  {
   "cell_type": "markdown",
   "id": "3b26e35d",
   "metadata": {},
   "source": [
    "Creating the projected network threw away a lot of information; for example, two children who both attended the exact same set of parties can't be distinguished from two children who just attended one same party. (Be sure you see why.)\n",
    "\n",
    "\n",
    "One way to keep more information about the structure in the bipartite network is to weight the edges in the projected network (ie, assign them numerical values). What should the weights be? Well, that depends; there are lots of options, and it generally makes sense to use what you know about the substantive problem you are working on to figure out what the best way to generate weights is. Here, we'll start with a very simple procedure: we will weight the edge by the number of events that the two nodes co-attended."
   ]
  },
  {
   "cell_type": "markdown",
   "id": "24fec320",
   "metadata": {
    "deletable": false,
    "editable": false
   },
   "source": [
    "<!-- BEGIN QUESTION -->\n",
    "\n",
    "# Question 3:\n",
    "\n",
    "Add weights to the edges of the projected network that you made above (the one you made by hand).\n",
    "Example: `('A', 'E', {'weight' : 1})`"
   ]
  },
  {
   "cell_type": "markdown",
   "id": "91c25000",
   "metadata": {
    "deletable": false,
    "editable": false
   },
   "source": [
    "_Type your answer here, replacing this text._"
   ]
  },
  {
   "cell_type": "markdown",
   "id": "fb9578ca",
   "metadata": {
    "deletable": false,
    "editable": false
   },
   "source": [
    "<!-- END QUESTION -->\n",
    "\n",
    "\n",
    "# Question 4:\n",
    "\n",
    "The `networkx` function `bipartite.weighted_projected_graph` will calculate this weighted projected network for you. Use it to check your work."
   ]
  },
  {
   "cell_type": "code",
   "execution_count": null,
   "id": "3b838574",
   "metadata": {
    "deletable": false,
    "editable": false,
    "tags": []
   },
   "outputs": [],
   "source": [
    "bday_child_net2 = ...\n",
    "bday_child_net2.edges(data=True)"
   ]
  },
  {
   "cell_type": "markdown",
   "id": "f97f1f5f",
   "metadata": {},
   "source": [
    "# Projected networks and thresholding"
   ]
  },
  {
   "cell_type": "markdown",
   "id": "55353b65",
   "metadata": {},
   "source": [
    "Finally, we're going to look at different ways to construct a projected network from a two-mode network."
   ]
  },
  {
   "cell_type": "markdown",
   "id": "66177c93",
   "metadata": {},
   "source": [
    "### The Southern Women dataset"
   ]
  },
  {
   "cell_type": "markdown",
   "id": "e3be2c91",
   "metadata": {},
   "source": [
    "Below is an example of a famous two-mode network originally collected by Davis and colleagues (Davis, Gardner and Gardner, 1941, *Deep South: A Social Anthropological Study of Caste and Class*).  The rows of the matrix below correspond to eighteen women in a southern town, while the columns correspond to 14 different social events. An entry in the matrix is 1 if the corresponding woman attended the corresponding event, and 0 otherwise."
   ]
  },
  {
   "cell_type": "markdown",
   "id": "68dc0a08",
   "metadata": {},
   "source": [
    "<img src=\"southern_women_matrix_breiger1974.png\">"
   ]
  },
  {
   "cell_type": "markdown",
   "id": "1028a4bd",
   "metadata": {},
   "source": [
    "The Koblenz Network Collection has [digitized](http://konect.uni-koblenz.de/networks/opsahl-southernwomen) this network; we'll read it in now."
   ]
  },
  {
   "cell_type": "code",
   "execution_count": null,
   "id": "2528c120",
   "metadata": {},
   "outputs": [],
   "source": [
    "sw_dat = []\n",
    "with open(os.path.join(\"data\", \"southern-women\", \"southernwomen.tsv\")) as f:\n",
    "    for line in f:\n",
    "        # lines beginning with '%' are comments\n",
    "        if line[0] == '%':\n",
    "            continue\n",
    "        sw_dat.append(line.strip())\n",
    "\n",
    "# by default, the nodes are just numbers; we'll make them more descriptive\n",
    "# to avoid confusion later on in our analysis\n",
    "sw_edges = [((\"woman_\" + (str.split(x)[0])), (\"event_\" + (str.split(x)[1]))) for x in sw_dat]\n",
    "\n",
    "all_women = list(set(x[0] for x in sw_edges))\n",
    "all_events = list(set(x[1] for x in sw_edges))"
   ]
  },
  {
   "cell_type": "markdown",
   "id": "78874ff2",
   "metadata": {},
   "source": [
    "Similar to the process we used with the birthday party attendance, above, we'll create a bipartite `networkx` graph using the edgelist and information about which node is in which independent set."
   ]
  },
  {
   "cell_type": "code",
   "execution_count": null,
   "id": "de909969",
   "metadata": {},
   "outputs": [],
   "source": [
    "sw_net = nx.Graph()\n",
    "sw_net.add_nodes_from(all_women, bipartite=0)\n",
    "sw_net.add_nodes_from(all_events, bipartite=1)\n",
    "sw_net.add_edges_from(sw_edges)"
   ]
  },
  {
   "cell_type": "markdown",
   "id": "9e70d519",
   "metadata": {
    "deletable": false,
    "editable": false,
    "slideshow": {
     "slide_type": ""
    },
    "tags": []
   },
   "source": [
    "# Question 5\n",
    "\n",
    "Draw the network using a non-bipartite method (like `nx.draw_spring`, for example). Is it easy to tell that this network is bipartite from the picture?"
   ]
  },
  {
   "cell_type": "markdown",
   "id": "80d0661b",
   "metadata": {
    "deletable": false,
    "editable": false
   },
   "source": [
    "_Type your answer here, replacing this text._"
   ]
  },
  {
   "cell_type": "code",
   "execution_count": null,
   "id": "0cd0bf37",
   "metadata": {
    "deletable": false,
    "editable": false,
    "tags": []
   },
   "outputs": [],
   "source": [
    "nx.draw_spring(...)"
   ]
  },
  {
   "cell_type": "code",
   "execution_count": null,
   "id": "a3809be0",
   "metadata": {
    "deletable": false,
    "editable": false
   },
   "outputs": [],
   "source": [
    "grader.check(\"q5\")"
   ]
  },
  {
   "cell_type": "markdown",
   "id": "da422520",
   "metadata": {
    "deletable": false,
    "editable": false
   },
   "source": [
    "# Question 6\n",
    "\n",
    "Now plot this network explicitly accounting for the bipartite structure: adapt the code above to be sure that all of the nodes representing women are on the left and all of the nodes representing events are on the right."
   ]
  },
  {
   "cell_type": "code",
   "execution_count": null,
   "id": "3603cd1d",
   "metadata": {
    "deletable": false,
    "editable": false,
    "tags": []
   },
   "outputs": [],
   "source": [
    "sw_pos = dict()\n",
    "\n",
    "for idx, node_id in enumerate(...):\n",
    "    sw_pos[node_id] = (..., idx) \n",
    "    \n",
    "for idx, node_id in enumerate(...):\n",
    "    sw_pos[node_id] = (..., idx) \n",
    "\n",
    "plt.figure(figsize=(10,10))\n",
    "nx.draw(\n",
    "    G=sw_net, \n",
    "    pos=sw_pos, \n",
    "    with_labels=True) "
   ]
  },
  {
   "cell_type": "code",
   "execution_count": null,
   "id": "bca70e0e",
   "metadata": {
    "deletable": false,
    "editable": false
   },
   "outputs": [],
   "source": [
    "grader.check(\"q6\")"
   ]
  },
  {
   "cell_type": "markdown",
   "id": "69113d59",
   "metadata": {
    "deletable": false,
    "editable": false
   },
   "source": [
    "# Question 7\n",
    "\n",
    "Project the Southern Women's network onto the nodes that are women (Hint: look at the function `bipartite.projected_graph`).\n",
    "\n",
    "Plot the network and make a histogram of the distribution of degrees (using the `nx.degree` function and `plt.hist`. Hint: see the example in the introduction for how to extract degrees from `nx.Graph` objects)."
   ]
  },
  {
   "cell_type": "code",
   "execution_count": null,
   "id": "5b9c0b9c",
   "metadata": {
    "deletable": false,
    "editable": false,
    "tags": []
   },
   "outputs": [],
   "source": [
    "women_network = bipartite.projected_graph(..., ...) \n",
    "nx.draw(...)\n",
    "plt.show()\n",
    "plt.hist(dict(...(women_network)).values())\n",
    "plt.show()"
   ]
  },
  {
   "cell_type": "code",
   "execution_count": null,
   "id": "0b20952b",
   "metadata": {
    "deletable": false,
    "editable": false
   },
   "outputs": [],
   "source": [
    "grader.check(\"q7\")"
   ]
  },
  {
   "cell_type": "markdown",
   "id": "ec1b65e0",
   "metadata": {},
   "source": [
    "This network is very highly connected; in fact, it is so highly connected that it is almost uninformative -- basically, the women are all connected to each other.  One way to try and improve the insights we can obtain from a projected network is to keep more information by weighting the edges."
   ]
  },
  {
   "cell_type": "markdown",
   "id": "bf39ae3f",
   "metadata": {},
   "source": [
    "Project the Southern Women network onto the nodes that are women, weighting each resulting edge by the number of events that were co-attended. *[Hint: look up the function `bipartite.weighted_projected_graph`]*."
   ]
  },
  {
   "cell_type": "code",
   "execution_count": null,
   "id": "f70ea07a",
   "metadata": {},
   "outputs": [],
   "source": [
    "women_network_weighted = bipartite.weighted_projected_graph(sw_net, all_women)"
   ]
  },
  {
   "cell_type": "markdown",
   "id": "c44706c2",
   "metadata": {},
   "source": [
    "In many cases, it is possible to work directly with a weighted network. In others, it is convenient to turn the weighted network into an unweighted one.  We can turn a weighted network into an unweighted one by picking a threshold above which we will consider two nodes connected."
   ]
  },
  {
   "cell_type": "markdown",
   "id": "1021ff1b",
   "metadata": {},
   "source": [
    "Here is a function which takes a network with weighted edges and a threshold. It returns a new network that has all edges whose weight is less than the threshold removed. Check it out:"
   ]
  },
  {
   "cell_type": "code",
   "execution_count": null,
   "id": "493e8347-57c0-4d28-9429-f1904970b954",
   "metadata": {},
   "outputs": [],
   "source": [
    "def edge_threshold(net, threshold):\n",
    "    \n",
    "    # we'll make a copy of this network so that we don't\n",
    "    # change the original\n",
    "    new_net = net.copy()\n",
    "    \n",
    "    for e in new_net.edges():\n",
    "        if new_net[e[0]][e[1]]['weight'] < threshold:\n",
    "            new_net.remove_edge(e[0], e[1])\n",
    "    \n",
    "    return(new_net)"
   ]
  },
  {
   "cell_type": "markdown",
   "id": "7f7e801a",
   "metadata": {
    "deletable": false,
    "editable": false
   },
   "source": [
    "# Question 8:\n",
    "The loop below is supposed to go through all of the possible threshold values from 1 to 14 and draw the network that results when we only count edges above that threshold. Fill in the missing parts and look at the results:"
   ]
  },
  {
   "cell_type": "markdown",
   "id": "806747bd",
   "metadata": {
    "deletable": false,
    "editable": false
   },
   "source": [
    "_Type your answer here, replacing this text._"
   ]
  },
  {
   "cell_type": "code",
   "execution_count": null,
   "id": "96cafb65",
   "metadata": {
    "deletable": false,
    "editable": false,
    "tags": []
   },
   "outputs": [],
   "source": [
    "for thresh in range(... , ...):\n",
    "    this_net = edge_threshold(..., thresh)\n",
    "    plt.figure()\n",
    "    plt.suptitle(\"Threshold: \" + str(thresh))\n",
    "    nx.draw_circular(this_net)"
   ]
  },
  {
   "cell_type": "code",
   "execution_count": null,
   "id": "d142c046",
   "metadata": {
    "deletable": false,
    "editable": false
   },
   "outputs": [],
   "source": [
    "grader.check(\"q8\")"
   ]
  },
  {
   "cell_type": "markdown",
   "id": "523cf61f",
   "metadata": {
    "deletable": false,
    "editable": false
   },
   "source": [
    "<!-- BEGIN QUESTION -->\n",
    "\n",
    "# Question 9:\n",
    "If you were a researcher studying the Southern Women's network, which threshholds would be most informative for you? Why?"
   ]
  },
  {
   "cell_type": "markdown",
   "id": "36a6c43c",
   "metadata": {
    "deletable": false,
    "editable": false
   },
   "source": [
    "_Type your answer here, replacing this text._"
   ]
  },
  {
   "cell_type": "markdown",
   "id": "a1416c29",
   "metadata": {
    "deletable": false,
    "editable": false
   },
   "source": [
    "<!-- END QUESTION -->\n",
    "\n"
   ]
  },
  {
   "cell_type": "markdown",
   "id": "19a1df1a",
   "metadata": {
    "deletable": false,
    "editable": false
   },
   "source": [
    "---\n",
    "\n",
    "To double-check your work, the cell below will rerun all of the autograder tests."
   ]
  },
  {
   "cell_type": "code",
   "execution_count": null,
   "id": "c1c6977e",
   "metadata": {
    "deletable": false,
    "editable": false
   },
   "outputs": [],
   "source": [
    "grader.check_all()"
   ]
  },
  {
   "cell_type": "markdown",
   "id": "6718e3ba",
   "metadata": {
    "deletable": false,
    "editable": false
   },
   "source": [
    "## Submission\n",
    "\n",
    "Make sure you have run all cells in your notebook in order before running the cell below, so that all images/graphs appear in the output. The cell below will generate a zip file for you to submit. **Please save before exporting!**\n",
    "\n",
    "Please upload the .zip file to Gradescope."
   ]
  },
  {
   "cell_type": "code",
   "execution_count": null,
   "id": "42702eae",
   "metadata": {
    "deletable": false,
    "editable": false
   },
   "outputs": [],
   "source": [
    "# Save your notebook first, then run this cell to export your submission.\n",
    "grader.export(run_tests=True)"
   ]
  },
  {
   "cell_type": "markdown",
   "id": "c1759e9f",
   "metadata": {},
   "source": [
    " "
   ]
  }
 ],
 "metadata": {
  "kernelspec": {
   "display_name": "Python 3 (ipykernel)",
   "language": "python",
   "name": "python3"
  },
  "language_info": {
   "codemirror_mode": {
    "name": "ipython",
    "version": 3
   },
   "file_extension": ".py",
   "mimetype": "text/x-python",
   "name": "python",
   "nbconvert_exporter": "python",
   "pygments_lexer": "ipython3",
   "version": "3.12.2"
  },
  "otter": {
   "OK_FORMAT": true,
   "tests": {
    "q2": {
     "name": "q2",
     "points": null,
     "suites": [
      {
       "cases": [
        {
         "code": ">>> np.isclose(len(bday_child_net.edges()), 12)\nTrue",
         "hidden": false,
         "locked": false
        }
       ],
       "scored": true,
       "setup": "",
       "teardown": "",
       "type": "doctest"
      }
     ]
    },
    "q5": {
     "name": "q5",
     "points": null,
     "suites": [
      {
       "cases": [
        {
         "code": ">>> np.isclose(len(sw_net.nodes()), 32)\nTrue",
         "hidden": false,
         "locked": false
        },
        {
         "code": ">>> np.isclose(len(sw_net.edges()), 80)\nFalse",
         "hidden": false,
         "locked": false
        }
       ],
       "scored": true,
       "setup": "",
       "teardown": "",
       "type": "doctest"
      }
     ]
    },
    "q6": {
     "name": "q6",
     "points": null,
     "suites": [
      {
       "cases": [
        {
         "code": ">>> len(all_women) == 18\nTrue",
         "hidden": false,
         "locked": false
        },
        {
         "code": ">>> len(all_events) == 14\nTrue",
         "hidden": false,
         "locked": false
        }
       ],
       "scored": true,
       "setup": "",
       "teardown": "",
       "type": "doctest"
      }
     ]
    },
    "q7": {
     "name": "q7",
     "points": null,
     "suites": [
      {
       "cases": [
        {
         "code": ">>> np.isclose(len(women_network.degree()), 18)\nTrue",
         "hidden": false,
         "locked": false
        },
        {
         "code": ">>> np.isclose(len(women_network.edges()), 139)\nTrue",
         "hidden": false,
         "locked": false
        }
       ],
       "scored": true,
       "setup": "",
       "teardown": "",
       "type": "doctest"
      }
     ]
    },
    "q8": {
     "name": "q8",
     "points": null,
     "suites": [
      {
       "cases": [
        {
         "code": ">>> thresh == 13\nTrue",
         "hidden": false,
         "locked": false
        }
       ],
       "scored": true,
       "setup": "",
       "teardown": "",
       "type": "doctest"
      }
     ]
    }
   }
  }
 },
 "nbformat": 4,
 "nbformat_minor": 5
}
