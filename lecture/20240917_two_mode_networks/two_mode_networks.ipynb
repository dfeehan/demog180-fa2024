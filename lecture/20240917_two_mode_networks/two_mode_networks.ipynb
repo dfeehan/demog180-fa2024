{
 "cells": [
  {
   "cell_type": "code",
   "execution_count": null,
   "metadata": {},
   "outputs": [],
   "source": [
    "from datascience import *\n",
    "\n",
    "import matplotlib\n",
    "matplotlib.use('Agg')\n",
    "%matplotlib inline\n",
    "import matplotlib.pyplot as plt\n",
    "import numpy as np\n",
    "plt.style.use('fivethirtyeight')\n",
    "\n",
    "\n",
    "import os\n",
    "import networkx as nx\n",
    "from networkx.algorithms import bipartite\n",
    "import pandas as pd\n",
    "\n",
    "import zipfile\n",
    "import requests\n",
    "import io"
   ]
  },
  {
   "cell_type": "markdown",
   "metadata": {},
   "source": [
    "## Affiliation and bipartite graphs"
   ]
  },
  {
   "cell_type": "markdown",
   "metadata": {},
   "source": [
    "This dataset comes from Adam Bonica's extensive [Database on Ideology, Money in Politics and Elections (DIME)](https://data.stanford.edu/dime) project (and also the related [DIME-plus](https://data.stanford.edu/dime-plus) project).\n",
    "\n",
    "There is a lot of interesting stuff in this project, and much of it has the structure of an affiliation network. Today, we'll focus on bill co-sponsorship - that is, records of bills in the legislature, along with information about which legislator sponsored each one."
   ]
  },
  {
   "cell_type": "markdown",
   "metadata": {},
   "source": [
    "If you find these data interesting, here are some other articles that you might want to check out:\n",
    "\n",
    "* [Fowler (2006), Connecting the Congress: A Study of Cosponsorship Networks](https://www.cambridge.org/core/journals/political-analysis/article/connecting-the-congress-a-study-of-cosponsorship-networks/B42907E13C3D1F12BBC7618C8E0EECED)\n",
    "* [Fowler (2006b), Legislative cosponsorship networks in the US House and Senate](https://www.sciencedirect.com/science/article/pii/S0378873305000730)"
   ]
  },
  {
   "cell_type": "markdown",
   "metadata": {},
   "source": [
    "First, let's get data on candidates.\n",
    "\n",
    "We'll get the candidate datafile from the [Stanford Library Archive](https://exhibits.stanford.edu/data/catalog/nc588sy1714)"
   ]
  },
  {
   "cell_type": "code",
   "execution_count": null,
   "metadata": {},
   "outputs": [],
   "source": [
    "#cand_url = \"https://stacks.stanford.edu/file/druid:nc588sy1714/dime_recipients_1979_2014_v2.csv.zip\"\n",
    "cand_url = \"https://stacks.stanford.edu/file/druid:nc588sy1714/dime_recipients_all_1979_2014_v2.csv.zip\""
   ]
  },
  {
   "cell_type": "code",
   "execution_count": null,
   "metadata": {},
   "outputs": [],
   "source": [
    "recipient_db = pd.read_csv(cand_url)"
   ]
  },
  {
   "cell_type": "code",
   "execution_count": null,
   "metadata": {},
   "outputs": [],
   "source": [
    "recipient_db.head()"
   ]
  },
  {
   "cell_type": "code",
   "execution_count": null,
   "metadata": {},
   "outputs": [],
   "source": [
    "recipient_db['fecyear']"
   ]
  },
  {
   "cell_type": "code",
   "execution_count": null,
   "metadata": {},
   "outputs": [],
   "source": [
    "recipient_db.columns"
   ]
  },
  {
   "cell_type": "markdown",
   "metadata": {},
   "source": [
    "Now open up the bill cosponsorship data"
   ]
  },
  {
   "cell_type": "code",
   "execution_count": null,
   "metadata": {},
   "outputs": [],
   "source": [
    "bill_url = \"https://stacks.stanford.edu/file/druid:gf077df0685/bills_db.csv.zip\""
   ]
  },
  {
   "cell_type": "code",
   "execution_count": null,
   "metadata": {},
   "outputs": [],
   "source": [
    "#dfa = pd.read_csv(os.path.join(data_dir, \"bills_db.csv\"))\n",
    "\n",
    "r = requests.get(bill_url)\n",
    "\n",
    "# this opens up the zipfile at the given URL and reads \n",
    "# the data contained in the 'bills_db.csv' file\n",
    "with zipfile.ZipFile(io.BytesIO(r.content)) as z:\n",
    "   # open the csv file in the dataset\n",
    "   with z.open(\"bills_db.csv\") as f:\n",
    "       \n",
    "      # read the dataset\n",
    "      dfa = pd.read_csv(f)\n",
    "       \n",
    "\n",
    "dfa.shape"
   ]
  },
  {
   "cell_type": "code",
   "execution_count": null,
   "metadata": {},
   "outputs": [],
   "source": [
    "dfa[100:200].head()"
   ]
  },
  {
   "cell_type": "markdown",
   "metadata": {},
   "source": [
    "Grab bills from the 113th Congress, and drop bills with missing sponsor info"
   ]
  },
  {
   "cell_type": "code",
   "execution_count": null,
   "metadata": {},
   "outputs": [],
   "source": [
    "df_113congress = dfa[dfa['congno'] == 113].dropna(subset=['sponsors']).copy()\n",
    "df_113congress"
   ]
  },
  {
   "cell_type": "markdown",
   "metadata": {},
   "source": [
    "It looks like the 113th Congress ran from Jan 2013 to December 2014."
   ]
  },
  {
   "cell_type": "code",
   "execution_count": null,
   "metadata": {},
   "outputs": [],
   "source": [
    "df_113congress['date'].min()"
   ]
  },
  {
   "cell_type": "code",
   "execution_count": null,
   "metadata": {},
   "outputs": [],
   "source": [
    "df_113congress['date'].max()"
   ]
  },
  {
   "cell_type": "code",
   "execution_count": null,
   "metadata": {},
   "outputs": [],
   "source": [
    "df_113congress['cosponsors']"
   ]
  },
  {
   "cell_type": "code",
   "execution_count": null,
   "metadata": {},
   "outputs": [],
   "source": [
    "def split_ids(x):\n",
    "    if str(x) == 'nan':\n",
    "        return []\n",
    "    else:\n",
    "        return str(x).split('|')"
   ]
  },
  {
   "cell_type": "code",
   "execution_count": null,
   "metadata": {},
   "outputs": [],
   "source": [
    "df_113congress['spons_cospons_list'] = df_113congress['sponsors'].apply(split_ids) + df_113congress['cosponsors'].apply(split_ids)"
   ]
  },
  {
   "cell_type": "code",
   "execution_count": null,
   "metadata": {},
   "outputs": [],
   "source": [
    "df_113congress.head()"
   ]
  },
  {
   "cell_type": "markdown",
   "metadata": {},
   "source": [
    "Let's get a dataframe with the attributes of each bill (we can use this later)"
   ]
  },
  {
   "cell_type": "code",
   "execution_count": null,
   "metadata": {},
   "outputs": [],
   "source": [
    "bill_info_dict = df_113congress.set_index('bill.id').to_dict(orient='index')"
   ]
  },
  {
   "cell_type": "code",
   "execution_count": null,
   "metadata": {},
   "outputs": [],
   "source": [
    "bill_info_dict"
   ]
  },
  {
   "cell_type": "markdown",
   "metadata": {},
   "source": [
    "`explode` is a `pandas` function that takes a dataset with a column whose entries are a list -- like our column with the IDs of bill sponsors/cosponsors -- and turns it into a longer dataset with one row for each entry in the list"
   ]
  },
  {
   "cell_type": "code",
   "execution_count": null,
   "metadata": {},
   "outputs": [],
   "source": [
    "df_113congress = df_113congress.explode('spons_cospons_list')"
   ]
  },
  {
   "cell_type": "code",
   "execution_count": null,
   "metadata": {},
   "outputs": [],
   "source": [
    "df_113congress.head()"
   ]
  },
  {
   "cell_type": "code",
   "execution_count": null,
   "metadata": {},
   "outputs": [],
   "source": [
    "bill_edges = [(row['spons_cospons_list'], row['bill.id']) for idx, row in df_113congress.iterrows()]"
   ]
  },
  {
   "cell_type": "code",
   "execution_count": null,
   "metadata": {},
   "outputs": [],
   "source": [
    "bill_edges"
   ]
  },
  {
   "cell_type": "code",
   "execution_count": null,
   "metadata": {},
   "outputs": [],
   "source": [
    "len(bill_edges)"
   ]
  },
  {
   "cell_type": "code",
   "execution_count": null,
   "metadata": {},
   "outputs": [],
   "source": [
    "all_legislators = list(set(x[0] for x in bill_edges))\n",
    "all_bills = list(set(x[1] for x in bill_edges))"
   ]
  },
  {
   "cell_type": "code",
   "execution_count": null,
   "metadata": {},
   "outputs": [],
   "source": [
    "recipient_db"
   ]
  },
  {
   "cell_type": "code",
   "execution_count": null,
   "metadata": {},
   "outputs": [],
   "source": [
    "cand_info = recipient_db[recipient_db['bonica.rid'].isin(all_legislators)]\n",
    "cand_info = cand_info[cand_info['cycle'] <= 2012].copy()\n",
    "cand_info.shape"
   ]
  },
  {
   "cell_type": "markdown",
   "metadata": {},
   "source": [
    "Let's check that we have matches for all of the legislators\n",
    "(we do)"
   ]
  },
  {
   "cell_type": "code",
   "execution_count": null,
   "metadata": {},
   "outputs": [],
   "source": [
    "len(cand_info['bonica.rid'].unique())"
   ]
  },
  {
   "cell_type": "code",
   "execution_count": null,
   "metadata": {},
   "outputs": [],
   "source": [
    "len(all_legislators)"
   ]
  },
  {
   "cell_type": "code",
   "execution_count": null,
   "metadata": {},
   "outputs": [],
   "source": [
    "cand_info.sort_values('bonica.rid')"
   ]
  },
  {
   "cell_type": "code",
   "execution_count": null,
   "metadata": {},
   "outputs": [],
   "source": [
    "cand_info[cand_info['bonica.rid'] == 'cand994'].name"
   ]
  },
  {
   "cell_type": "markdown",
   "metadata": {},
   "source": [
    "It looks like the same name can show up more than once in 2012 if there are special circumstances. For example, candidate 994 appears to be [Dean Heller](https://en.wikipedia.org/wiki/2012_United_States_Senate_election_in_Nevada) who was appointed to a Senate seat in 2011 and who then ran for the seat in 2012.\n",
    "\n",
    "For our purposes, we'll just pick one of the rows when there is more than one. Specifically, we'll first sort the dataset so that the `cycle` values go from 2012 down; then, we'll use `drop_duplicates` to keep only one row for each value of the candidate ID. The upshot is that we will get the 2012 entry for each candidate, unless there isn't one - in which case, we'll get the soonest entry that comes before 2012."
   ]
  },
  {
   "cell_type": "code",
   "execution_count": null,
   "metadata": {},
   "outputs": [],
   "source": [
    "cand_info = cand_info.sort_values('cycle', ascending=False).drop_duplicates(subset='bonica.rid')\n",
    "cand_info"
   ]
  },
  {
   "cell_type": "code",
   "execution_count": null,
   "metadata": {},
   "outputs": [],
   "source": [
    "cand_info_dict = cand_info.set_index('bonica.rid').to_dict(orient='index')"
   ]
  },
  {
   "cell_type": "code",
   "execution_count": null,
   "metadata": {},
   "outputs": [],
   "source": [
    "cand_info_dict"
   ]
  },
  {
   "cell_type": "markdown",
   "metadata": {},
   "source": [
    "Finally, let's take our (relatively) clean data and use it to make an affiliation network"
   ]
  },
  {
   "cell_type": "code",
   "execution_count": null,
   "metadata": {},
   "outputs": [],
   "source": [
    "bill_net = nx.Graph()\n",
    "bill_net.add_nodes_from(all_legislators, bipartite=0)\n",
    "bill_net.add_nodes_from(all_bills, bipartite=1)\n",
    "bill_net.add_edges_from(bill_edges)"
   ]
  },
  {
   "cell_type": "code",
   "execution_count": null,
   "metadata": {},
   "outputs": [],
   "source": [
    "bill_net"
   ]
  },
  {
   "cell_type": "code",
   "execution_count": null,
   "metadata": {},
   "outputs": [],
   "source": [
    "nx.draw_networkx(bill_net)"
   ]
  },
  {
   "cell_type": "markdown",
   "metadata": {},
   "source": [
    "Add candidate info and bill info as node attributes"
   ]
  },
  {
   "cell_type": "code",
   "execution_count": null,
   "metadata": {},
   "outputs": [],
   "source": [
    "nx.set_node_attributes(bill_net, values=cand_info_dict)"
   ]
  },
  {
   "cell_type": "code",
   "execution_count": null,
   "metadata": {},
   "outputs": [],
   "source": [
    "nx.set_node_attributes(bill_net, values=bill_info_dict)"
   ]
  },
  {
   "cell_type": "code",
   "execution_count": null,
   "metadata": {},
   "outputs": [],
   "source": [
    "bill_pos = dict()\n",
    "\n",
    "longer_max = max(len(all_legislators), len(all_bills))\n",
    "leg_scale = longer_max / len(all_legislators)\n",
    "bill_scale = longer_max / len(all_bills)\n",
    "\n",
    "\n",
    "for idx, node_id in enumerate(all_legislators):\n",
    "    bill_pos[node_id] = (1, idx*leg_scale)\n",
    "    \n",
    "for idx, node_id in enumerate(all_bills):\n",
    "    bill_pos[node_id] = (2, idx*bill_scale)\n",
    "\n",
    "# this size is very tall, which will be helpful\n",
    "# because there are quite a few bills\n",
    "plt.figure(figsize=(10,100))\n",
    "nx.draw(bill_net, pos=bill_pos, with_labels=True)"
   ]
  },
  {
   "cell_type": "markdown",
   "metadata": {},
   "source": [
    "Let's double-check that this network is bipartite..."
   ]
  },
  {
   "cell_type": "code",
   "execution_count": null,
   "metadata": {},
   "outputs": [],
   "source": [
    "nx.is_bipartite(bill_net)"
   ]
  },
  {
   "cell_type": "markdown",
   "metadata": {},
   "source": [
    "Project the affiliation network onto the set of legislators.\n",
    "\n",
    "Q: In this new network, when is there an edge between two legislators?"
   ]
  },
  {
   "cell_type": "code",
   "execution_count": null,
   "metadata": {},
   "outputs": [],
   "source": [
    "legislator_network_weighted = bipartite.weighted_projected_graph(bill_net, all_legislators)\n",
    "nx.set_node_attributes(legislator_network_weighted, values=cand_info_dict)"
   ]
  },
  {
   "cell_type": "code",
   "execution_count": null,
   "metadata": {},
   "outputs": [],
   "source": [
    "#bill_network_weighted = bipartite.weighted_projected_graph(bill_net, all_bills)"
   ]
  },
  {
   "cell_type": "code",
   "execution_count": null,
   "metadata": {},
   "outputs": [],
   "source": [
    "nx.draw_spring(legislator_network_weighted)"
   ]
  },
  {
   "cell_type": "code",
   "execution_count": null,
   "metadata": {},
   "outputs": [],
   "source": [
    "for edge in sorted(legislator_network_weighted.edges(data=True)):\n",
    "    print(edge)"
   ]
  },
  {
   "cell_type": "markdown",
   "metadata": {},
   "source": [
    "So, there's a weight on each edge. The weight is the number of bills each pair of legislators co-sponsored."
   ]
  },
  {
   "cell_type": "markdown",
   "metadata": {},
   "source": [
    "Let's look at the distribution of edge weights - i.e., the distribution of number of bills co-sponsored by pairs of legislators"
   ]
  },
  {
   "cell_type": "code",
   "execution_count": null,
   "metadata": {},
   "outputs": [],
   "source": [
    "edge_weights = [e[2]['weight'] for e in legislator_network_weighted.edges(data=True)]\n",
    "Table().with_column('edge_weight', edge_weights).hist()"
   ]
  },
  {
   "cell_type": "markdown",
   "metadata": {},
   "source": [
    "We can see that legislators cosponsor lots of bills with each other.\n",
    "\n",
    "To simplify the analysis, we'll pick a value as a cutoff for 'meaningful' collaboration. We'll keep edges whose weight is above some threshold. This function will help us do that..."
   ]
  },
  {
   "cell_type": "code",
   "execution_count": null,
   "metadata": {},
   "outputs": [],
   "source": [
    "def edge_threshold(net, threshold):\n",
    "    \n",
    "    # we'll make a copy of this network so that we don't\n",
    "    # change the original\n",
    "    new_net = net.copy()\n",
    "    \n",
    "    for e in list(new_net.edges()):\n",
    "        if new_net[e[0]][e[1]]['weight'] < threshold:\n",
    "            new_net.remove_edge(e[0], e[1])\n",
    "    \n",
    "    return(new_net)"
   ]
  },
  {
   "cell_type": "markdown",
   "metadata": {},
   "source": [
    "Let's use a cutoff of 8 cosponsored bills..."
   ]
  },
  {
   "cell_type": "code",
   "execution_count": null,
   "metadata": {},
   "outputs": [],
   "source": [
    "legislator_network_thresh = edge_threshold(legislator_network_weighted, threshold = 8)"
   ]
  },
  {
   "cell_type": "code",
   "execution_count": null,
   "metadata": {},
   "outputs": [],
   "source": [
    "nx.draw_networkx(legislator_network_thresh)"
   ]
  },
  {
   "cell_type": "markdown",
   "metadata": {},
   "source": [
    "Kind of messy and hard to interpret.\n",
    "\n",
    "Let's get the giant component of this network and try to visualize it\n",
    "(bearing in mind the limitations of these visualizations)"
   ]
  },
  {
   "cell_type": "code",
   "execution_count": null,
   "metadata": {},
   "outputs": [],
   "source": [
    "lnt_gc = legislator_network_thresh.subgraph(max(nx.connected_components(legislator_network_thresh), key=len)).copy()"
   ]
  },
  {
   "cell_type": "code",
   "execution_count": null,
   "metadata": {},
   "outputs": [],
   "source": [
    "nx.draw_networkx(lnt_gc, \n",
    "                 nx.spring_layout(lnt_gc))                          "
   ]
  },
  {
   "cell_type": "markdown",
   "metadata": {},
   "source": [
    "We could spend more time trying to improve this visualization - but, ultimately, these graph visualizations are pretty limited.\n",
    "\n",
    "An alternative is to try to examine quantitative summaries of different characteristics of the network. Of course, which summaries we decide to examine depends on the substantive question we are trying to investigate.\n",
    "\n",
    "In this network, it seems reasonable to be interested in whether or not similar legislators collaborate with each other - i.e., whether or not there is homophily in this legislator collaboration network.\n",
    "\n",
    "Let's remind ourselves of the different traits we have measured for each legislator by looking a at a specific example:"
   ]
  },
  {
   "cell_type": "code",
   "execution_count": null,
   "metadata": {},
   "outputs": [],
   "source": [
    "lnt_gc.nodes(data=True)['cand1116']"
   ]
  },
  {
   "cell_type": "markdown",
   "metadata": {},
   "source": [
    "We see lots of traits!\n",
    "\n",
    "The *assortativity coefficient* is a popular way to quantify the extent to which nodes with the same trait are more likely to be connected together. (You'll see more about the assortativity coefficient in future assignments.) \n",
    "\n",
    "For now, it's useful to know that assortativity coefficients close to 1 mean lots of homophily; close to 0 means no homophily; and negative means inverse homophily.\n",
    "\n",
    "With that in mind, let's calculate assortativity coefficients for a few different traits:"
   ]
  },
  {
   "cell_type": "code",
   "execution_count": null,
   "metadata": {},
   "outputs": [],
   "source": [
    "nx.attribute_assortativity_coefficient(lnt_gc, 'party')"
   ]
  },
  {
   "cell_type": "code",
   "execution_count": null,
   "metadata": {},
   "outputs": [],
   "source": [
    "nx.attribute_assortativity_coefficient(lnt_gc, 'state')"
   ]
  },
  {
   "cell_type": "code",
   "execution_count": null,
   "metadata": {},
   "outputs": [],
   "source": [
    "nx.attribute_assortativity_coefficient(lnt_gc, 'recipient.cfscore')"
   ]
  },
  {
   "cell_type": "code",
   "execution_count": null,
   "metadata": {},
   "outputs": [],
   "source": [
    "nx.attribute_assortativity_coefficient(lnt_gc, 'cand.gender')"
   ]
  }
 ],
 "metadata": {
  "anaconda-cloud": {},
  "kernelspec": {
   "display_name": "Python 3",
   "language": "python",
   "name": "python3"
  },
  "language_info": {
   "codemirror_mode": {
    "name": "ipython",
    "version": 3
   },
   "file_extension": ".py",
   "mimetype": "text/x-python",
   "name": "python",
   "nbconvert_exporter": "python",
   "pygments_lexer": "ipython3",
   "version": "3.7.7"
  }
 },
 "nbformat": 4,
 "nbformat_minor": 1
}
