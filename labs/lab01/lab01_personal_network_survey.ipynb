{
 "cells": [
  {
   "cell_type": "raw",
   "metadata": {},
   "source": [
    "# ASSIGNMENT CONFIG\n",
    "init_cell: true\n",
    "solutions_pdf: true\n",
    "template_pdf: true\n",
    "check_all_cell: true\n",
    "export_cell:\n",
    "    instructions: \"Please upload the .zip file to Gradescope.\"\n",
    "generate:\n",
    "    token: '-OqpeU4LSxgmNf7R1KWl1A'\n",
    "    course_id: 588220\n",
    "    assignment_id: 3337919\n",
    "    filtering: true\n",
    "    pagebreaks: true\n",
    "files:\n",
    "    - 'GSS.csv'\n",
    "    - 'fig_3_22.png'\n",
    "    - 'fig_5_18.png'\n",
    "    - 'fig_bfs.png'\n",
    "    - 'fig_Graph1.png'"
   ]
  },
  {
   "cell_type": "code",
   "execution_count": 1,
   "metadata": {},
   "outputs": [],
   "source": [
    "from IPython.core.display import HTML\n",
    "from datascience import *\n",
    "from scipy.stats import chi2_contingency\n",
    "\n",
    "import matplotlib\n",
    "matplotlib.use('Agg')\n",
    "%matplotlib inline\n",
    "import matplotlib.pyplot as plt\n",
    "import numpy as np\n",
    "import pandas as pd\n",
    "plt.style.use('fivethirtyeight')\n",
    "import warnings\n",
    "warnings.simplefilter('ignore', FutureWarning)"
   ]
  },
  {
   "cell_type": "markdown",
   "metadata": {},
   "source": [
    "# Lab 1: Personal Network Surveys"
   ]
  },
  {
   "cell_type": "markdown",
   "metadata": {},
   "source": [
    "In this lab, we will analyze some data from the [General Social Survey](http://gss.norc.org/) (GSS).\n",
    "The GSS is the survey that was the basis of the debate over whether or not Americans are becoming more socially isolated, which we discussed in class."
   ]
  },
  {
   "cell_type": "code",
   "execution_count": 2,
   "metadata": {},
   "outputs": [
    {
     "data": {
      "text/plain": [
       "'e:\\\\Academic\\\\Git\\\\demog180-admin\\\\devel\\\\lab\\\\lab01'"
      ]
     },
     "execution_count": 2,
     "metadata": {},
     "output_type": "execute_result"
    }
   ],
   "source": [
    "import os\n",
    "os.getcwd()"
   ]
  },
  {
   "cell_type": "markdown",
   "metadata": {},
   "source": [
    "The file `GSS.csv` has an extract from the GSS which we will analyze today.\n",
    "\n",
    "Here is the [codebook](http://gss.norc.org/documents/codebook/GSS_Codebook.pdf) for the entire GSS. Of course, the GSS is huge, so you will have to search through for the variable names included in this extract. (Don't do this by hand -- use your pdf viewer's search function.)"
   ]
  },
  {
   "cell_type": "markdown",
   "metadata": {},
   "source": [
    "Read the GSS extract into a Table called `gss_data`."
   ]
  },
  {
   "cell_type": "code",
   "execution_count": 5,
   "metadata": {},
   "outputs": [],
   "source": [
    "gss_data = Table.read_table('GSS.csv')\n"
   ]
  },
  {
   "cell_type": "markdown",
   "metadata": {},
   "source": [
    "Let's first take a look at its contents:"
   ]
  },
  {
   "cell_type": "code",
   "execution_count": 6,
   "metadata": {},
   "outputs": [
    {
     "data": {
      "text/html": [
       "<table border=\"1\" class=\"dataframe\">\n",
       "    <thead>\n",
       "        <tr>\n",
       "            <th>year</th> <th>id</th> <th>marital</th> <th>age</th> <th>numgiven</th> <th>sex1</th> <th>sex2</th> <th>sex3</th> <th>sex4</th> <th>sex5</th> <th>spouse1</th> <th>spouse2</th> <th>spouse3</th> <th>spouse4</th> <th>spouse5</th> <th>age1</th> <th>age2</th> <th>age3</th> <th>age4</th> <th>age5</th>\n",
       "        </tr>\n",
       "    </thead>\n",
       "    <tbody>\n",
       "        <tr>\n",
       "            <td>1972</td> <td>1   </td> <td>5      </td> <td>23  </td> <td>-1      </td> <td>0   </td> <td>0   </td> <td>0   </td> <td>0   </td> <td>0   </td> <td>0      </td> <td>0      </td> <td>0      </td> <td>0      </td> <td>0      </td> <td>-1  </td> <td>-1  </td> <td>-1  </td> <td>-1  </td> <td>-1  </td>\n",
       "        </tr>\n",
       "        <tr>\n",
       "            <td>1972</td> <td>2   </td> <td>1      </td> <td>70  </td> <td>-1      </td> <td>0   </td> <td>0   </td> <td>0   </td> <td>0   </td> <td>0   </td> <td>0      </td> <td>0      </td> <td>0      </td> <td>0      </td> <td>0      </td> <td>-1  </td> <td>-1  </td> <td>-1  </td> <td>-1  </td> <td>-1  </td>\n",
       "        </tr>\n",
       "        <tr>\n",
       "            <td>1972</td> <td>3   </td> <td>1      </td> <td>48  </td> <td>-1      </td> <td>0   </td> <td>0   </td> <td>0   </td> <td>0   </td> <td>0   </td> <td>0      </td> <td>0      </td> <td>0      </td> <td>0      </td> <td>0      </td> <td>-1  </td> <td>-1  </td> <td>-1  </td> <td>-1  </td> <td>-1  </td>\n",
       "        </tr>\n",
       "        <tr>\n",
       "            <td>1972</td> <td>4   </td> <td>1      </td> <td>27  </td> <td>-1      </td> <td>0   </td> <td>0   </td> <td>0   </td> <td>0   </td> <td>0   </td> <td>0      </td> <td>0      </td> <td>0      </td> <td>0      </td> <td>0      </td> <td>-1  </td> <td>-1  </td> <td>-1  </td> <td>-1  </td> <td>-1  </td>\n",
       "        </tr>\n",
       "        <tr>\n",
       "            <td>1972</td> <td>5   </td> <td>1      </td> <td>61  </td> <td>-1      </td> <td>0   </td> <td>0   </td> <td>0   </td> <td>0   </td> <td>0   </td> <td>0      </td> <td>0      </td> <td>0      </td> <td>0      </td> <td>0      </td> <td>-1  </td> <td>-1  </td> <td>-1  </td> <td>-1  </td> <td>-1  </td>\n",
       "        </tr>\n",
       "        <tr>\n",
       "            <td>1972</td> <td>6   </td> <td>5      </td> <td>26  </td> <td>-1      </td> <td>0   </td> <td>0   </td> <td>0   </td> <td>0   </td> <td>0   </td> <td>0      </td> <td>0      </td> <td>0      </td> <td>0      </td> <td>0      </td> <td>-1  </td> <td>-1  </td> <td>-1  </td> <td>-1  </td> <td>-1  </td>\n",
       "        </tr>\n",
       "        <tr>\n",
       "            <td>1972</td> <td>7   </td> <td>3      </td> <td>28  </td> <td>-1      </td> <td>0   </td> <td>0   </td> <td>0   </td> <td>0   </td> <td>0   </td> <td>0      </td> <td>0      </td> <td>0      </td> <td>0      </td> <td>0      </td> <td>-1  </td> <td>-1  </td> <td>-1  </td> <td>-1  </td> <td>-1  </td>\n",
       "        </tr>\n",
       "        <tr>\n",
       "            <td>1972</td> <td>8   </td> <td>5      </td> <td>27  </td> <td>-1      </td> <td>0   </td> <td>0   </td> <td>0   </td> <td>0   </td> <td>0   </td> <td>0      </td> <td>0      </td> <td>0      </td> <td>0      </td> <td>0      </td> <td>-1  </td> <td>-1  </td> <td>-1  </td> <td>-1  </td> <td>-1  </td>\n",
       "        </tr>\n",
       "        <tr>\n",
       "            <td>1972</td> <td>9   </td> <td>5      </td> <td>21  </td> <td>-1      </td> <td>0   </td> <td>0   </td> <td>0   </td> <td>0   </td> <td>0   </td> <td>0      </td> <td>0      </td> <td>0      </td> <td>0      </td> <td>0      </td> <td>-1  </td> <td>-1  </td> <td>-1  </td> <td>-1  </td> <td>-1  </td>\n",
       "        </tr>\n",
       "        <tr>\n",
       "            <td>1972</td> <td>10  </td> <td>1      </td> <td>30  </td> <td>-1      </td> <td>0   </td> <td>0   </td> <td>0   </td> <td>0   </td> <td>0   </td> <td>0      </td> <td>0      </td> <td>0      </td> <td>0      </td> <td>0      </td> <td>-1  </td> <td>-1  </td> <td>-1  </td> <td>-1  </td> <td>-1  </td>\n",
       "        </tr>\n",
       "    </tbody>\n",
       "</table>\n",
       "<p>... (59589 rows omitted)</p>"
      ],
      "text/plain": [
       "year | id   | marital | age  | numgiven | sex1 | sex2 | sex3 | sex4 | sex5 | spouse1 | spouse2 | spouse3 | spouse4 | spouse5 | age1 | age2 | age3 | age4 | age5\n",
       "1972 | 1    | 5       | 23   | -1       | 0    | 0    | 0    | 0    | 0    | 0       | 0       | 0       | 0       | 0       | -1   | -1   | -1   | -1   | -1\n",
       "1972 | 2    | 1       | 70   | -1       | 0    | 0    | 0    | 0    | 0    | 0       | 0       | 0       | 0       | 0       | -1   | -1   | -1   | -1   | -1\n",
       "1972 | 3    | 1       | 48   | -1       | 0    | 0    | 0    | 0    | 0    | 0       | 0       | 0       | 0       | 0       | -1   | -1   | -1   | -1   | -1\n",
       "1972 | 4    | 1       | 27   | -1       | 0    | 0    | 0    | 0    | 0    | 0       | 0       | 0       | 0       | 0       | -1   | -1   | -1   | -1   | -1\n",
       "1972 | 5    | 1       | 61   | -1       | 0    | 0    | 0    | 0    | 0    | 0       | 0       | 0       | 0       | 0       | -1   | -1   | -1   | -1   | -1\n",
       "1972 | 6    | 5       | 26   | -1       | 0    | 0    | 0    | 0    | 0    | 0       | 0       | 0       | 0       | 0       | -1   | -1   | -1   | -1   | -1\n",
       "1972 | 7    | 3       | 28   | -1       | 0    | 0    | 0    | 0    | 0    | 0       | 0       | 0       | 0       | 0       | -1   | -1   | -1   | -1   | -1\n",
       "1972 | 8    | 5       | 27   | -1       | 0    | 0    | 0    | 0    | 0    | 0       | 0       | 0       | 0       | 0       | -1   | -1   | -1   | -1   | -1\n",
       "1972 | 9    | 5       | 21   | -1       | 0    | 0    | 0    | 0    | 0    | 0       | 0       | 0       | 0       | 0       | -1   | -1   | -1   | -1   | -1\n",
       "1972 | 10   | 1       | 30   | -1       | 0    | 0    | 0    | 0    | 0    | 0       | 0       | 0       | 0       | 0       | -1   | -1   | -1   | -1   | -1\n",
       "... (59589 rows omitted)"
      ]
     },
     "execution_count": 6,
     "metadata": {},
     "output_type": "execute_result"
    }
   ],
   "source": [
    "gss_data"
   ]
  },
  {
   "cell_type": "raw",
   "metadata": {},
   "source": [
    "# BEGIN QUESTION\n",
    "name: q1\n",
    "points: 2"
   ]
  },
  {
   "cell_type": "markdown",
   "metadata": {},
   "source": [
    "## Question 1:\n",
    "How many rows and how many columns does `gss_data` have? \n",
    "\n",
    "*Hint: the `Table` object has two attributes, `num_columns` and `num_rows`.*"
   ]
  },
  {
   "cell_type": "raw",
   "metadata": {},
   "source": [
    "# BEGIN SOLUTION"
   ]
  },
  {
   "cell_type": "code",
   "execution_count": 7,
   "metadata": {},
   "outputs": [
    {
     "name": "stdout",
     "output_type": "stream",
     "text": [
      "num rows:  59599\n",
      "num cols:  20\n"
     ]
    }
   ],
   "source": [
    "gss_number_of_rows = gss_data.num_rows # SOLUTION\n",
    "gss_number_of_cols = gss_data.num_columns # SOLUTION \n",
    "\n",
    "print(\"num rows: \", gss_number_of_rows)\n",
    "print(\"num cols: \", gss_number_of_cols)"
   ]
  },
  {
   "cell_type": "raw",
   "metadata": {},
   "source": [
    "# END SOLUTION"
   ]
  },
  {
   "cell_type": "raw",
   "metadata": {},
   "source": [
    "# BEGIN TESTS"
   ]
  },
  {
   "cell_type": "code",
   "execution_count": 8,
   "metadata": {},
   "outputs": [
    {
     "data": {
      "text/plain": [
       "True"
      ]
     },
     "execution_count": 8,
     "metadata": {},
     "output_type": "execute_result"
    }
   ],
   "source": [
    "\"\"\" # BEGIN TEST CONFIG\n",
    "failure_message: Incorrect number of rows\n",
    "\"\"\" # END TEST CONFIG\n",
    "np.isclose(gss_number_of_rows, 59599)"
   ]
  },
  {
   "cell_type": "code",
   "execution_count": 9,
   "metadata": {},
   "outputs": [
    {
     "data": {
      "text/plain": [
       "True"
      ]
     },
     "execution_count": 9,
     "metadata": {},
     "output_type": "execute_result"
    }
   ],
   "source": [
    "\"\"\" # BEGIN TEST CONFIG\n",
    "failure_message: Incorrect number of columns\n",
    "\"\"\" # END TEST CONFIG\n",
    "np.isclose(gss_number_of_cols, 20)"
   ]
  },
  {
   "cell_type": "raw",
   "metadata": {},
   "source": [
    "# END TESTS"
   ]
  },
  {
   "cell_type": "raw",
   "metadata": {},
   "source": [
    "# END QUESTION"
   ]
  },
  {
   "cell_type": "raw",
   "metadata": {},
   "source": [
    "# BEGIN QUESTION\n",
    "name: q2\n",
    "points: 2"
   ]
  },
  {
   "cell_type": "markdown",
   "metadata": {},
   "source": [
    "## Question 2:\n",
    "What range of years is covered by this dataset? Answer this by finding the largest and smallest year. \n",
    "\n",
    "_Hint: You can use the functions max and min that we introduced back in Lab 0_"
   ]
  },
  {
   "cell_type": "raw",
   "metadata": {},
   "source": [
    "# BEGIN SOLUTION"
   ]
  },
  {
   "cell_type": "code",
   "execution_count": 10,
   "metadata": {},
   "outputs": [
    {
     "name": "stdout",
     "output_type": "stream",
     "text": [
      "earliest year:  1972\n",
      "latest year:  2014\n"
     ]
    }
   ],
   "source": [
    "largest_year = np.max(gss_data.column('year')) # SOLUTION\n",
    "smallest_year = np.min(gss_data.column('year')) # SOLUTION\n",
    "\n",
    "print(\"earliest year: \", smallest_year)\n",
    "print(\"latest year: \", largest_year)"
   ]
  },
  {
   "cell_type": "raw",
   "metadata": {},
   "source": [
    "# END SOLUTION"
   ]
  },
  {
   "cell_type": "raw",
   "metadata": {},
   "source": [
    "# BEGIN TESTS"
   ]
  },
  {
   "cell_type": "code",
   "execution_count": 11,
   "metadata": {},
   "outputs": [
    {
     "data": {
      "text/plain": [
       "True"
      ]
     },
     "execution_count": 11,
     "metadata": {},
     "output_type": "execute_result"
    }
   ],
   "source": [
    "\"\"\" # BEGIN TEST CONFIG\n",
    "failure_message: Incorrect earliest year. Hint- select a column using `Table.column('column name in quotes')`\n",
    "\"\"\" # END TEST CONFIG\n",
    "np.isclose(smallest_year, 1972)"
   ]
  },
  {
   "cell_type": "code",
   "execution_count": 12,
   "metadata": {},
   "outputs": [
    {
     "data": {
      "text/plain": [
       "True"
      ]
     },
     "execution_count": 12,
     "metadata": {},
     "output_type": "execute_result"
    }
   ],
   "source": [
    "\"\"\" # BEGIN TEST CONFIG\n",
    "failure_message: Incorrect latest year. Hint- select a column using `Table.column('column name in quotes')`\n",
    "\"\"\" # END TEST CONFIG\n",
    "np.isclose(largest_year, 2014)"
   ]
  },
  {
   "cell_type": "raw",
   "metadata": {},
   "source": [
    "# END TESTS"
   ]
  },
  {
   "cell_type": "raw",
   "metadata": {},
   "source": [
    "# END QUESTION"
   ]
  },
  {
   "cell_type": "markdown",
   "metadata": {},
   "source": [
    "In the GSS, we are interested in one question that measures social networks, namely, Question 333: *From time to time, most people discuss important matters with other people. Looking back over the last six months - who are the people with whom\n",
    "you discussed matters important to you?* (GSS Codebook, p. 572). \n",
    "\n",
    " It turns out that this question was only asked of the survey respondents in 1985 and 2004. In order to continue with our analysis, we will pick out only the rows of the dataset that correspond to the years we are interested in."
   ]
  },
  {
   "cell_type": "raw",
   "metadata": {},
   "source": [
    "# BEGIN QUESTION\n",
    "name: q3\n",
    "points: 2"
   ]
  },
  {
   "cell_type": "markdown",
   "metadata": {},
   "source": [
    "## Question 3:\n",
    "Make two new datasets: `gss_1985` and `gss_2004` which have only the responses from 1985 and 2004, respectively.\n",
    "\n",
    "*Hint: use functions `Table.where` and `are.equal_to(...)`*"
   ]
  },
  {
   "cell_type": "raw",
   "metadata": {},
   "source": [
    "# BEGIN SOLUTION"
   ]
  },
  {
   "cell_type": "code",
   "execution_count": 13,
   "metadata": {},
   "outputs": [],
   "source": [
    "gss_1985 = gss_data.where('year', are.equal_to(1985)) # SOLUTION\n",
    "gss_2004 = gss_data.where('year', are.equal_to(2004)) # SOLUTION"
   ]
  },
  {
   "cell_type": "raw",
   "metadata": {},
   "source": [
    "# END SOLUTION"
   ]
  },
  {
   "cell_type": "raw",
   "metadata": {},
   "source": [
    "# BEGIN TESTS"
   ]
  },
  {
   "cell_type": "code",
   "execution_count": 14,
   "metadata": {},
   "outputs": [
    {
     "data": {
      "text/plain": [
       "True"
      ]
     },
     "execution_count": 14,
     "metadata": {},
     "output_type": "execute_result"
    }
   ],
   "source": [
    "\"\"\" # BEGIN TEST CONFIG\n",
    "failure_message: 1985 survey incorrect number of rows. Hint- use functions `Table.where` and `are.equal_to(...)`\n",
    "\"\"\" # END TEST CONFIG\n",
    "np.isclose(gss_1985.num_rows, 1534)"
   ]
  },
  {
   "cell_type": "code",
   "execution_count": 15,
   "metadata": {},
   "outputs": [
    {
     "data": {
      "text/plain": [
       "True"
      ]
     },
     "execution_count": 15,
     "metadata": {},
     "output_type": "execute_result"
    }
   ],
   "source": [
    "\"\"\" # BEGIN TEST CONFIG\n",
    "failure_message: 2004 survey incorrect number of rows. Hint- use functions `Table.where` and `are.equal_to(...)`\n",
    "\"\"\" # END TEST CONFIG\n",
    "np.isclose(gss_2004.num_rows, 2812)"
   ]
  },
  {
   "cell_type": "raw",
   "metadata": {},
   "source": [
    "# END TESTS"
   ]
  },
  {
   "cell_type": "raw",
   "metadata": {},
   "source": [
    "# END QUESTION"
   ]
  },
  {
   "cell_type": "raw",
   "metadata": {},
   "source": [
    "# BEGIN QUESTION\n",
    "name: q4\n",
    "points: 1"
   ]
  },
  {
   "cell_type": "markdown",
   "metadata": {},
   "source": [
    "## Question 4: \n",
    "How many responses are there from 1985, and how many from 2004? "
   ]
  },
  {
   "cell_type": "raw",
   "metadata": {},
   "source": [
    "# BEGIN SOLUTION"
   ]
  },
  {
   "cell_type": "code",
   "execution_count": 16,
   "metadata": {},
   "outputs": [],
   "source": [
    "responses_from_1985 = gss_1985.num_rows # SOLUTION\n",
    "responses_from_2004 = gss_2004.num_rows # SOLUTION"
   ]
  },
  {
   "cell_type": "raw",
   "metadata": {},
   "source": [
    "# END SOLUTION"
   ]
  },
  {
   "cell_type": "raw",
   "metadata": {},
   "source": [
    "# BEGIN TESTS"
   ]
  },
  {
   "cell_type": "code",
   "execution_count": 17,
   "metadata": {},
   "outputs": [
    {
     "data": {
      "text/plain": [
       "True"
      ]
     },
     "execution_count": 17,
     "metadata": {},
     "output_type": "execute_result"
    }
   ],
   "source": [
    "\"\"\" # BEGIN TEST CONFIG\n",
    "failure_message: 1985 survey incorrect number of rows\n",
    "\"\"\" # END TEST CONFIG\n",
    "np.isclose(responses_from_1985, 1534)"
   ]
  },
  {
   "cell_type": "code",
   "execution_count": 18,
   "metadata": {},
   "outputs": [
    {
     "data": {
      "text/plain": [
       "True"
      ]
     },
     "execution_count": 18,
     "metadata": {},
     "output_type": "execute_result"
    }
   ],
   "source": [
    "\"\"\" # BEGIN TEST CONFIG\n",
    "failure_message: 2004 survey incorrect number of rows\n",
    "\"\"\" # END TEST CONFIG\n",
    "np.isclose(responses_from_2004, 2812)"
   ]
  },
  {
   "cell_type": "raw",
   "metadata": {},
   "source": [
    "# END TESTS"
   ]
  },
  {
   "cell_type": "raw",
   "metadata": {},
   "source": [
    "# END QUESTION"
   ]
  },
  {
   "cell_type": "raw",
   "metadata": {},
   "source": [
    "# BEGIN QUESTION\n",
    "name: q5\n",
    "points: 1"
   ]
  },
  {
   "cell_type": "markdown",
   "metadata": {},
   "source": [
    "## Question 5:\n",
    "We are interested in how many people survey respondents said that they discussed important matters with. That will give us information about the sizes of their personal networks.\n",
    "\n",
    "Make a table of the values in the `numgiven` column for each year. This tables should show the possible options for `numgiven` and how often that response occurred.\n",
    "\n",
    "*Hint: use the function `Table.group`.*"
   ]
  },
  {
   "cell_type": "raw",
   "metadata": {},
   "source": [
    "# BEGIN SOLUTION"
   ]
  },
  {
   "cell_type": "code",
   "execution_count": 19,
   "metadata": {},
   "outputs": [
    {
     "data": {
      "text/html": [
       "<table border=\"1\" class=\"dataframe\">\n",
       "    <thead>\n",
       "        <tr>\n",
       "            <th>numgiven</th> <th>count</th>\n",
       "        </tr>\n",
       "    </thead>\n",
       "    <tbody>\n",
       "        <tr>\n",
       "            <td>0       </td> <td>136  </td>\n",
       "        </tr>\n",
       "        <tr>\n",
       "            <td>1       </td> <td>228  </td>\n",
       "        </tr>\n",
       "        <tr>\n",
       "            <td>2       </td> <td>235  </td>\n",
       "        </tr>\n",
       "        <tr>\n",
       "            <td>3       </td> <td>321  </td>\n",
       "        </tr>\n",
       "        <tr>\n",
       "            <td>4       </td> <td>233  </td>\n",
       "        </tr>\n",
       "        <tr>\n",
       "            <td>5       </td> <td>294  </td>\n",
       "        </tr>\n",
       "        <tr>\n",
       "            <td>6       </td> <td>84   </td>\n",
       "        </tr>\n",
       "        <tr>\n",
       "            <td>9       </td> <td>3    </td>\n",
       "        </tr>\n",
       "    </tbody>\n",
       "</table>"
      ],
      "text/plain": [
       "numgiven | count\n",
       "0        | 136\n",
       "1        | 228\n",
       "2        | 235\n",
       "3        | 321\n",
       "4        | 233\n",
       "5        | 294\n",
       "6        | 84\n",
       "9        | 3"
      ]
     },
     "execution_count": 19,
     "metadata": {},
     "output_type": "execute_result"
    }
   ],
   "source": [
    "gss_1985_numgiven = gss_1985.group('numgiven') # SOLUTION\n",
    "gss_1985_numgiven"
   ]
  },
  {
   "cell_type": "code",
   "execution_count": 20,
   "metadata": {},
   "outputs": [
    {
     "data": {
      "text/html": [
       "<table border=\"1\" class=\"dataframe\">\n",
       "    <thead>\n",
       "        <tr>\n",
       "            <th>numgiven</th> <th>count</th>\n",
       "        </tr>\n",
       "    </thead>\n",
       "    <tbody>\n",
       "        <tr>\n",
       "            <td>-1      </td> <td>1340 </td>\n",
       "        </tr>\n",
       "        <tr>\n",
       "            <td>0       </td> <td>356  </td>\n",
       "        </tr>\n",
       "        <tr>\n",
       "            <td>1       </td> <td>281  </td>\n",
       "        </tr>\n",
       "        <tr>\n",
       "            <td>2       </td> <td>263  </td>\n",
       "        </tr>\n",
       "        <tr>\n",
       "            <td>3       </td> <td>232  </td>\n",
       "        </tr>\n",
       "        <tr>\n",
       "            <td>4       </td> <td>128  </td>\n",
       "        </tr>\n",
       "        <tr>\n",
       "            <td>5       </td> <td>96   </td>\n",
       "        </tr>\n",
       "        <tr>\n",
       "            <td>6       </td> <td>70   </td>\n",
       "        </tr>\n",
       "        <tr>\n",
       "            <td>9       </td> <td>46   </td>\n",
       "        </tr>\n",
       "    </tbody>\n",
       "</table>"
      ],
      "text/plain": [
       "numgiven | count\n",
       "-1       | 1340\n",
       "0        | 356\n",
       "1        | 281\n",
       "2        | 263\n",
       "3        | 232\n",
       "4        | 128\n",
       "5        | 96\n",
       "6        | 70\n",
       "9        | 46"
      ]
     },
     "execution_count": 20,
     "metadata": {},
     "output_type": "execute_result"
    }
   ],
   "source": [
    "gss_2004_numgiven = gss_2004.group('numgiven') # SOLUTION\n",
    "gss_2004_numgiven"
   ]
  },
  {
   "cell_type": "raw",
   "metadata": {},
   "source": [
    "# END SOLUTION"
   ]
  },
  {
   "cell_type": "raw",
   "metadata": {},
   "source": [
    "# BEGIN TESTS"
   ]
  },
  {
   "cell_type": "code",
   "execution_count": 21,
   "metadata": {},
   "outputs": [
    {
     "data": {
      "text/plain": [
       "True"
      ]
     },
     "execution_count": 21,
     "metadata": {},
     "output_type": "execute_result"
    }
   ],
   "source": [
    "\"\"\" # BEGIN TEST CONFIG\n",
    "failure_message: 1985 survey incorrect number of rows. \n",
    "\"\"\" # END TEST CONFIG\n",
    "np.isclose(gss_1985_numgiven.num_rows, 8)"
   ]
  },
  {
   "cell_type": "code",
   "execution_count": 22,
   "metadata": {},
   "outputs": [
    {
     "data": {
      "text/plain": [
       "True"
      ]
     },
     "execution_count": 22,
     "metadata": {},
     "output_type": "execute_result"
    }
   ],
   "source": [
    "\"\"\" # BEGIN TEST CONFIG\n",
    "failure_message: 1985 survey incorrect number of columns\n",
    "\"\"\" # END TEST CONFIG\n",
    "np.isclose(gss_1985_numgiven.num_columns, 2)"
   ]
  },
  {
   "cell_type": "code",
   "execution_count": 23,
   "metadata": {},
   "outputs": [
    {
     "data": {
      "text/plain": [
       "True"
      ]
     },
     "execution_count": 23,
     "metadata": {},
     "output_type": "execute_result"
    }
   ],
   "source": [
    "\"\"\" # BEGIN TEST CONFIG\n",
    "failure_message: 2004 survey incorrect number of rows\n",
    "\"\"\" # END TEST CONFIG\n",
    "np.isclose(gss_2004_numgiven.num_rows, 9)"
   ]
  },
  {
   "cell_type": "code",
   "execution_count": 24,
   "metadata": {},
   "outputs": [
    {
     "data": {
      "text/plain": [
       "True"
      ]
     },
     "execution_count": 24,
     "metadata": {},
     "output_type": "execute_result"
    }
   ],
   "source": [
    "\"\"\" # BEGIN TEST CONFIG\n",
    "failure_message: 2004 survey incorrect number of columns\n",
    "\"\"\" # END TEST CONFIG\n",
    "np.isclose(gss_2004_numgiven.num_columns, 2)"
   ]
  },
  {
   "cell_type": "raw",
   "metadata": {},
   "source": [
    "# END TESTS"
   ]
  },
  {
   "cell_type": "raw",
   "metadata": {},
   "source": [
    "# END QUESTION"
   ]
  },
  {
   "cell_type": "markdown",
   "metadata": {},
   "source": [
    "Your table for 2004 should show that quite a few respondents have -1 as the value of `numgiven`. These respondents actually did not answer the important matters question. Their `numgiven` variable is coded as -1 (*not applicable*), according to the GSS coding scheme. There are also respondents who were asked the important matters question but did not respond. Their `numgiven` variable is coded as 9 (*No answer*). \n",
    "\n",
    " For our analysis, we need to drop those respondents."
   ]
  },
  {
   "cell_type": "raw",
   "metadata": {},
   "source": [
    "# BEGIN QUESTION\n",
    "name: q6\n",
    "points: 2"
   ]
  },
  {
   "cell_type": "markdown",
   "metadata": {},
   "source": [
    "## Question 6:\n",
    "Narrow the 2004 dataset down so that it does not have the respondents who have -1 values for `numgiven`\n",
    "\n",
    "_Hint: You can use the `are.above` function_"
   ]
  },
  {
   "cell_type": "raw",
   "metadata": {},
   "source": [
    "# BEGIN SOLUTION"
   ]
  },
  {
   "cell_type": "code",
   "execution_count": 25,
   "metadata": {},
   "outputs": [],
   "source": [
    "gss_2004_interviewed = gss_2004.where('numgiven', are.above(-1)) # SOLUTION"
   ]
  },
  {
   "cell_type": "raw",
   "metadata": {},
   "source": [
    "# END SOLUTION"
   ]
  },
  {
   "cell_type": "raw",
   "metadata": {},
   "source": [
    "# BEGIN TESTS"
   ]
  },
  {
   "cell_type": "code",
   "execution_count": 26,
   "metadata": {},
   "outputs": [
    {
     "data": {
      "text/plain": [
       "True"
      ]
     },
     "execution_count": 26,
     "metadata": {},
     "output_type": "execute_result"
    }
   ],
   "source": [
    "\"\"\" # BEGIN TEST CONFIG\n",
    "failure_message: Incorrect number of rows\n",
    "\"\"\" # END TEST CONFIG\n",
    "np.isclose(gss_2004_interviewed.num_rows, 1472)"
   ]
  },
  {
   "cell_type": "raw",
   "metadata": {},
   "source": [
    "# END TESTS"
   ]
  },
  {
   "cell_type": "raw",
   "metadata": {},
   "source": [
    "# END QUESTION"
   ]
  },
  {
   "cell_type": "raw",
   "metadata": {},
   "source": [
    "# BEGIN QUESTION\n",
    "name: q7\n",
    "points: 1"
   ]
  },
  {
   "cell_type": "markdown",
   "metadata": {},
   "source": [
    "## Question 7:\n",
    "Narrow both datasets down so that they only have respondents who were asked the important matters question  and who provided answers to that question (i.e., whose value in the `numgiven` column is neither -1 nor 9)."
   ]
  },
  {
   "cell_type": "raw",
   "metadata": {},
   "source": [
    "# BEGIN SOLUTION"
   ]
  },
  {
   "cell_type": "code",
   "execution_count": 27,
   "metadata": {},
   "outputs": [
    {
     "data": {
      "text/html": [
       "<table border=\"1\" class=\"dataframe\">\n",
       "    <thead>\n",
       "        <tr>\n",
       "            <th>year</th> <th>id</th> <th>marital</th> <th>age</th> <th>numgiven</th> <th>sex1</th> <th>sex2</th> <th>sex3</th> <th>sex4</th> <th>sex5</th> <th>spouse1</th> <th>spouse2</th> <th>spouse3</th> <th>spouse4</th> <th>spouse5</th> <th>age1</th> <th>age2</th> <th>age3</th> <th>age4</th> <th>age5</th>\n",
       "        </tr>\n",
       "    </thead>\n",
       "    <tbody>\n",
       "        <tr>\n",
       "            <td>1985</td> <td>1   </td> <td>1      </td> <td>33  </td> <td>6       </td> <td>1   </td> <td>2   </td> <td>1   </td> <td>1   </td> <td>2   </td> <td>2      </td> <td>1      </td> <td>2      </td> <td>2      </td> <td>2      </td> <td>32  </td> <td>29  </td> <td>32  </td> <td>35  </td> <td>29  </td>\n",
       "        </tr>\n",
       "        <tr>\n",
       "            <td>1985</td> <td>2   </td> <td>1      </td> <td>49  </td> <td>6       </td> <td>2   </td> <td>1   </td> <td>1   </td> <td>2   </td> <td>1   </td> <td>1      </td> <td>2      </td> <td>2      </td> <td>2      </td> <td>2      </td> <td>42  </td> <td>44  </td> <td>45  </td> <td>40  </td> <td>50  </td>\n",
       "        </tr>\n",
       "        <tr>\n",
       "            <td>1985</td> <td>3   </td> <td>5      </td> <td>23  </td> <td>5       </td> <td>2   </td> <td>2   </td> <td>2   </td> <td>2   </td> <td>2   </td> <td>2      </td> <td>2      </td> <td>2      </td> <td>2      </td> <td>2      </td> <td>25  </td> <td>24  </td> <td>46  </td> <td>21  </td> <td>35  </td>\n",
       "        </tr>\n",
       "        <tr>\n",
       "            <td>1985</td> <td>4   </td> <td>5      </td> <td>26  </td> <td>5       </td> <td>2   </td> <td>1   </td> <td>1   </td> <td>1   </td> <td>2   </td> <td>2      </td> <td>2      </td> <td>2      </td> <td>2      </td> <td>2      </td> <td>26  </td> <td>27  </td> <td>28  </td> <td>27  </td> <td>25  </td>\n",
       "        </tr>\n",
       "        <tr>\n",
       "            <td>1985</td> <td>5   </td> <td>5      </td> <td>24  </td> <td>5       </td> <td>2   </td> <td>2   </td> <td>1   </td> <td>1   </td> <td>1   </td> <td>2      </td> <td>2      </td> <td>2      </td> <td>2      </td> <td>2      </td> <td>44  </td> <td>25  </td> <td>20  </td> <td>19  </td> <td>12  </td>\n",
       "        </tr>\n",
       "        <tr>\n",
       "            <td>1985</td> <td>6   </td> <td>5      </td> <td>45  </td> <td>4       </td> <td>1   </td> <td>1   </td> <td>1   </td> <td>2   </td> <td>0   </td> <td>2      </td> <td>2      </td> <td>2      </td> <td>2      </td> <td>0      </td> <td>40  </td> <td>35  </td> <td>44  </td> <td>35  </td> <td>-1  </td>\n",
       "        </tr>\n",
       "        <tr>\n",
       "            <td>1985</td> <td>7   </td> <td>5      </td> <td>44  </td> <td>6       </td> <td>2   </td> <td>2   </td> <td>2   </td> <td>2   </td> <td>1   </td> <td>2      </td> <td>2      </td> <td>2      </td> <td>2      </td> <td>2      </td> <td>33  </td> <td>43  </td> <td>41  </td> <td>40  </td> <td>37  </td>\n",
       "        </tr>\n",
       "        <tr>\n",
       "            <td>1985</td> <td>8   </td> <td>5      </td> <td>56  </td> <td>5       </td> <td>2   </td> <td>1   </td> <td>2   </td> <td>1   </td> <td>1   </td> <td>2      </td> <td>2      </td> <td>2      </td> <td>2      </td> <td>2      </td> <td>40  </td> <td>50  </td> <td>40  </td> <td>50  </td> <td>65  </td>\n",
       "        </tr>\n",
       "        <tr>\n",
       "            <td>1985</td> <td>9   </td> <td>1      </td> <td>85  </td> <td>2       </td> <td>2   </td> <td>1   </td> <td>0   </td> <td>0   </td> <td>0   </td> <td>2      </td> <td>1      </td> <td>0      </td> <td>0      </td> <td>0      </td> <td>45  </td> <td>84  </td> <td>-1  </td> <td>-1  </td> <td>-1  </td>\n",
       "        </tr>\n",
       "        <tr>\n",
       "            <td>1985</td> <td>10  </td> <td>5      </td> <td>65  </td> <td>2       </td> <td>2   </td> <td>9   </td> <td>0   </td> <td>0   </td> <td>0   </td> <td>2      </td> <td>2      </td> <td>0      </td> <td>0      </td> <td>0      </td> <td>65  </td> <td>65  </td> <td>-1  </td> <td>-1  </td> <td>-1  </td>\n",
       "        </tr>\n",
       "    </tbody>\n",
       "</table>\n",
       "<p>... (1521 rows omitted)</p>"
      ],
      "text/plain": [
       "year | id   | marital | age  | numgiven | sex1 | sex2 | sex3 | sex4 | sex5 | spouse1 | spouse2 | spouse3 | spouse4 | spouse5 | age1 | age2 | age3 | age4 | age5\n",
       "1985 | 1    | 1       | 33   | 6        | 1    | 2    | 1    | 1    | 2    | 2       | 1       | 2       | 2       | 2       | 32   | 29   | 32   | 35   | 29\n",
       "1985 | 2    | 1       | 49   | 6        | 2    | 1    | 1    | 2    | 1    | 1       | 2       | 2       | 2       | 2       | 42   | 44   | 45   | 40   | 50\n",
       "1985 | 3    | 5       | 23   | 5        | 2    | 2    | 2    | 2    | 2    | 2       | 2       | 2       | 2       | 2       | 25   | 24   | 46   | 21   | 35\n",
       "1985 | 4    | 5       | 26   | 5        | 2    | 1    | 1    | 1    | 2    | 2       | 2       | 2       | 2       | 2       | 26   | 27   | 28   | 27   | 25\n",
       "1985 | 5    | 5       | 24   | 5        | 2    | 2    | 1    | 1    | 1    | 2       | 2       | 2       | 2       | 2       | 44   | 25   | 20   | 19   | 12\n",
       "1985 | 6    | 5       | 45   | 4        | 1    | 1    | 1    | 2    | 0    | 2       | 2       | 2       | 2       | 0       | 40   | 35   | 44   | 35   | -1\n",
       "1985 | 7    | 5       | 44   | 6        | 2    | 2    | 2    | 2    | 1    | 2       | 2       | 2       | 2       | 2       | 33   | 43   | 41   | 40   | 37\n",
       "1985 | 8    | 5       | 56   | 5        | 2    | 1    | 2    | 1    | 1    | 2       | 2       | 2       | 2       | 2       | 40   | 50   | 40   | 50   | 65\n",
       "1985 | 9    | 1       | 85   | 2        | 2    | 1    | 0    | 0    | 0    | 2       | 1       | 0       | 0       | 0       | 45   | 84   | -1   | -1   | -1\n",
       "1985 | 10   | 5       | 65   | 2        | 2    | 9    | 0    | 0    | 0    | 2       | 2       | 0       | 0       | 0       | 65   | 65   | -1   | -1   | -1\n",
       "... (1521 rows omitted)"
      ]
     },
     "execution_count": 27,
     "metadata": {},
     "output_type": "execute_result"
    }
   ],
   "source": [
    "gss_1985.where('numgiven', are.not_equal_to(9)).where('numgiven', are.above(-1))"
   ]
  },
  {
   "cell_type": "code",
   "execution_count": 28,
   "metadata": {},
   "outputs": [
    {
     "data": {
      "text/html": [
       "<table border=\"1\" class=\"dataframe\">\n",
       "    <thead>\n",
       "        <tr>\n",
       "            <th>year</th> <th>id</th> <th>marital</th> <th>age</th> <th>numgiven</th> <th>sex1</th> <th>sex2</th> <th>sex3</th> <th>sex4</th> <th>sex5</th> <th>spouse1</th> <th>spouse2</th> <th>spouse3</th> <th>spouse4</th> <th>spouse5</th> <th>age1</th> <th>age2</th> <th>age3</th> <th>age4</th> <th>age5</th>\n",
       "        </tr>\n",
       "    </thead>\n",
       "    <tbody>\n",
       "        <tr>\n",
       "            <td>1985</td> <td>1   </td> <td>1      </td> <td>33  </td> <td>6       </td> <td>1   </td> <td>2   </td> <td>1   </td> <td>1   </td> <td>2   </td> <td>2      </td> <td>1      </td> <td>2      </td> <td>2      </td> <td>2      </td> <td>32  </td> <td>29  </td> <td>32  </td> <td>35  </td> <td>29  </td>\n",
       "        </tr>\n",
       "        <tr>\n",
       "            <td>1985</td> <td>2   </td> <td>1      </td> <td>49  </td> <td>6       </td> <td>2   </td> <td>1   </td> <td>1   </td> <td>2   </td> <td>1   </td> <td>1      </td> <td>2      </td> <td>2      </td> <td>2      </td> <td>2      </td> <td>42  </td> <td>44  </td> <td>45  </td> <td>40  </td> <td>50  </td>\n",
       "        </tr>\n",
       "        <tr>\n",
       "            <td>1985</td> <td>3   </td> <td>5      </td> <td>23  </td> <td>5       </td> <td>2   </td> <td>2   </td> <td>2   </td> <td>2   </td> <td>2   </td> <td>2      </td> <td>2      </td> <td>2      </td> <td>2      </td> <td>2      </td> <td>25  </td> <td>24  </td> <td>46  </td> <td>21  </td> <td>35  </td>\n",
       "        </tr>\n",
       "        <tr>\n",
       "            <td>1985</td> <td>4   </td> <td>5      </td> <td>26  </td> <td>5       </td> <td>2   </td> <td>1   </td> <td>1   </td> <td>1   </td> <td>2   </td> <td>2      </td> <td>2      </td> <td>2      </td> <td>2      </td> <td>2      </td> <td>26  </td> <td>27  </td> <td>28  </td> <td>27  </td> <td>25  </td>\n",
       "        </tr>\n",
       "        <tr>\n",
       "            <td>1985</td> <td>5   </td> <td>5      </td> <td>24  </td> <td>5       </td> <td>2   </td> <td>2   </td> <td>1   </td> <td>1   </td> <td>1   </td> <td>2      </td> <td>2      </td> <td>2      </td> <td>2      </td> <td>2      </td> <td>44  </td> <td>25  </td> <td>20  </td> <td>19  </td> <td>12  </td>\n",
       "        </tr>\n",
       "        <tr>\n",
       "            <td>1985</td> <td>6   </td> <td>5      </td> <td>45  </td> <td>4       </td> <td>1   </td> <td>1   </td> <td>1   </td> <td>2   </td> <td>0   </td> <td>2      </td> <td>2      </td> <td>2      </td> <td>2      </td> <td>0      </td> <td>40  </td> <td>35  </td> <td>44  </td> <td>35  </td> <td>-1  </td>\n",
       "        </tr>\n",
       "        <tr>\n",
       "            <td>1985</td> <td>7   </td> <td>5      </td> <td>44  </td> <td>6       </td> <td>2   </td> <td>2   </td> <td>2   </td> <td>2   </td> <td>1   </td> <td>2      </td> <td>2      </td> <td>2      </td> <td>2      </td> <td>2      </td> <td>33  </td> <td>43  </td> <td>41  </td> <td>40  </td> <td>37  </td>\n",
       "        </tr>\n",
       "        <tr>\n",
       "            <td>1985</td> <td>8   </td> <td>5      </td> <td>56  </td> <td>5       </td> <td>2   </td> <td>1   </td> <td>2   </td> <td>1   </td> <td>1   </td> <td>2      </td> <td>2      </td> <td>2      </td> <td>2      </td> <td>2      </td> <td>40  </td> <td>50  </td> <td>40  </td> <td>50  </td> <td>65  </td>\n",
       "        </tr>\n",
       "        <tr>\n",
       "            <td>1985</td> <td>9   </td> <td>1      </td> <td>85  </td> <td>2       </td> <td>2   </td> <td>1   </td> <td>0   </td> <td>0   </td> <td>0   </td> <td>2      </td> <td>1      </td> <td>0      </td> <td>0      </td> <td>0      </td> <td>45  </td> <td>84  </td> <td>-1  </td> <td>-1  </td> <td>-1  </td>\n",
       "        </tr>\n",
       "        <tr>\n",
       "            <td>1985</td> <td>10  </td> <td>5      </td> <td>65  </td> <td>2       </td> <td>2   </td> <td>9   </td> <td>0   </td> <td>0   </td> <td>0   </td> <td>2      </td> <td>2      </td> <td>0      </td> <td>0      </td> <td>0      </td> <td>65  </td> <td>65  </td> <td>-1  </td> <td>-1  </td> <td>-1  </td>\n",
       "        </tr>\n",
       "    </tbody>\n",
       "</table>\n",
       "<p>... (1521 rows omitted)</p>"
      ],
      "text/plain": [
       "year | id   | marital | age  | numgiven | sex1 | sex2 | sex3 | sex4 | sex5 | spouse1 | spouse2 | spouse3 | spouse4 | spouse5 | age1 | age2 | age3 | age4 | age5\n",
       "1985 | 1    | 1       | 33   | 6        | 1    | 2    | 1    | 1    | 2    | 2       | 1       | 2       | 2       | 2       | 32   | 29   | 32   | 35   | 29\n",
       "1985 | 2    | 1       | 49   | 6        | 2    | 1    | 1    | 2    | 1    | 1       | 2       | 2       | 2       | 2       | 42   | 44   | 45   | 40   | 50\n",
       "1985 | 3    | 5       | 23   | 5        | 2    | 2    | 2    | 2    | 2    | 2       | 2       | 2       | 2       | 2       | 25   | 24   | 46   | 21   | 35\n",
       "1985 | 4    | 5       | 26   | 5        | 2    | 1    | 1    | 1    | 2    | 2       | 2       | 2       | 2       | 2       | 26   | 27   | 28   | 27   | 25\n",
       "1985 | 5    | 5       | 24   | 5        | 2    | 2    | 1    | 1    | 1    | 2       | 2       | 2       | 2       | 2       | 44   | 25   | 20   | 19   | 12\n",
       "1985 | 6    | 5       | 45   | 4        | 1    | 1    | 1    | 2    | 0    | 2       | 2       | 2       | 2       | 0       | 40   | 35   | 44   | 35   | -1\n",
       "1985 | 7    | 5       | 44   | 6        | 2    | 2    | 2    | 2    | 1    | 2       | 2       | 2       | 2       | 2       | 33   | 43   | 41   | 40   | 37\n",
       "1985 | 8    | 5       | 56   | 5        | 2    | 1    | 2    | 1    | 1    | 2       | 2       | 2       | 2       | 2       | 40   | 50   | 40   | 50   | 65\n",
       "1985 | 9    | 1       | 85   | 2        | 2    | 1    | 0    | 0    | 0    | 2       | 1       | 0       | 0       | 0       | 45   | 84   | -1   | -1   | -1\n",
       "1985 | 10   | 5       | 65   | 2        | 2    | 9    | 0    | 0    | 0    | 2       | 2       | 0       | 0       | 0       | 65   | 65   | -1   | -1   | -1\n",
       "... (1521 rows omitted)"
      ]
     },
     "execution_count": 28,
     "metadata": {},
     "output_type": "execute_result"
    }
   ],
   "source": [
    "gss_1985.where('numgiven', are.not_equal_to(9))\n",
    "# gss_2004_interviewed.where('numgiven', are.not_equal_to(9))"
   ]
  },
  {
   "cell_type": "code",
   "execution_count": 29,
   "metadata": {},
   "outputs": [],
   "source": [
    "gss_1985_responded = gss_1985.where('numgiven', are.not_equal_to(9)) # SOLUTION #\n",
    "gss_2004_responded = gss_2004_interviewed.where('numgiven', are.not_equal_to(9)) # SOLUTION #"
   ]
  },
  {
   "cell_type": "raw",
   "metadata": {},
   "source": [
    "# END SOLUTION"
   ]
  },
  {
   "cell_type": "raw",
   "metadata": {},
   "source": [
    "# BEGIN TESTS"
   ]
  },
  {
   "cell_type": "code",
   "execution_count": 30,
   "metadata": {},
   "outputs": [
    {
     "data": {
      "text/plain": [
       "True"
      ]
     },
     "execution_count": 30,
     "metadata": {},
     "output_type": "execute_result"
    }
   ],
   "source": [
    "\"\"\" # BEGIN TEST CONFIG\n",
    "failure_message: 2004 survey incorrect number of columns. \n",
    "\"\"\" # END TEST CONFIG\n",
    "np.isclose(gss_2004_responded.num_rows, 1426)"
   ]
  },
  {
   "cell_type": "code",
   "execution_count": 31,
   "metadata": {},
   "outputs": [
    {
     "data": {
      "text/plain": [
       "True"
      ]
     },
     "execution_count": 31,
     "metadata": {},
     "output_type": "execute_result"
    }
   ],
   "source": [
    "\"\"\" # BEGIN TEST CONFIG\n",
    "failure_message: 1985 survey incorrect number of columns\n",
    "\"\"\" # END TEST CONFIG\n",
    "np.isclose(gss_1985_responded.num_rows, 1531)"
   ]
  },
  {
   "cell_type": "raw",
   "metadata": {},
   "source": [
    "# END TESTS"
   ]
  },
  {
   "cell_type": "raw",
   "metadata": {},
   "source": [
    "# END QUESTION "
   ]
  },
  {
   "cell_type": "markdown",
   "metadata": {},
   "source": [
    "Now we have the set of respondents we will study in more detail: those who responded to the 'important matters' question.\n",
    "\n",
    "**For the problems below, please use `gss_1985_responded` and `gss_2004_responded`.**"
   ]
  },
  {
   "cell_type": "markdown",
   "metadata": {},
   "source": [
    "Many analysts have focused on how many survey respondents report that they don't discuss important matters with anyone.  They interpret the fraction of respondents who don't report discussing important matters with anyone as an indicator for the amount of social isolation. (These respondents who report not discussing important matters with anyone have `numgiven` equal to 0.)"
   ]
  },
  {
   "cell_type": "raw",
   "metadata": {},
   "source": [
    "# BEGIN QUESTION\n",
    "name: q8\n",
    "points: 1\n",
    "manual: true"
   ]
  },
  {
   "cell_type": "markdown",
   "metadata": {},
   "source": [
    "## Question 8:\n",
    "Do you think this is a good way to try to quantify social isolation? Name one way this could be a good measure of social isolation, and one way this could be a bad measure of social isolation. Please be specific."
   ]
  },
  {
   "cell_type": "raw",
   "metadata": {},
   "source": [
    "# BEGIN SOLUTION"
   ]
  },
  {
   "cell_type": "markdown",
   "metadata": {},
   "source": [
    "Your response here."
   ]
  },
  {
   "cell_type": "raw",
   "metadata": {},
   "source": [
    "# END SOLUTION"
   ]
  },
  {
   "cell_type": "raw",
   "metadata": {},
   "source": [
    "# END QUESTION"
   ]
  },
  {
   "cell_type": "raw",
   "metadata": {},
   "source": [
    "# BEGIN QUESTION\n",
    "name: q9\n",
    "points: 1"
   ]
  },
  {
   "cell_type": "markdown",
   "metadata": {},
   "source": [
    "## Question 9:\n",
    "For both the 1985 and 2004 datasets, create a new variable, `isolated` which has the value False if the respondent reports discussing important matters with anyone (`numgiven` not equal to 0), and True otherwise (`numgiven` equals to 0).\n"
   ]
  },
  {
   "cell_type": "raw",
   "metadata": {},
   "source": [
    "# BEGIN SOLUTION"
   ]
  },
  {
   "cell_type": "code",
   "execution_count": 32,
   "metadata": {},
   "outputs": [],
   "source": [
    "isolated_1985 = gss_1985_responded.column(\"numgiven\") == 0 # SOLUTION\n",
    "isolated_2004 = gss_2004_responded.column(\"numgiven\") == 0 # SOLUTION"
   ]
  },
  {
   "cell_type": "raw",
   "metadata": {},
   "source": [
    "# END SOLUTION"
   ]
  },
  {
   "cell_type": "raw",
   "metadata": {},
   "source": [
    "# BEGIN TESTS"
   ]
  },
  {
   "cell_type": "code",
   "execution_count": 33,
   "metadata": {},
   "outputs": [
    {
     "data": {
      "text/plain": [
       "True"
      ]
     },
     "execution_count": 33,
     "metadata": {},
     "output_type": "execute_result"
    }
   ],
   "source": [
    "\"\"\" # BEGIN TEST CONFIG\n",
    "failure_message: 1985 survey incorrect number\n",
    "\"\"\" # END TEST CONFIG\n",
    "np.isclose(sum(isolated_1985),136)"
   ]
  },
  {
   "cell_type": "code",
   "execution_count": 34,
   "metadata": {},
   "outputs": [
    {
     "data": {
      "text/plain": [
       "True"
      ]
     },
     "execution_count": 34,
     "metadata": {},
     "output_type": "execute_result"
    }
   ],
   "source": [
    "\"\"\" # BEGIN TEST CONFIG\n",
    "failure_message: 2004 survey incorrect number\n",
    "\"\"\" # END TEST CONFIG\n",
    "np.isclose(sum(isolated_2004), 356)"
   ]
  },
  {
   "cell_type": "raw",
   "metadata": {},
   "source": [
    "# END TESTS"
   ]
  },
  {
   "cell_type": "raw",
   "metadata": {},
   "source": [
    "# END QUESTION"
   ]
  },
  {
   "cell_type": "raw",
   "metadata": {},
   "source": [
    "# BEGIN QUESTION\n",
    "name: q10\n",
    "points: 2 "
   ]
  },
  {
   "cell_type": "markdown",
   "metadata": {},
   "source": [
    "## Question 10:\n",
    "Using the variable you just created, what proportion of respondents was socially isolated in 1985? In 2004?\n",
    "\n",
    "*Hint: we learned how to calculate mean in Lab0*"
   ]
  },
  {
   "cell_type": "raw",
   "metadata": {},
   "source": [
    "# BEGIN SOLUTION"
   ]
  },
  {
   "cell_type": "code",
   "execution_count": 35,
   "metadata": {},
   "outputs": [
    {
     "name": "stdout",
     "output_type": "stream",
     "text": [
      "Proportion isolated in 1985:  0.0888308295232\n",
      "Proportion isolated in 2004:  0.249649368864\n"
     ]
    }
   ],
   "source": [
    "proportion_isolated_1985 = np.mean(isolated_1985) # SOLUTION\n",
    "proportion_isolated_2004 = np.mean(isolated_2004) # SOLUTION\n",
    "\n",
    "print(\"Proportion isolated in 1985: \", proportion_isolated_1985)\n",
    "print(\"Proportion isolated in 2004: \", proportion_isolated_2004)"
   ]
  },
  {
   "cell_type": "raw",
   "metadata": {},
   "source": [
    "# END SOLUTION"
   ]
  },
  {
   "cell_type": "raw",
   "metadata": {},
   "source": [
    "# BEGIN TESTS"
   ]
  },
  {
   "cell_type": "code",
   "execution_count": 36,
   "metadata": {},
   "outputs": [
    {
     "data": {
      "text/plain": [
       "True"
      ]
     },
     "execution_count": 36,
     "metadata": {},
     "output_type": "execute_result"
    }
   ],
   "source": [
    "\"\"\" # BEGIN TEST CONFIG\n",
    "failure_message: 1985 survey incorrect proportion isolated\n",
    "\"\"\" # END TEST CONFIG\n",
    "round(proportion_isolated_1985, 3) == 0.089"
   ]
  },
  {
   "cell_type": "code",
   "execution_count": 37,
   "metadata": {},
   "outputs": [
    {
     "data": {
      "text/plain": [
       "True"
      ]
     },
     "execution_count": 37,
     "metadata": {},
     "output_type": "execute_result"
    }
   ],
   "source": [
    "\"\"\" # BEGIN TEST CONFIG\n",
    "failure_message: 2004 survey incorrect proportion isolated\n",
    "\"\"\" # END TEST CONFIG\n",
    "round(proportion_isolated_2004, 3) == 0.25"
   ]
  },
  {
   "cell_type": "markdown",
   "metadata": {},
   "source": [
    "### Hypothesis Testing:\n",
    "\n",
    "Null Hypothesis (H0): The proportion of isolated GSS respondents is the same in 1985 and 2004.\n",
    "\n",
    "Alternative Hypothesis (H1): The proportion of isolated GSS respondents differs between 1985 and 2004."
   ]
  },
  {
   "cell_type": "code",
   "execution_count": 42,
   "metadata": {},
   "outputs": [
    {
     "name": "stdout",
     "output_type": "stream",
     "text": [
      "136\n",
      "356\n",
      "1531\n",
      "1426\n"
     ]
    },
    {
     "data": {
      "text/plain": [
       "1070"
      ]
     },
     "execution_count": 42,
     "metadata": {},
     "output_type": "execute_result"
    }
   ],
   "source": [
    "print(sum(isolated_1985))\n",
    "print(sum(isolated_2004))\n",
    "print(gss_1985_responded.num_rows)\n",
    "print(gss_2004_responded.num_rows)"
   ]
  },
  {
   "cell_type": "markdown",
   "metadata": {},
   "source": [
    "|| GSS 1985 | GSS 2004 |\n",
    "|--------------|-------------|-----------------|\n",
    "| Isolated | 136 |  356 |\n",
    "| Not Isolated | 1395 | 1070 |\n",
    "| Total | 1531 | 1426 |"
   ]
  },
  {
   "cell_type": "code",
   "execution_count": 58,
   "metadata": {},
   "outputs": [
    {
     "name": "stdout",
     "output_type": "stream",
     "text": [
      "97.4133235946 5.62661469187e-23\n"
     ]
    }
   ],
   "source": [
    "# Pearson's Chi-Square Test\n",
    "table = [np.array([sum(isolated_1985), sum(isolated_2004)]), \n",
    "         np.array([gss_1985_responded.num_rows, gss_2004_responded.num_rows])         ]\n",
    "\n",
    "stat, p, dof, expected = chi2_contingency(table)\n",
    "print(stat, p)\n"
   ]
  },
  {
   "cell_type": "raw",
   "metadata": {},
   "source": [
    "# END TESTS"
   ]
  },
  {
   "cell_type": "raw",
   "metadata": {},
   "source": [
    "# END QUESTION"
   ]
  },
  {
   "cell_type": "raw",
   "metadata": {},
   "source": [
    "# BEGIN QUESTION\n",
    "name: q11\n",
    "points: 1"
   ]
  },
  {
   "cell_type": "markdown",
   "metadata": {},
   "source": [
    "## Question 11:\n",
    "\n",
    "###  Converting from wide to long\n",
    "\n",
    "So far, we have only looked at the relationship between the survey respondents and the first alter that they mentioned. However, we designed our survey so that respondents could tell us about up to five alters. In order to look at all of the alters respondents reported about, we're going to have to manipulate the dataset a bit more extensively. This manipulation is a little bit tricky, but we're going to go through how it can be done step by step.\n",
    "\n",
    "First, let's take a look at the first few rows of the dataset again to remind ourselves of how it is structured:"
   ]
  },
  {
   "cell_type": "code",
   "execution_count": 62,
   "metadata": {},
   "outputs": [
    {
     "data": {
      "text/html": [
       "<table border=\"1\" class=\"dataframe\">\n",
       "    <thead>\n",
       "        <tr>\n",
       "            <th>year</th> <th>id</th> <th>marital</th> <th>age</th> <th>numgiven</th> <th>sex1</th> <th>sex2</th> <th>sex3</th> <th>sex4</th> <th>sex5</th> <th>spouse1</th> <th>spouse2</th> <th>spouse3</th> <th>spouse4</th> <th>spouse5</th> <th>age1</th> <th>age2</th> <th>age3</th> <th>age4</th> <th>age5</th>\n",
       "        </tr>\n",
       "    </thead>\n",
       "    <tbody>\n",
       "        <tr>\n",
       "            <td>1972</td> <td>1   </td> <td>5      </td> <td>23  </td> <td>-1      </td> <td>0   </td> <td>0   </td> <td>0   </td> <td>0   </td> <td>0   </td> <td>0      </td> <td>0      </td> <td>0      </td> <td>0      </td> <td>0      </td> <td>-1  </td> <td>-1  </td> <td>-1  </td> <td>-1  </td> <td>-1  </td>\n",
       "        </tr>\n",
       "        <tr>\n",
       "            <td>1972</td> <td>2   </td> <td>1      </td> <td>70  </td> <td>-1      </td> <td>0   </td> <td>0   </td> <td>0   </td> <td>0   </td> <td>0   </td> <td>0      </td> <td>0      </td> <td>0      </td> <td>0      </td> <td>0      </td> <td>-1  </td> <td>-1  </td> <td>-1  </td> <td>-1  </td> <td>-1  </td>\n",
       "        </tr>\n",
       "        <tr>\n",
       "            <td>1972</td> <td>3   </td> <td>1      </td> <td>48  </td> <td>-1      </td> <td>0   </td> <td>0   </td> <td>0   </td> <td>0   </td> <td>0   </td> <td>0      </td> <td>0      </td> <td>0      </td> <td>0      </td> <td>0      </td> <td>-1  </td> <td>-1  </td> <td>-1  </td> <td>-1  </td> <td>-1  </td>\n",
       "        </tr>\n",
       "        <tr>\n",
       "            <td>1972</td> <td>4   </td> <td>1      </td> <td>27  </td> <td>-1      </td> <td>0   </td> <td>0   </td> <td>0   </td> <td>0   </td> <td>0   </td> <td>0      </td> <td>0      </td> <td>0      </td> <td>0      </td> <td>0      </td> <td>-1  </td> <td>-1  </td> <td>-1  </td> <td>-1  </td> <td>-1  </td>\n",
       "        </tr>\n",
       "        <tr>\n",
       "            <td>1972</td> <td>5   </td> <td>1      </td> <td>61  </td> <td>-1      </td> <td>0   </td> <td>0   </td> <td>0   </td> <td>0   </td> <td>0   </td> <td>0      </td> <td>0      </td> <td>0      </td> <td>0      </td> <td>0      </td> <td>-1  </td> <td>-1  </td> <td>-1  </td> <td>-1  </td> <td>-1  </td>\n",
       "        </tr>\n",
       "        <tr>\n",
       "            <td>1972</td> <td>6   </td> <td>5      </td> <td>26  </td> <td>-1      </td> <td>0   </td> <td>0   </td> <td>0   </td> <td>0   </td> <td>0   </td> <td>0      </td> <td>0      </td> <td>0      </td> <td>0      </td> <td>0      </td> <td>-1  </td> <td>-1  </td> <td>-1  </td> <td>-1  </td> <td>-1  </td>\n",
       "        </tr>\n",
       "    </tbody>\n",
       "</table>\n",
       "<p>... (59593 rows omitted)</p>"
      ],
      "text/plain": [
       "<IPython.core.display.HTML object>"
      ]
     },
     "metadata": {},
     "output_type": "display_data"
    }
   ],
   "source": [
    "gss_data.show(6)"
   ]
  },
  {
   "cell_type": "markdown",
   "metadata": {},
   "source": [
    "The dataset is in *wide* format: all of the information reported by a respondent is stored in a single row:\n",
    "\n",
    "[respondent 1 info] ... [info about respondent 1's first alter] ... [info about respondent 1's second alter] ...   \n",
    "[respondent 2 info] ... [info about respondent 2's first alter] ... [info about respondent 2's second alter] ...   \n",
    "...\n",
    "\n",
    "Our goal is to reshape the dataset so that the information is in *long* format instead:\n",
    "\n",
    "[respondent 1 info] [info about respondent 1's first alter]  \n",
    "[respondent 1 info] [info about respondent 1's second alter]  \n",
    "[respondent 1 info] [info about respondent 1's third alter]  \n",
    "[respondent 1 info] [info about respondent 1's fourth alter]  \n",
    "[respondent 1 info] [info about respondent 1's fifth alter]  \n",
    "[respondent 2 info] [info about respondent 2's first alter]  \n",
    "[respondent 2 info] [info about respondent 2's second alter]  \n",
    "..."
   ]
  },
  {
   "cell_type": "markdown",
   "metadata": {},
   "source": [
    "In order to convert the alter information from wide to long format, we're going to use two functions that have been written for you below.\n",
    "\n",
    "Let's look at the function below and try to understand how it works.\n",
    "\n",
    "PS The portion highlighted in red is called a docstring. It describes what the function does and gives examples. The code following \">>>\" is fully executable and the following line is what that function call should return."
   ]
  },
  {
   "cell_type": "code",
   "execution_count": null,
   "metadata": {},
   "outputs": [],
   "source": [
    "def repeat_single_col(data, var_name, times=5):\n",
    "    \"\"\"Repeats a single column multiple times.\n",
    "    \n",
    "    Parameters\n",
    "    ----------\n",
    "    var_name : str\n",
    "        Text that contains the name of the column to repeat.\n",
    "    \n",
    "    Returns\n",
    "    -------\n",
    "    np.array\n",
    "        A single array with the contents of the column repeated five times.\n",
    "    \n",
    "    Examples\n",
    "    --------\n",
    "    >>> repeat_single_col(Table().with_columns(['respondent_age', [10]]),\n",
    "                          'respondent_age')\n",
    "    \n",
    "    array([10, 10, 10, 10, 10])\n",
    "    \"\"\"\n",
    "    new_col = np.tile(data.column(var_name), times)\n",
    "    return new_col\n",
    "\n",
    "def wide_to_long(data, var_name, times=5):\n",
    "    \"\"\"Given columns of alter characteristics, stack them into one long column.\n",
    "    \n",
    "    Parameters\n",
    "    ----------\n",
    "    data : Table\n",
    "        The data table containing the alter characteristics\n",
    "    var_name : str\n",
    "        Text that contains the variable name; columns of the dataset should\n",
    "        match the pattern: [var_name][alter_number]\n",
    "        For example, if var_name is 'age' then this function expects to find\n",
    "        columns in the survey dataset named \n",
    "        'age1', 'age2', 'age3', 'age4', and 'age5'\n",
    "    times : int\n",
    "        The number of columns for each characteristic\n",
    "    \n",
    "    Returns\n",
    "    -------\n",
    "    np.array\n",
    "        A single array with the contents of all of the columns stacked on top of one another.\n",
    "    \n",
    "    Examples\n",
    "    --------\n",
    "    >>> wide_to_long(Table().with_columns(['age1', [10, 15],\n",
    "                                           'age2', [30, 35],\n",
    "                                           'age3', [20, 15],\n",
    "                                           'age4', [60, 70],\n",
    "                                           'age5', [20, 25]]),\n",
    "                     'age')\n",
    "    \n",
    "    array([10, 15, 30, 35, 20, 15, 60, 70, 20, 25])\n",
    "    \"\"\"\n",
    "    new_col = np.concatenate([data.column(var_name + str(idx)) for idx in range(1,times+1)])\n",
    "    return new_col"
   ]
  },
  {
   "cell_type": "code",
   "execution_count": null,
   "metadata": {},
   "outputs": [],
   "source": [
    "# BEGIN SOLUTION NO PROMPT\n",
    "gss_1985_long_raw = Table().with_columns([\n",
    "    'respondent_age', repeat_single_col(gss_1985_responded, 'age'),\n",
    "    'alter_age', wide_to_long(gss_1985_responded, 'age'),\n",
    "    'alter_gender', wide_to_long(gss_1985_responded, 'sex')])\n",
    "gss_2004_long_raw = Table().with_columns([\n",
    "    'respondent_age', repeat_single_col(gss_2004_responded, 'age'),\n",
    "    'alter_age', wide_to_long(gss_2004_responded, 'age'),\n",
    "    'alter_gender', wide_to_long(gss_2004_responded, 'sex')])\n",
    "# END SOLUTION\n",
    "\"\"\" # BEGIN PROMPT\n",
    "gss_1985_long_raw = ...\n",
    "gss_2004_long_raw = ...\n",
    "\"\"\"; # END PROMPT"
   ]
  },
  {
   "cell_type": "raw",
   "metadata": {},
   "source": [
    "# END SOLUTION"
   ]
  },
  {
   "cell_type": "raw",
   "metadata": {},
   "source": [
    "# BEGIN TESTS"
   ]
  },
  {
   "cell_type": "code",
   "execution_count": null,
   "metadata": {},
   "outputs": [
    {
     "data": {
      "text/plain": [
       "True"
      ]
     },
     "metadata": {},
     "output_type": "display_data"
    }
   ],
   "source": [
    "\"\"\" # BEGIN TEST CONFIG\n",
    "failure_message: 1985 incorrect number of rows. Hint- use `repeat_single_col` to replicate ego information and `wide_to_long` to pivot the alter information, as done in lab1\n",
    "\"\"\" # END TEST CONFIG\n",
    "gss_1985_long_raw.num_rows == 7655"
   ]
  },
  {
   "cell_type": "code",
   "execution_count": null,
   "metadata": {},
   "outputs": [
    {
     "data": {
      "text/plain": [
       "True"
      ]
     },
     "metadata": {},
     "output_type": "display_data"
    }
   ],
   "source": [
    "\"\"\" # BEGIN TEST CONFIG\n",
    "failure_message: 2004 incorrect number of rows. Hint- use `repeat_single_col` to replicate ego information and `wide_to_long` to pivot the alter information, as done in lab1\n",
    "\"\"\" # END TEST CONFIG\n",
    "gss_2004_long_raw.num_rows == 7130"
   ]
  },
  {
   "cell_type": "raw",
   "metadata": {},
   "source": [
    "# END TESTS"
   ]
  },
  {
   "cell_type": "raw",
   "metadata": {},
   "source": [
    "# END QUESTION"
   ]
  },
  {
   "cell_type": "code",
   "execution_count": null,
   "metadata": {},
   "outputs": [
    {
     "data": {
      "text/html": [
       "<table border=\"1\" class=\"dataframe\">\n",
       "    <thead>\n",
       "        <tr>\n",
       "            <th>year</th> <th>id</th> <th>marital</th> <th>age</th> <th>numgiven</th> <th>sex1</th> <th>sex2</th> <th>sex3</th> <th>sex4</th> <th>sex5</th> <th>spouse1</th> <th>spouse2</th> <th>spouse3</th> <th>spouse4</th> <th>spouse5</th> <th>age1</th> <th>age2</th> <th>age3</th> <th>age4</th> <th>age5</th>\n",
       "        </tr>\n",
       "    </thead>\n",
       "    <tbody>\n",
       "        <tr>\n",
       "            <td>1985</td> <td>1   </td> <td>1      </td> <td>33  </td> <td>6       </td> <td>1   </td> <td>2   </td> <td>1   </td> <td>1   </td> <td>2   </td> <td>2      </td> <td>1      </td> <td>2      </td> <td>2      </td> <td>2      </td> <td>32  </td> <td>29  </td> <td>32  </td> <td>35  </td> <td>29  </td>\n",
       "        </tr>\n",
       "        <tr>\n",
       "            <td>1985</td> <td>2   </td> <td>1      </td> <td>49  </td> <td>6       </td> <td>2   </td> <td>1   </td> <td>1   </td> <td>2   </td> <td>1   </td> <td>1      </td> <td>2      </td> <td>2      </td> <td>2      </td> <td>2      </td> <td>42  </td> <td>44  </td> <td>45  </td> <td>40  </td> <td>50  </td>\n",
       "        </tr>\n",
       "        <tr>\n",
       "            <td>1985</td> <td>3   </td> <td>5      </td> <td>23  </td> <td>5       </td> <td>2   </td> <td>2   </td> <td>2   </td> <td>2   </td> <td>2   </td> <td>2      </td> <td>2      </td> <td>2      </td> <td>2      </td> <td>2      </td> <td>25  </td> <td>24  </td> <td>46  </td> <td>21  </td> <td>35  </td>\n",
       "        </tr>\n",
       "        <tr>\n",
       "            <td>1985</td> <td>4   </td> <td>5      </td> <td>26  </td> <td>5       </td> <td>2   </td> <td>1   </td> <td>1   </td> <td>1   </td> <td>2   </td> <td>2      </td> <td>2      </td> <td>2      </td> <td>2      </td> <td>2      </td> <td>26  </td> <td>27  </td> <td>28  </td> <td>27  </td> <td>25  </td>\n",
       "        </tr>\n",
       "        <tr>\n",
       "            <td>1985</td> <td>5   </td> <td>5      </td> <td>24  </td> <td>5       </td> <td>2   </td> <td>2   </td> <td>1   </td> <td>1   </td> <td>1   </td> <td>2      </td> <td>2      </td> <td>2      </td> <td>2      </td> <td>2      </td> <td>44  </td> <td>25  </td> <td>20  </td> <td>19  </td> <td>12  </td>\n",
       "        </tr>\n",
       "        <tr>\n",
       "            <td>1985</td> <td>6   </td> <td>5      </td> <td>45  </td> <td>4       </td> <td>1   </td> <td>1   </td> <td>1   </td> <td>2   </td> <td>0   </td> <td>2      </td> <td>2      </td> <td>2      </td> <td>2      </td> <td>0      </td> <td>40  </td> <td>35  </td> <td>44  </td> <td>35  </td> <td>-1  </td>\n",
       "        </tr>\n",
       "        <tr>\n",
       "            <td>1985</td> <td>7   </td> <td>5      </td> <td>44  </td> <td>6       </td> <td>2   </td> <td>2   </td> <td>2   </td> <td>2   </td> <td>1   </td> <td>2      </td> <td>2      </td> <td>2      </td> <td>2      </td> <td>2      </td> <td>33  </td> <td>43  </td> <td>41  </td> <td>40  </td> <td>37  </td>\n",
       "        </tr>\n",
       "        <tr>\n",
       "            <td>1985</td> <td>8   </td> <td>5      </td> <td>56  </td> <td>5       </td> <td>2   </td> <td>1   </td> <td>2   </td> <td>1   </td> <td>1   </td> <td>2      </td> <td>2      </td> <td>2      </td> <td>2      </td> <td>2      </td> <td>40  </td> <td>50  </td> <td>40  </td> <td>50  </td> <td>65  </td>\n",
       "        </tr>\n",
       "        <tr>\n",
       "            <td>1985</td> <td>9   </td> <td>1      </td> <td>85  </td> <td>2       </td> <td>2   </td> <td>1   </td> <td>0   </td> <td>0   </td> <td>0   </td> <td>2      </td> <td>1      </td> <td>0      </td> <td>0      </td> <td>0      </td> <td>45  </td> <td>84  </td> <td>-1  </td> <td>-1  </td> <td>-1  </td>\n",
       "        </tr>\n",
       "        <tr>\n",
       "            <td>1985</td> <td>10  </td> <td>5      </td> <td>65  </td> <td>2       </td> <td>2   </td> <td>9   </td> <td>0   </td> <td>0   </td> <td>0   </td> <td>2      </td> <td>2      </td> <td>0      </td> <td>0      </td> <td>0      </td> <td>65  </td> <td>65  </td> <td>-1  </td> <td>-1  </td> <td>-1  </td>\n",
       "        </tr>\n",
       "    </tbody>\n",
       "</table>\n",
       "<p>... (1521 rows omitted)</p>"
      ],
      "text/plain": [
       "<IPython.core.display.HTML object>"
      ]
     },
     "metadata": {},
     "output_type": "display_data"
    }
   ],
   "source": [
    "gss_1985_responded.show(10)"
   ]
  },
  {
   "cell_type": "raw",
   "metadata": {},
   "source": [
    "# BEGIN QUESTION\n",
    "name: q13\n",
    "points: 1"
   ]
  },
  {
   "cell_type": "markdown",
   "metadata": {},
   "source": [
    "## Question 13:\n",
    "Not all respondents reported 5 alters. In cases where alter information is missing, `alter_age` is coded as -1. Furthermore, in cases where respondents did report about an alter, but they did not know or refused to give the alter's age, [the codebook](http://gss.norc.org/documents/codebook/GSS_Codebook.pdf) tells use that `alter_age` will have the value 98 or 99.\n",
    "\n",
    "Create the Tables gss_1985_long and gss_2004_long, which start from `gss_1985_long_raw` and `gss_2004_long_raw` and filter out rows where `alter_age` equals -1, 98, or 99 so that we are left with only actual reported alters whose age was given.\n",
    "\n",
    "Hint: use `.where()` to perform filtering."
   ]
  },
  {
   "cell_type": "raw",
   "metadata": {},
   "source": [
    "# BEGIN SOLUTION"
   ]
  },
  {
   "cell_type": "code",
   "execution_count": null,
   "metadata": {},
   "outputs": [],
   "source": [
    "# BEGIN SOLUTION NO PROMPT\n",
    "gss_1985_long = gss_1985_long_raw.where('alter_age', are.not_equal_to(-1))\n",
    "gss_1985_long = gss_1985_long.where('alter_age', are.not_equal_to(98))\n",
    "gss_1985_long = gss_1985_long.where('alter_age', are.not_equal_to(99))\n",
    "\n",
    "gss_2004_long = gss_2004_long_raw.where('alter_age', are.not_equal_to(-1))\n",
    "gss_2004_long = gss_2004_long.where('alter_age', are.not_equal_to(98))\n",
    "gss_2004_long = gss_2004_long.where('alter_age', are.not_equal_to(99))\n",
    "# END SOLUTION \n",
    "\"\"\" # BEGIN PROMPT\n",
    "gss_1985_long = gss_1985_long_raw.where(...)\n",
    "gss_1985_long = gss_1985_long.where(...)\n",
    "gss_1985_long = gss_1985_long.where(...)\n",
    "\n",
    "gss_2004_long = gss_2004_long_raw.where(...)\n",
    "gss_2004_long = gss_2004_long.where(...)\n",
    "gss_2004_long = gss_2004_long.where(...)\n",
    "\"\"\"; # END PROMPT"
   ]
  },
  {
   "cell_type": "raw",
   "metadata": {},
   "source": [
    "# END SOLUTION"
   ]
  },
  {
   "cell_type": "raw",
   "metadata": {},
   "source": [
    "# BEGIN TESTS"
   ]
  },
  {
   "cell_type": "code",
   "execution_count": null,
   "metadata": {},
   "outputs": [
    {
     "data": {
      "text/plain": [
       "True"
      ]
     },
     "metadata": {},
     "output_type": "display_data"
    }
   ],
   "source": [
    "\"\"\" # BEGIN TEST CONFIG\n",
    "failure_message: 1985 incorrect number of rows. \n",
    "\"\"\" # END TEST CONFIG\n",
    "gss_1985_long.num_rows == 4429"
   ]
  },
  {
   "cell_type": "code",
   "execution_count": null,
   "metadata": {},
   "outputs": [
    {
     "data": {
      "text/plain": [
       "True"
      ]
     },
     "metadata": {},
     "output_type": "display_data"
    }
   ],
   "source": [
    "\"\"\" # BEGIN TEST CONFIG\n",
    "failure_message: 2004 incorrect number of rows. \n",
    "\"\"\" # END TEST CONFIG\n",
    "gss_2004_long.num_rows == 2811"
   ]
  },
  {
   "cell_type": "raw",
   "metadata": {},
   "source": [
    "# END TESTS"
   ]
  },
  {
   "cell_type": "raw",
   "metadata": {},
   "source": [
    "# END QUESTION"
   ]
  },
  {
   "cell_type": "raw",
   "metadata": {},
   "source": [
    "# BEGIN QUESTION\n",
    "name: q14\n",
    "points: 2\n",
    "manual: true"
   ]
  },
  {
   "cell_type": "markdown",
   "metadata": {},
   "source": [
    "## Question 14:\n",
    "Create a scatterplot of the respondent's age and the alter's age (make a separate plot for 1985 and for 2004)."
   ]
  },
  {
   "cell_type": "raw",
   "metadata": {},
   "source": [
    "# BEGIN SOLUTION"
   ]
  },
  {
   "cell_type": "code",
   "execution_count": null,
   "metadata": {},
   "outputs": [
    {
     "data": {
      "image/png": "[encoded data removed]",
      "text/plain": [
       "<Figure size 360x360 with 1 Axes>"
      ]
     },
     "metadata": {},
     "output_type": "display_data"
    }
   ],
   "source": [
    "# BEGIN SOLUTION NO PROMPT\n",
    "gss_1985_long.scatter('respondent_age', 'alter_age')\n",
    "# END SOLUTION\n",
    "\"\"\" # BEGIN PROMPT\n",
    "gss_1985_long.scatter(...)\n",
    "\"\"\"; # END PROMPT"
   ]
  },
  {
   "cell_type": "raw",
   "metadata": {},
   "source": [
    "# END SOLUTION"
   ]
  },
  {
   "cell_type": "raw",
   "metadata": {},
   "source": [
    "# BEGIN SOLUTION"
   ]
  },
  {
   "cell_type": "code",
   "execution_count": null,
   "metadata": {},
   "outputs": [
    {
     "data": {
      "image/png": "[encoded data removed]",
      "text/plain": [
       "<Figure size 360x360 with 1 Axes>"
      ]
     },
     "metadata": {},
     "output_type": "display_data"
    }
   ],
   "source": [
    "# BEGIN SOLUTION NO PROMPT\n",
    "gss_2004_long.scatter('respondent_age', 'alter_age')\n",
    "# END SOLUTION\n",
    "\"\"\" # BEGIN PROMPT\n",
    "gss_2004_long.scatter(...)\n",
    "\"\"\"; # END PROMPT"
   ]
  },
  {
   "cell_type": "raw",
   "metadata": {},
   "source": [
    "# END SOLUTION"
   ]
  },
  {
   "cell_type": "raw",
   "metadata": {},
   "source": [
    "# END QUESTION"
   ]
  },
  {
   "cell_type": "raw",
   "metadata": {},
   "source": [
    "# BEGIN QUESTION\n",
    "name: q15\n",
    "points: 1\n",
    "manual: true"
   ]
  },
  {
   "cell_type": "markdown",
   "metadata": {},
   "source": [
    "### Sampling Variation and Bootstrapping\n",
    "\n",
    "In the graphs above, we visualized the degree distribution for different Add Health networks. You can see that these networks vary in the number of nodes, edges, degrees, and components. Variation is a natural part of real-world data.\n",
    "\n",
    "However, most data we collect is based on a \"sample\" of some sort. For example, the dataset we will create with your Homework 1 personal networks survey tells us something about the personal networks of Berkeley students.\n",
    "But if we talked to a different set of Berkeley students, we could get a different answer. How do we know if what we observe in our sample is a good reflection of the real world? How does the variation in our sample relate to variation in the real world?\n",
    "\n",
    "We can actually estimate the sampling variation within our data, if we assume our data is sampled randomly. (This is a stretch, of course - we won't actually take a random sample. What difference might we expect between the people in our dataset and a randomly selected set of Berkeley students?)\n",
    "\n",
    "In order to estimate the sampling variation, we'll use an approach called resampling or the bootstrap. This is a topic we'll cover in more depth later, but this is a quick introduction.\n",
    "\n",
    "Bootstrapping involves resampling the data. If we picture our data sample as a bag of coins, where each coin is an observation, bootstrapping is the processing of reaching back into the bag and randomly drawing from the sample we've already collected. Let us resample the number of nodes in the Add Health networks:\n"
   ]
  },
  {
   "cell_type": "code",
   "execution_count": null,
   "metadata": {},
   "outputs": [],
   "source": [
    "resampled_survey = gss_data.select('numgiven').sample()"
   ]
  },
  {
   "cell_type": "markdown",
   "metadata": {},
   "source": [
    "To see what happened here, let's look at resampled_survey:"
   ]
  },
  {
   "cell_type": "code",
   "execution_count": null,
   "metadata": {},
   "outputs": [
    {
     "data": {
      "text/html": [
       "<table border=\"1\" class=\"dataframe\">\n",
       "    <thead>\n",
       "        <tr>\n",
       "            <th>numgiven</th>\n",
       "        </tr>\n",
       "    </thead>\n",
       "    <tbody>\n",
       "        <tr>\n",
       "            <td>-1      </td>\n",
       "        </tr>\n",
       "        <tr>\n",
       "            <td>-1      </td>\n",
       "        </tr>\n",
       "        <tr>\n",
       "            <td>-1      </td>\n",
       "        </tr>\n",
       "        <tr>\n",
       "            <td>-1      </td>\n",
       "        </tr>\n",
       "        <tr>\n",
       "            <td>-1      </td>\n",
       "        </tr>\n",
       "        <tr>\n",
       "            <td>-1      </td>\n",
       "        </tr>\n",
       "        <tr>\n",
       "            <td>-1      </td>\n",
       "        </tr>\n",
       "        <tr>\n",
       "            <td>-1      </td>\n",
       "        </tr>\n",
       "        <tr>\n",
       "            <td>-1      </td>\n",
       "        </tr>\n",
       "        <tr>\n",
       "            <td>-1      </td>\n",
       "        </tr>\n",
       "    </tbody>\n",
       "</table>\n",
       "<p>... (59589 rows omitted)</p>"
      ],
      "text/plain": [
       "numgiven\n",
       "-1\n",
       "-1\n",
       "-1\n",
       "-1\n",
       "-1\n",
       "-1\n",
       "-1\n",
       "-1\n",
       "-1\n",
       "-1\n",
       "... (59589 rows omitted)"
      ]
     },
     "metadata": {},
     "output_type": "display_data"
    }
   ],
   "source": [
    "resampled_survey"
   ]
  },
  {
   "cell_type": "markdown",
   "metadata": {},
   "source": [
    "`resampled_survey` is a random sample of the data from the `number of nodes` values recorded in the original survey dataset.\n",
    "To estimate the sampling variation, we need many resamples. So we'll stick the resampling in a loop:"
   ]
  },
  {
   "cell_type": "code",
   "execution_count": null,
   "metadata": {},
   "outputs": [
    {
     "ename": "KeyboardInterrupt",
     "evalue": "",
     "output_type": "error",
     "traceback": [
      "\u001b[1;31m---------------------------------------------------------------------------\u001b[0m\n",
      "\u001b[1;31mKeyboardInterrupt\u001b[0m                         Traceback (most recent call last)\n",
      "Cell \u001b[1;32mIn[64], line 7\u001b[0m\n",
      "\u001b[0;32m      3\u001b[0m \u001b[38;5;28;01mfor\u001b[39;00m _ \u001b[38;5;129;01min\u001b[39;00m np\u001b[38;5;241m.\u001b[39marange(\u001b[38;5;241m10000\u001b[39m):\n",
      "\u001b[0;32m      4\u001b[0m     \u001b[38;5;66;03m# NB: num_responses rows in our dataset\u001b[39;00m\n",
      "\u001b[0;32m      5\u001b[0m     resampled_survey \u001b[38;5;241m=\u001b[39m gss_data\u001b[38;5;241m.\u001b[39mselect(\u001b[38;5;124m'\u001b[39m\u001b[38;5;124mnumgiven\u001b[39m\u001b[38;5;124m'\u001b[39m)\u001b[38;5;241m.\u001b[39msample()  \u001b[38;5;66;03m# resample the survey\u001b[39;00m\n",
      "\u001b[0;32m      6\u001b[0m     resampled_number_nodes \u001b[38;5;241m=\u001b[39m np\u001b[38;5;241m.\u001b[39mappend(resampled_number_nodes, \n",
      "\u001b[1;32m----> 7\u001b[0m                                         \u001b[43mnp\u001b[49m\u001b[38;5;241;43m.\u001b[39;49m\u001b[43mmean\u001b[49m\u001b[43m(\u001b[49m\u001b[43mresampled_survey\u001b[49m\u001b[43m[\u001b[49m\u001b[38;5;124;43m'\u001b[39;49m\u001b[38;5;124;43mnumgiven\u001b[39;49m\u001b[38;5;124;43m'\u001b[39;49m\u001b[43m]\u001b[49m\u001b[43m)\u001b[49m) \u001b[38;5;66;03m# calculate the mean and add it to our list of means\u001b[39;00m\n",
      "\u001b[0;32m      8\u001b[0m resampled_net_size \u001b[38;5;241m=\u001b[39m Table()\u001b[38;5;241m.\u001b[39mwith_column(\u001b[38;5;124m'\u001b[39m\u001b[38;5;124mnumgiven\u001b[39m\u001b[38;5;124m'\u001b[39m, resampled_number_nodes)\n",
      "\n",
      "File \u001b[1;32m~\\AppData\\Local\\Packages\\PythonSoftwareFoundation.Python.3.11_qbz5n2kfra8p0\\LocalCache\\local-packages\\Python311\\site-packages\\numpy\\_core\\fromnumeric.py:3904\u001b[0m, in \u001b[0;36mmean\u001b[1;34m(a, axis, dtype, out, keepdims, where)\u001b[0m\n",
      "\u001b[0;32m   3901\u001b[0m     \u001b[38;5;28;01melse\u001b[39;00m:\n",
      "\u001b[0;32m   3902\u001b[0m         \u001b[38;5;28;01mreturn\u001b[39;00m mean(axis\u001b[38;5;241m=\u001b[39maxis, dtype\u001b[38;5;241m=\u001b[39mdtype, out\u001b[38;5;241m=\u001b[39mout, \u001b[38;5;241m*\u001b[39m\u001b[38;5;241m*\u001b[39mkwargs)\n",
      "\u001b[1;32m-> 3904\u001b[0m \u001b[38;5;28;01mreturn\u001b[39;00m \u001b[43m_methods\u001b[49m\u001b[38;5;241;43m.\u001b[39;49m\u001b[43m_mean\u001b[49m\u001b[43m(\u001b[49m\u001b[43ma\u001b[49m\u001b[43m,\u001b[49m\u001b[43m \u001b[49m\u001b[43maxis\u001b[49m\u001b[38;5;241;43m=\u001b[39;49m\u001b[43maxis\u001b[49m\u001b[43m,\u001b[49m\u001b[43m \u001b[49m\u001b[43mdtype\u001b[49m\u001b[38;5;241;43m=\u001b[39;49m\u001b[43mdtype\u001b[49m\u001b[43m,\u001b[49m\n",
      "\u001b[0;32m   3905\u001b[0m \u001b[43m                      \u001b[49m\u001b[43mout\u001b[49m\u001b[38;5;241;43m=\u001b[39;49m\u001b[43mout\u001b[49m\u001b[43m,\u001b[49m\u001b[43m \u001b[49m\u001b[38;5;241;43m*\u001b[39;49m\u001b[38;5;241;43m*\u001b[39;49m\u001b[43mkwargs\u001b[49m\u001b[43m)\u001b[49m\n",
      "\n",
      "File \u001b[1;32m~\\AppData\\Local\\Packages\\PythonSoftwareFoundation.Python.3.11_qbz5n2kfra8p0\\LocalCache\\local-packages\\Python311\\site-packages\\numpy\\_core\\_methods.py:136\u001b[0m, in \u001b[0;36m_mean\u001b[1;34m(a, axis, dtype, out, keepdims, where)\u001b[0m\n",
      "\u001b[0;32m    133\u001b[0m         dtype \u001b[38;5;241m=\u001b[39m mu\u001b[38;5;241m.\u001b[39mdtype(\u001b[38;5;124m'\u001b[39m\u001b[38;5;124mf4\u001b[39m\u001b[38;5;124m'\u001b[39m)\n",
      "\u001b[0;32m    134\u001b[0m         is_float16_result \u001b[38;5;241m=\u001b[39m \u001b[38;5;28;01mTrue\u001b[39;00m\n",
      "\u001b[1;32m--> 136\u001b[0m ret \u001b[38;5;241m=\u001b[39m umr_sum(arr, axis, dtype, out, keepdims, where\u001b[38;5;241m=\u001b[39mwhere)\n",
      "\u001b[0;32m    137\u001b[0m \u001b[38;5;28;01mif\u001b[39;00m \u001b[38;5;28misinstance\u001b[39m(ret, mu\u001b[38;5;241m.\u001b[39mndarray):\n",
      "\u001b[0;32m    138\u001b[0m     \u001b[38;5;28;01mwith\u001b[39;00m _no_nep50_warning():\n",
      "\n",
      "\u001b[1;31mKeyboardInterrupt\u001b[0m: "
     ]
    }
   ],
   "source": [
    "resampled_number_nodes = make_array()\n",
    "\n",
    "for _ in np.arange(10000):\n",
    "    # NB: num_responses rows in our dataset\n",
    "    resampled_survey = gss_data.select('numgiven').sample()  # resample the survey\n",
    "    resampled_number_nodes = np.append(resampled_number_nodes, \n",
    "                                        np.mean(resampled_survey['numgiven'])) # calculate the mean and add it to our list of means\n",
    "resampled_net_size = Table().with_column('numgiven', resampled_number_nodes)"
   ]
  },
  {
   "cell_type": "markdown",
   "metadata": {},
   "source": [
    "'resampled_number_nodes' now has the average number of nodes calculated for many different resamples of our data.\n",
    "\n",
    "Let's look at the distribution of resampled number of nodes"
   ]
  },
  {
   "cell_type": "code",
   "execution_count": null,
   "metadata": {},
   "outputs": [
    {
     "data": {
      "image/png": "[encoded data removed]",
      "text/plain": [
       "<Figure size 432x288 with 1 Axes>"
      ]
     },
     "metadata": {},
     "output_type": "display_data"
    }
   ],
   "source": [
    "resampled_net_size.hist('num_nodes')"
   ]
  }
 ],
 "metadata": {
  "kernelspec": {
   "display_name": "Python 3",
   "language": "python",
   "name": "python3"
  },
  "language_info": {
   "codemirror_mode": {
    "name": "ipython",
    "version": 3
   },
   "file_extension": ".py",
   "mimetype": "text/x-python",
   "name": "python",
   "nbconvert_exporter": "python",
   "pygments_lexer": "ipython3",
   "version": "3.11.9"
  }
 },
 "nbformat": 4,
 "nbformat_minor": 2
}
